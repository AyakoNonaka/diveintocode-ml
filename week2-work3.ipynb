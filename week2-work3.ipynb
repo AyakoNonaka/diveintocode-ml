{
 "cells": [
  {
   "cell_type": "markdown",
   "metadata": {},
   "source": [
    "# Week2事業前課題3"
   ]
  },
  {
   "cell_type": "markdown",
   "metadata": {},
   "source": [
    "## 【課題1】内積を手計算しよう\n",
    "以下のような行列A,Bを考えます。\n",
    "\n",
    "行列の内積A*Bを手計算で解きなさい。"
   ]
  },
  {
   "cell_type": "code",
   "execution_count": null,
   "metadata": {
    "collapsed": true
   },
   "outputs": [],
   "source": [
    "A*B=[-1*0 + 2*0 + 3*2, -1*2 + 2*2 + 3*9, -1*1 + 2*-8 + 3*-1]\n",
    "         [4*0 + 5*0 + 6*2, 4*2 + -5*2 +6*9, 4*1 + -5*-8 + 6*-1]\n",
    "         [7*0 + 8*0 + -9*2, 7*2 + 8*2 +-9*9, 7*1 + 8*-8 + -9*-1]\n",
    "       =[6, 29, -20]\n",
    "         [12, 52, 38]\n",
    "         [-18, -51, -48]"
   ]
  },
  {
   "cell_type": "markdown",
   "metadata": {},
   "source": [
    "## 【課題2】1次元配列の内積をfor文で計算しよう\n",
    "これ以降の課題はNumPyを使って解いてください。\n",
    "\n",
    "【課題1】では手計算してもらいました。一つ一つの演算はさほど難しくありませんが、演算数は多くかなり面倒くさかったと思います。\n",
    "\n",
    "この演算をpythonを使って実装するとどうなるのでしょうか？\n",
    "\n",
    "手計算する際には、まず行列Aの1行目と行列Bの1列目に注目したと思います。そして、\n",
    "\n",
    "行列Aの(0,0)の要素と行列Bの(0,0)の要素を掛け合わせる\n",
    "行列Aの(0,1)の要素と行列Bの(1,0)の要素を掛け合わせる\n",
    "行列Aの(0,2)の要素と行列Bの(2,0)の要素を掛け合わせる\n",
    "それらの値を全て足し合わせる\n",
    "というフローを得て、ようやく一つ目の要素が求まるわけです。\n",
    "\n",
    "次の要素を計算するには、行列のindexを増やし、上の過程を再度繰り返して行けば良いわけです。下図のようなイメージですね。\n",
    "Image from Gyazo\n",
    "\n",
    "まずは、ご自身で配列のindexを指定し、\n",
    "\n",
    "行列Aの(0,0)の要素と行列Bの(0,1)の要素を掛け合わせる\n",
    "行列Aの(0,1)の要素と行列Bの(1,1)の要素を掛け合わせる\n",
    "行列Aの(0,2)の要素と行列Bの(2,1)の要素を掛け合わせる\n",
    "それらの値を全て足し合わせる\n",
    "のフローをfor文を使って計算してください。"
   ]
  },
  {
   "cell_type": "code",
   "execution_count": 23,
   "metadata": {
    "collapsed": false
   },
   "outputs": [
    {
     "data": {
      "text/plain": [
       "6"
      ]
     },
     "execution_count": 23,
     "metadata": {},
     "output_type": "execute_result"
    }
   ],
   "source": [
    "import numpy as np\n",
    "\n",
    "A = np.array([[-1, 2, 3],\n",
    "       [4, -5, 6],\n",
    "       [7, 8, -9]])\n",
    "B = np.array([[0, 2, 1],\n",
    "       [0, 2, -8],\n",
    "       [2, 9, -1]])\n",
    "\n",
    "elem = []\n",
    "\n",
    "for i in range(3):\n",
    "    \n",
    "    test = A[0,i]  * B[i,0] \n",
    "    elem.append(test)\n",
    "    \n",
    "sum(elem)"
   ]
  },
  {
   "cell_type": "markdown",
   "metadata": {},
   "source": [
    "## 【課題3】多次元配列の内積をfor文で計算しよう\n",
    "【課題2】ではA*Bの(0,0)だけ計算するコードを実装してもらいましたが、全要素を求めるにはどうしたら良いでしょうか？\n",
    "\n",
    "行列A*Bの(0,1)を求めるには\n",
    "\n",
    "行列Aのインデックスは固定（0行目を選択したまま）で、行列Bのインデックスを0列目から1列目に指定しなおせば良いわけです。理解できない方は、手計算でのフローを思い出してください！\n",
    "\n",
    "行列Aの(0,0)の要素と行列Bの(0,1)の要素を掛け合わせる\n",
    "行列Aの(0,1)の要素と行列Bの(1,1)の要素を掛け合わせる\n",
    "行列Aの(0,2)の要素と行列Bの(2,1)の要素を掛け合わせる\n",
    "1、2、3で求めた値を足し合わせる\n",
    "とすればA*Bの(0,1)の要素が求まります。\n",
    "\n",
    "このように同じ計算を順次インデックスを増やして行けば、全要素の計算ができます。\n",
    "\n",
    "計算の処理自体は全て同じなので、指定する要素の場所をなんとか効率よくできないかというところで登場するのが、for文です。\n",
    "\n",
    "説明はここまでになります。\n",
    "\n",
    "for文を使って行列A、Bの積を計算しましょう！【課題2】では(0,0)のみ計算していただきましたが、全て計算してください。\n",
    "\n",
    "ヒント\n",
    "indexの移行は行方向と列方向があるので、【課題2】で実装していただいたコードに加えて、さらに2回for文が必要になります。\n"
   ]
  },
  {
   "cell_type": "code",
   "execution_count": 40,
   "metadata": {
    "collapsed": false
   },
   "outputs": [
    {
     "data": {
      "text/plain": [
       "[[6, 29, -20], [12, 52, 38], [-18, -51, -48]]"
      ]
     },
     "execution_count": 40,
     "metadata": {},
     "output_type": "execute_result"
    }
   ],
   "source": [
    "import numpy as np\n",
    "\n",
    "A = np.array([[-1, 2, 3],\n",
    "       [4, -5, 6],\n",
    "       [7, 8, -9]])\n",
    "B = np.array([[0, 2, 1],\n",
    "       [0, 2, -8],\n",
    "       [2, 9, -1]])\n",
    "\n",
    "elem_all = []\n",
    "\n",
    "\n",
    "for row in range(3):\n",
    "    sum_elem = []\n",
    "    \n",
    "    for col in range(3):\n",
    "        elem00 = []\n",
    "\n",
    "        for i in range(3):\n",
    "\n",
    "            calculation = A[row,i]  * B[i,col] \n",
    "            elem00.append(test)\n",
    "\n",
    "        next_elem = sum(elem00)\n",
    "        sum_elem.append(next_elem)\n",
    "\n",
    "    elem_all.append(sum_elem)\n",
    "\n",
    "elem_all"
   ]
  },
  {
   "cell_type": "code",
   "execution_count": 41,
   "metadata": {
    "collapsed": false
   },
   "outputs": [
    {
     "data": {
      "text/plain": [
       "array([[  6,  29, -20],\n",
       "       [ 12,  52,  38],\n",
       "       [-18, -51, -48]])"
      ]
     },
     "execution_count": 41,
     "metadata": {},
     "output_type": "execute_result"
    }
   ],
   "source": [
    "np.array(elem_all)"
   ]
  },
  {
   "cell_type": "markdown",
   "metadata": {},
   "source": [
    "## 【課題4】内積をnp.dotで計算しよう\n",
    "【課題3】ではfor文を使うことで、内積を計算していただきましたが、行列の内積演算の度にこのようにfor文の処理を何回も実装しなくてもはならないのでしょうか？\n",
    "\n",
    "当然そんなことはなく、実はみなさんがやっていただいた処理はnumpyのメソッドですでに用意されています。\n",
    "\n",
    "np.dot(A,B)と計算すると、【課題3】で計算していただいたことが一瞬でできます。\n",
    "\n",
    "np.dot(A,B)を計算して、【課題3】と同じになることを試してください。\n"
   ]
  },
  {
   "cell_type": "code",
   "execution_count": 42,
   "metadata": {
    "collapsed": false
   },
   "outputs": [
    {
     "data": {
      "text/plain": [
       "array([[  6,  29, -20],\n",
       "       [ 12,  52,  38],\n",
       "       [-18, -51, -48]])"
      ]
     },
     "execution_count": 42,
     "metadata": {},
     "output_type": "execute_result"
    }
   ],
   "source": [
    "np.dot(A,B)"
   ]
  },
  {
   "cell_type": "markdown",
   "metadata": {},
   "source": [
    "## 【課題5】内積ができないときはどうするか\n",
    "以下のような例を考えます。\n",
    "\n",
    "行列A*Bを計算しようとすると、エラーが出て計算できません。なぜエラーが出るのか理由を記載してください。\n",
    "\n",
    "そして、行列A、Bのどちらかにある操作をするとエラーが出ずに計算できます。\n",
    "\n",
    "自分である操作を施し、内積を計算してください。"
   ]
  },
  {
   "cell_type": "code",
   "execution_count": 47,
   "metadata": {
    "collapsed": false
   },
   "outputs": [
    {
     "ename": "ValueError",
     "evalue": "shapes (2,3) and (2,3) not aligned: 3 (dim 1) != 2 (dim 0)",
     "output_type": "error",
     "traceback": [
      "\u001b[0;31m---------------------------------------------------------------------------\u001b[0m",
      "\u001b[0;31mValueError\u001b[0m                                Traceback (most recent call last)",
      "\u001b[0;32m<ipython-input-47-2afb79ff2b46>\u001b[0m in \u001b[0;36m<module>\u001b[0;34m()\u001b[0m\n\u001b[1;32m      8\u001b[0m \u001b[0;34m\u001b[0m\u001b[0m\n\u001b[1;32m      9\u001b[0m \u001b[0;31m# 内積はエラーになる\u001b[0m\u001b[0;34m\u001b[0m\u001b[0;34m\u001b[0m\u001b[0m\n\u001b[0;32m---> 10\u001b[0;31m \u001b[0mnp\u001b[0m\u001b[0;34m.\u001b[0m\u001b[0mdot\u001b[0m\u001b[0;34m(\u001b[0m\u001b[0mA\u001b[0m\u001b[0;34m,\u001b[0m\u001b[0mB\u001b[0m\u001b[0;34m)\u001b[0m\u001b[0;34m\u001b[0m\u001b[0m\n\u001b[0m",
      "\u001b[0;31mValueError\u001b[0m: shapes (2,3) and (2,3) not aligned: 3 (dim 1) != 2 (dim 0)"
     ]
    }
   ],
   "source": [
    "A = np.array([[-1, 2, 3],\n",
    "       [4, -5, 6]])\n",
    "B = np.array([[-9, 8, 7],\n",
    "       [6, -5, 4]])\n",
    "\n",
    "# アダマール積は計算できる\n",
    "A*B\n",
    "\n",
    "# 内積はエラーになる\n",
    "np.dot(A,B)"
   ]
  },
  {
   "cell_type": "markdown",
   "metadata": {},
   "source": [
    "AとBの行数と列数が一致していないと積を求めることができません。\n",
    "転置すれば下記の通り計算できます。"
   ]
  },
  {
   "cell_type": "code",
   "execution_count": 50,
   "metadata": {
    "collapsed": false
   },
   "outputs": [
    {
     "data": {
      "text/plain": [
       "array([[ 46,  -4],\n",
       "       [-34,  73]])"
      ]
     },
     "execution_count": 50,
     "metadata": {},
     "output_type": "execute_result"
    }
   ],
   "source": [
    "B = B.T\n",
    "np.dot(A,B)"
   ]
  }
 ],
 "metadata": {
  "kernelspec": {
   "display_name": "Python 3",
   "language": "python",
   "name": "python3"
  },
  "language_info": {
   "codemirror_mode": {
    "name": "ipython",
    "version": 3
   },
   "file_extension": ".py",
   "mimetype": "text/x-python",
   "name": "python",
   "nbconvert_exporter": "python",
   "pygments_lexer": "ipython3",
   "version": "3.6.0"
  }
 },
 "nbformat": 4,
 "nbformat_minor": 2
}
