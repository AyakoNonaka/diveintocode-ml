{
 "cells": [
  {
   "cell_type": "markdown",
   "metadata": {},
   "source": [
    "# 【問題1】SVM分類器のクラスを作成する"
   ]
  },
  {
   "cell_type": "markdown",
   "metadata": {},
   "source": [
    "scikit-learnの実装はソフトマージンSVMになっています。ハードマージンSVMを再現するには、パラメータCをC=1e10のように非常に大きな値を設定します。（無限大に向けてCを大きくするほどハードマージンSVMに近づきます）\n",
    "\n",
    "また、線形カーネルをscikit-learnで使う場合はkernel=\"linear\"と指定します。デフォルトではkernel=\"rbf\"になっており、多項式カーネルと呼ばれるものになっています。"
   ]
  },
  {
   "cell_type": "code",
   "execution_count": 1,
   "metadata": {},
   "outputs": [],
   "source": [
    "import numpy as np\n",
    "import math\n",
    "from sklearn.metrics import accuracy_score\n",
    "import copy \n",
    "import time\n",
    "import matplotlib.pyplot as plt\n",
    "%matplotlib inline\n",
    "\n",
    "class ScratchSVMClassifier():\n",
    "    \"\"\"\n",
    "    SVM分類のスクラッチ実装\n",
    "\n",
    "    Parameters\n",
    "    ----------\n",
    "    num_iter : int\n",
    "      イテレーション数\n",
    "    lr : float\n",
    "      学習率\n",
    "    threshold : float\n",
    "      ラムダの閾値\n",
    "    bias : bool\n",
    "      バイアス項を入れる場合はTrue\n",
    "    kernel : str\n",
    "      カーネルの選択\n",
    "      L ： ライナーカーネル\n",
    "      pn : 多項式カーネル\n",
    "    ganma: float\n",
    "        多項式カーネルのパラメーター\n",
    "    thetazero: float\n",
    "        多項式カーネルのパラメーター\n",
    "    d : float\n",
    "        多項式カーネルのパラメーター\n",
    "    \n",
    "    Attributes\n",
    "    ----------\n",
    "    self.theta_ : 次の形のndarray, shape (n_features,1)\n",
    "      パラメータ\n",
    "    \"\"\"\n",
    "\n",
    "    def __init__(self, num_iter=10000, lr=0.00000001, threshold=0.1**5, bias=True, kernel=\"L\", ganma=1, thetazero=0, d=1):\n",
    "        # ハイパーパラメータを属性として記録\n",
    "        self.iter = num_iter\n",
    "        self.lr = lr\n",
    "        self.bias = bias\n",
    "        self.lam = 0\n",
    "        self.lam_X = 0\n",
    "        self.lam_y = 0\n",
    "        self.theta = 0\n",
    "        self.threshold = threshold\n",
    "        self.kernel = kernel\n",
    "        \n",
    "        #多項式カーネルのパラメーター３つ\n",
    "        self.ganma = ganma \n",
    "        self.thetazero = thetazero\n",
    "        self.d = d\n",
    "    \n",
    "    def fit(self, X, y):\n",
    "        \n",
    "        #時間の測定\n",
    "        t0 = time.time()\n",
    "        # バイアスの処理\n",
    "        if self.bias:\n",
    "            m = len(X)\n",
    "            X = np.hstack((np.ones(m).reshape(m, 1), X))\n",
    "            \n",
    "        #ラベル０をマイナス１に変換\n",
    "        y_train = copy.deepcopy(y)\n",
    "        y_train[y_train==0] = -1\n",
    "        #リシェイプ\n",
    "        y_train = y_train.reshape(len(y), 1)\n",
    "        #ラムダの更新\n",
    "        self._compute_lambda(X, y_train)\n",
    "        \n",
    "        #時間の表示\n",
    "        t1 = time.time()\n",
    "        print('time : {}s'.format(t1-t0))\n",
    "        \n",
    "    def predict(self, X):\n",
    "        # バイアスの処理\n",
    "        if self.bias:\n",
    "            m = len(X)\n",
    "            X = np.hstack((np.ones(m).reshape(m, 1), X))\n",
    "            \n",
    "        if self.kernel == \"L\":\n",
    "            pred = np.dot(self._linear_kernel(X, self.lam_X.T), self.lam * self.lam_y)\n",
    "        if self.kernel == \"pn\":\n",
    "            pred = np.dot(self._polynomial_kernel(X, self.lam_X.T), self.lam * self.lam_y)\n",
    "        #pred = np.dot(X, self.theta)\n",
    "        pred = (pred >= 0).astype(int)\n",
    "        return pred\n",
    "    \n",
    "    def _compute_lambda(self, X, y):\n",
    "        \n",
    "        # lambdaの初期化\n",
    "        lam = np.random.rand(len(X), 1)\n",
    "        #lam = np.ones(len(X)).reshape(len(X), 1)\n",
    "        #lam = np.zeros(len(X)).reshape(len(X), 1)\n",
    "        lam = lam * 1e-7\n",
    "        \n",
    "        for _ in range(self.iter):\n",
    "            #ライナーカーネル\n",
    "            if self.kernel == \"L\":\n",
    "                lam = lam + self.lr * (1 - np.dot(np.dot(y, y.T) * self._linear_kernel(X, X.T), lam))\n",
    "            \n",
    "            #多項式カーネル\n",
    "            if self.kernel == \"pn\":\n",
    "                lam = lam + self.lr * (1 - np.dot(np.dot(y, y.T) * self._polynomial_kernel(X, X.T), lam))\n",
    "            \n",
    "            #ゼロ以下のラムダをゼロに置き換える\n",
    "            lam = np.where(lam < 0, 0, lam)  \n",
    "            \n",
    "            if sum((lam > self.threshold).astype(int)) >= 15:\n",
    "                print(\"ラムダ更新回数\")\n",
    "                print(_)\n",
    "                break\n",
    "        \n",
    "        #閾値以上のサポートベクトルを抜き出す\n",
    "        self.lam = lam[np.any(lam > self.threshold, axis=1), :]\n",
    "        self.lam_X = X[np.any(lam > self.threshold, axis=1), :]\n",
    "        self.lam_y = y[np.any(lam > self.threshold, axis=1), :]\n",
    "        #thetaの計算n*1のベクトル\n",
    "        self.theta = np.dot(self.lam_X.T, self.lam * self.lam_y)\n",
    "        if len(self.lam) == 0:\n",
    "            print(\"エラー：サポートベクトルが見つかりません\")\n",
    "        \n",
    "    def _linear_kernel(self, x1, x2):\n",
    "        \n",
    "        return np.dot(x1, x2)\n",
    "    \n",
    "    def _polynomial_kernel(self, x1, x2):\n",
    "        \n",
    "        return self.ganma * ((np.dot(x1, x2) + self.thetazero) ** self.d)\n",
    "        \n",
    "    def accuracy(self, y_test, y_pred):\n",
    "        #accuracyを計算して返す\n",
    "        return accuracy_score(y_test, y_pred)"
   ]
  },
  {
   "cell_type": "code",
   "execution_count": 2,
   "metadata": {},
   "outputs": [],
   "source": [
    "#アイリスデータの取り込み\n",
    "from sklearn.datasets import load_iris\n",
    "import pandas as pd\n",
    "from sklearn.model_selection import train_test_split\n",
    "iris = load_iris()\n",
    "X = pd.DataFrame(iris.data, columns=iris.feature_names) #Dataframe ”X”を作成\n",
    "#columns = [\"petal length (cm)\", \"petal width (cm)\"]\n",
    "columns = ['sepal length (cm)', 'petal length (cm)']\n",
    "X = X[columns]\n",
    "X[\"TARGET\"] = iris.target\n",
    "X = X[X[\"TARGET\"] > 0]\n",
    "y = X[\"TARGET\"].values\n",
    "y[y==2] = 0\n",
    "X = X.drop(\"TARGET\", axis = 1).values\n",
    "\n",
    "from sklearn.preprocessing import StandardScaler\n",
    "sc = StandardScaler()\n",
    "sc.fit(X)\n",
    "X = sc.transform(X)\n",
    "X_train, X_test, y_train, y_test = train_test_split(X, y, test_size=0.3, random_state=40)"
   ]
  },
  {
   "cell_type": "code",
   "execution_count": 3,
   "metadata": {},
   "outputs": [],
   "source": [
    "#シンプルデータセット１\n",
    "import numpy as np\n",
    "\n",
    "np.random.seed(seed=0)\n",
    "n_samples = 500\n",
    "f0= [-1, 2]\n",
    "f1 = [2, -1]\n",
    "cov = [[1.0,0.8], [0.8, 1.0]]\n",
    "\n",
    "f0 = np.random.multivariate_normal(f0, cov, int(n_samples/2))\n",
    "f1 = np.random.multivariate_normal(f1, cov, int(n_samples/2))\n",
    "\n",
    "X = np.concatenate((f0, f1))\n",
    "y = np.concatenate((np.ones((int(n_samples/2))), np.ones((int(n_samples/2))) *(-1))).astype(np.int)\n",
    "\n",
    "random_index = np.random.permutation(np.arange(n_samples))\n",
    "X = X[random_index]\n",
    "y = y[random_index]\n",
    "\n",
    "y = np.where(copy.deepcopy(y) == -1, 0, y)\n",
    "from sklearn.preprocessing import StandardScaler\n",
    "sc = StandardScaler()\n",
    "sc.fit(X)\n",
    "X = sc.transform(X)\n",
    "X_train, X_test, y_train, y_test = train_test_split(X, y, test_size=0.3, random_state=40)"
   ]
  },
  {
   "cell_type": "code",
   "execution_count": 4,
   "metadata": {},
   "outputs": [],
   "source": [
    "#シンプルデータセット２\n",
    "X = np.array([[-0.44699 , -2.8073  ],[-1.4621  , -2.4586  ],\n",
    "       [ 0.10645 ,  1.9242  ],[-3.5944  , -4.0112  ],\n",
    "       [-0.9888  ,  4.5718  ],[-3.1625  , -3.9606  ],\n",
    "       [ 0.56421 ,  0.72888 ],[-0.60216 ,  8.4636  ],\n",
    "       [-0.61251 , -0.75345 ],[-0.73535 , -2.2718  ],\n",
    "       [-0.80647 , -2.2135  ],[ 0.86291 ,  2.3946  ],\n",
    "       [-3.1108  ,  0.15394 ],[-2.9362  ,  2.5462  ],\n",
    "       [-0.57242 , -2.9915  ],[ 1.4771  ,  3.4896  ],\n",
    "       [ 0.58619 ,  0.37158 ],[ 0.6017  ,  4.3439  ],\n",
    "       [-2.1086  ,  8.3428  ],[-4.1013  , -4.353   ],\n",
    "       [-1.9948  , -1.3927  ],[ 0.35084 , -0.031994],\n",
    "       [ 0.96765 ,  7.8929  ],[-1.281   , 15.6824  ],\n",
    "       [ 0.96765 , 10.083   ],[ 1.3763  ,  1.3347  ],\n",
    "       [-2.234   , -2.5323  ],[-2.9452  , -1.8219  ],\n",
    "       [ 0.14654 , -0.28733 ],[ 0.5461  ,  5.8245  ],\n",
    "       [-0.65259 ,  9.3444  ],[ 0.59912 ,  5.3524  ],\n",
    "       [ 0.50214 , -0.31818 ],[-3.0603  , -3.6461  ],\n",
    "       [-6.6797  ,  0.67661 ],[-2.353   , -0.72261 ],\n",
    "       [ 1.1319  ,  2.4023  ],[-0.12243 ,  9.0162  ],\n",
    "       [-2.5677  , 13.1779  ],[ 0.057313,  5.4681  ]])\n",
    "y = np.array([0, 0, 0, 0, 0, 0, 0, 0, 0, 0, 0, 0, 0, 0, 0, 0, 0, 0, 0, 0, 1, 1,\n",
    "       1, 1, 1, 1, 1, 1, 1, 1, 1, 1, 1, 1, 1, 1, 1, 1, 1, 1])\n",
    "\n",
    "from sklearn.preprocessing import StandardScaler\n",
    "sc = StandardScaler()\n",
    "sc.fit(X)\n",
    "X = sc.transform(X)\n",
    "X_train, X_test, y_train, y_test = train_test_split(X, y, test_size=0.3, random_state=40)"
   ]
  },
  {
   "cell_type": "code",
   "execution_count": 5,
   "metadata": {},
   "outputs": [
    {
     "name": "stdout",
     "output_type": "stream",
     "text": [
      "ラムダ更新回数\n",
      "994\n",
      "time : 0.09577798843383789s\n"
     ]
    }
   ],
   "source": [
    "model = ScratchSVMClassifier(lr=1e-8, kernel=\"L\", ganma=1, d=1, num_iter=80000)\n",
    "model.fit(X_train, y_train)"
   ]
  },
  {
   "cell_type": "code",
   "execution_count": 6,
   "metadata": {},
   "outputs": [
    {
     "data": {
      "text/plain": [
       "(15, 1)"
      ]
     },
     "execution_count": 6,
     "metadata": {},
     "output_type": "execute_result"
    }
   ],
   "source": [
    "model.lam.shape"
   ]
  },
  {
   "cell_type": "code",
   "execution_count": 7,
   "metadata": {},
   "outputs": [
    {
     "data": {
      "text/plain": [
       "(15, 3)"
      ]
     },
     "execution_count": 7,
     "metadata": {},
     "output_type": "execute_result"
    }
   ],
   "source": [
    "model.lam_X.shape"
   ]
  },
  {
   "cell_type": "code",
   "execution_count": 8,
   "metadata": {},
   "outputs": [],
   "source": [
    "y_pred = model.predict(X_test)"
   ]
  },
  {
   "cell_type": "markdown",
   "metadata": {},
   "source": [
    "# 【問題2】（アドバンス課題）多項式カーネル関数の作成"
   ]
  },
  {
   "cell_type": "markdown",
   "metadata": {},
   "source": [
    "# 【問題3】指標値の算出"
   ]
  },
  {
   "cell_type": "code",
   "execution_count": 9,
   "metadata": {},
   "outputs": [
    {
     "data": {
      "text/plain": [
       "0.4166666666666667"
      ]
     },
     "execution_count": 9,
     "metadata": {},
     "output_type": "execute_result"
    }
   ],
   "source": [
    "#accuracyの算出\n",
    "model.accuracy(y_test, y_pred)"
   ]
  },
  {
   "cell_type": "markdown",
   "metadata": {},
   "source": [
    "# 【問題4】決定領域の可視化\n",
    "np.meshgrid https://deepage.net/features/numpy-meshgrid.html\n",
    "\n",
    "np.ravel 一次元配列へ変換する https://deepage.net/features/numpy-ravel.html\n",
    "\n",
    "plt.contourf 塗りつぶし。 https://matplotlib.org/api/_as_gen/matplotlib.pyplot.contourf.html"
   ]
  },
  {
   "cell_type": "code",
   "execution_count": 10,
   "metadata": {},
   "outputs": [
    {
     "data": {
      "text/plain": [
       "<matplotlib.legend.Legend at 0x1a1a957240>"
      ]
     },
     "execution_count": 10,
     "metadata": {},
     "output_type": "execute_result"
    },
    {
     "data": {
      "image/png": "[encoded data removed]",
      "text/plain": [
       "<Figure size 432x288 with 1 Axes>"
      ]
     },
     "metadata": {
      "needs_background": "light"
     },
     "output_type": "display_data"
    }
   ],
   "source": [
    "#Xの散布図\n",
    "X_train_label1 = X_train[y_train==0, :]\n",
    "X_train_label2 = X_train[y_train==1, :]\n",
    "\n",
    "plt.scatter(X_train_label1[:, 0], X_train_label1[:, 1],  c=\"red\", edgecolor=\"red\", label=\"0\")\n",
    "plt.scatter(X_train_label2[:, 0], X_train_label2[:, 1],  c=\"blue\", edgecolor=\"blue\", label=\"1\")\n",
    "\n",
    "#サポートベクトルの散布図\n",
    "plt.scatter(model.lam_X[:,1], model.lam_X[:,2], marker=\"x\", c=\"green\", edgecolor=\"green\", s=100)\n",
    "\n",
    "#決定領域のプロット\n",
    "xline = np.linspace(X_train[:, 0].min()-1,X_train[:, 1].max(),100) #X１の線\n",
    "#budary = -(model.theta[0] + model.theta[1]  * xline) / model.theta[2]\n",
    "budary = -(model.theta[1]  * xline) / model.theta[2]\n",
    "#plt.plot(xline, budary)\n",
    "\n",
    "#メッシュデータを作成\n",
    "x1_min, x1_max = X_train[:, 0].min()-1, X_train[:, 0].max()+1\n",
    "x2_min, x2_max = X_train[:, 1].min()-1, X_train[:, 1].max()+1\n",
    "x1_mesh, x2_mesh = np.meshgrid(np.arange(x1_min, x1_max, 0.01),\n",
    "                                   np.arange(x2_min, x2_max, 0.01))\n",
    "\n",
    "#メッシュデータ全部を学習モデルで分類\n",
    "z = model.predict(np.array([x1_mesh.ravel(), x2_mesh.ravel()]).T)\n",
    "z = z.reshape(x1_mesh.shape)\n",
    "# メッシュデータと分離クラスを使って決定境界を描いている\n",
    "plt.contourf(x1_mesh, x2_mesh, z, alpha=0.4, cmap=\"gnuplot\")\n",
    "plt.xlim(x1_mesh.min(), x1_mesh.max())\n",
    "plt.ylim(x2_mesh.min(), x2_mesh.max())\n",
    "\n",
    "plt.xlabel(\"X1\")\n",
    "plt.ylabel(\"X2\")\n",
    "plt.title(\"Determining region\")\n",
    "plt.legend()"
   ]
  },
  {
   "cell_type": "markdown",
   "metadata": {},
   "source": [
    "# 【問題6】ロジスティック回帰とSVM\n",
    "\n",
    "- マージンを最大化するか、しないかが違う。\n",
    "- ロジスティクス回帰は確率を出力するが、svmは決定領域を決めることで分類する。\n",
    "- svmはカーネルを使うことで複雑な決定領域を求めることができる。\n",
    "- svmは計算量が多い。学習ごとに、（行列X　＊　行列X　＊　ベクトルy　＊　ベクトルy　＊ ベクトルlamda）"
   ]
  },
  {
   "cell_type": "code",
   "execution_count": null,
   "metadata": {},
   "outputs": [],
   "source": []
  },
  {
   "cell_type": "code",
   "execution_count": null,
   "metadata": {},
   "outputs": [],
   "source": []
  }
 ],
 "metadata": {
  "kernelspec": {
   "display_name": "Python 3",
   "language": "python",
   "name": "python3"
  },
  "language_info": {
   "codemirror_mode": {
    "name": "ipython",
    "version": 3
   },
   "file_extension": ".py",
   "mimetype": "text/x-python",
   "name": "python",
   "nbconvert_exporter": "python",
   "pygments_lexer": "ipython3",
   "version": "3.6.7"
  }
 },
 "nbformat": 4,
 "nbformat_minor": 2
}
