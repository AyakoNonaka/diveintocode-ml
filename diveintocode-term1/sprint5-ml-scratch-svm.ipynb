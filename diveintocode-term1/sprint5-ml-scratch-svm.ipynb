{
 "cells": [
  {
   "cell_type": "markdown",
   "metadata": {},
   "source": [
    "【問題1】SVM分類器のクラスを作成する"
   ]
  },
  {
   "cell_type": "code",
   "execution_count": 1,
   "metadata": {},
   "outputs": [],
   "source": [
    "class ScratchSVMClassifier():\n",
    "    \"\"\"\n",
    "    Parameters\n",
    "    ----------\n",
    "    max_iter : int\n",
    "      イテレーション回数\n",
    "    lr : float\n",
    "      学習率\n",
    "    kernel_type : str , default='linear' \n",
    "      カーネルの設定 \n",
    "    \n",
    "    Attributes\n",
    "    ----------\n",
    "    kernel : 次の形のndarray (n_samples, n_samples)\n",
    "      kernelのi,j行列\n",
    "    lagrangian: float\n",
    "      ラグランジュ乗数 lambda\n",
    "    support_vector_index : 次の形のndarray (n_samples, n_samples)\n",
    "     \"\"\"\n",
    "    def __init__(self,max_iter, lr, kernel_type='linear'):\n",
    "        # parameterを属性として保持\n",
    "        self.max_iter = max_iter\n",
    "        self.lr = lr\n",
    "        self.kernel_type = kernel_type\n",
    "        self.lam = 0\n",
    "        self.sv_index = 0\n",
    "        self.sv = 0\n",
    "    \n",
    "    def make_kernel(self, X, S=None):\n",
    "        \"\"\"\n",
    "        X : 次の形のndarray, shape (n_samples, n_features)\n",
    "          学習データ\n",
    "        S : support_vector ndarray, (n, n_features)\n",
    "        \"\"\"\n",
    "        if self.kernel_type == 'linear':\n",
    "            if S is None: \n",
    "                kernel = np.dot(X, X.T)\n",
    "            else:\n",
    "                kernel = np.dot(X, S.T)\n",
    "            return kernel\n",
    "    \n",
    "    \n",
    "    def update_lambda(self, X, y):\n",
    "        \"\"\"\n",
    "        X : 次の形のndarray, shape (n_samples, n_features)\n",
    "          学習データ\n",
    "        y : 次の形のndarray, shape (n_samples, 1)\n",
    "          正解ラベル[-1 or 1]\n",
    "          \n",
    "        \"\"\"\n",
    "        #カーネル関数の呼び出し\n",
    "        kernel = self.make_kernel(X)\n",
    "        #更新式 λi=λi+α(1-Σλj yi yj k(xi,xj))\n",
    "        self.lam = self.lam + self.lr * (1- np.dot(np.dot(y, y.T)*kernel, self.lam))\n",
    "        \n",
    "    def fit(self, X, y):\n",
    "        \"\"\"\n",
    "        X : 次の形のndarray, shape (n_samples, n_features)\n",
    "            学習用データの特徴量\n",
    "        y : 次の形のndarray, shape (n_samples, )\n",
    "            学習用データの正解値\n",
    "            \n",
    "        return\n",
    "        support_vectorのindex\n",
    "        \"\"\"\n",
    "        y = y[:,np.newaxis]\n",
    "        # 閾値\n",
    "        threshold = 1e-4\n",
    "        # lambdaの初期値を設定する 次の形のndarray np.array(n_samples,1)\n",
    "        self.lam = (np.random.rand(X.shape[0])*1e-5)[:,np.newaxis]\n",
    "\n",
    "        # 更新する\n",
    "        for _ in range(self.max_iter):\n",
    "            self.update_lambda(X, y)\n",
    "            self.lam = np.where(self.lam>0, self.lam, 0) # 負の値を0に\n",
    "            \n",
    "        self.sv_index = np.where(self.lam>threshold)[0] #thresholdを超えたindex\n",
    "        self.sv_y = y[self.sv_index,0][:,np.newaxis] # predict用\n",
    "        self.sv = X[self.sv_index,:]\n",
    "        \n",
    "    def predict(self, X_test):\n",
    "        # support_vectorと入力データのカーネルを算出\n",
    "        ks = self.make_kernel(X_test, self.sv)\n",
    "        # Σλn yn k(x,sn)の計算\n",
    "        y_pred = np.dot(ks, self.lam[self.sv_index]*self.sv_y)\n",
    "        # 要素が負の場合-1にし、正の場合1にする\n",
    "        y_pred = np.where(y_pred<0, -1, y_pred)\n",
    "        y_pred = np.where(y_pred>0, 1, y_pred)\n",
    "        y_pred = y_pred[:,0] # vectorに\n",
    "        \n",
    "        return y_pred\n",
    "     \n",
    "    def accuracy(self, y_pred, y_test):\n",
    "        # 配列を比較してnp.sumする\n",
    "        accuracy = np.sum(y_pred == y_test) / len(y_test)\n",
    "\n",
    "        return accuracy\n",
    "        \n",
    "        "
   ]
  },
  {
   "cell_type": "code",
   "execution_count": 2,
   "metadata": {},
   "outputs": [],
   "source": [
    "import numpy as np\n",
    "import pandas as pd\n",
    "import sys\n",
    "from sklearn.model_selection import train_test_split\n",
    "from matplotlib.colors import ListedColormap\n",
    "import matplotlib.patches as mpatches\n",
    "import matplotlib.pyplot as plt\n",
    "%matplotlib inline"
   ]
  },
  {
   "cell_type": "code",
   "execution_count": 3,
   "metadata": {},
   "outputs": [],
   "source": [
    "df = pd.read_csv('../ml-scratch/utils/df_simple1.csv')\n",
    "X = df.iloc[:,1:3].values\n",
    "y = df.loc[:,'y'].values\n",
    "X_train, X_test, y_train, y_test = train_test_split(\n",
    "   X, y, test_size=0.2)"
   ]
  },
  {
   "cell_type": "markdown",
   "metadata": {},
   "source": [
    "【問題5】時間の計測"
   ]
  },
  {
   "cell_type": "code",
   "execution_count": 4,
   "metadata": {},
   "outputs": [
    {
     "name": "stdout",
     "output_type": "stream",
     "text": [
      "Wall time: 3.59 s\n"
     ]
    }
   ],
   "source": [
    "%%time\n",
    "ssvmc = ScratchSVMClassifier(max_iter=1000, lr=1e-7)\n",
    "ssvmc.fit(X_train, y_train)"
   ]
  },
  {
   "cell_type": "code",
   "execution_count": 5,
   "metadata": {
    "scrolled": false
   },
   "outputs": [],
   "source": [
    "y_pred = ssvmc.predict(X_test)"
   ]
  },
  {
   "cell_type": "markdown",
   "metadata": {},
   "source": [
    "【問題3】指標値の算出"
   ]
  },
  {
   "cell_type": "code",
   "execution_count": 6,
   "metadata": {},
   "outputs": [
    {
     "data": {
      "text/plain": [
       "1.0"
      ]
     },
     "execution_count": 6,
     "metadata": {},
     "output_type": "execute_result"
    }
   ],
   "source": [
    "ssvmc.accuracy(y_pred ,y_test)"
   ]
  },
  {
   "cell_type": "markdown",
   "metadata": {},
   "source": [
    "【問題4】決定領域の可視化"
   ]
  },
  {
   "cell_type": "code",
   "execution_count": 50,
   "metadata": {},
   "outputs": [],
   "source": [
    "def decision_region(X_train, y_train, model, step=0.01, title='decision region', xlabel='xlabel', ylabel='ylabel', target_names=['versicolor', 'virginica']):\n",
    "    \"\"\"\n",
    "    2値分類を2次元の特徴量で学習したモデルの決定領域を描く。\n",
    "    背景の色が学習したモデルによる推定値から描画される。\n",
    "    散布図の点は学習用データである。\n",
    "\n",
    "    Parameters\n",
    "    ----------------\n",
    "    X_train : ndarray, shape(n_samples, 2)\n",
    "        学習用データの特徴量\n",
    "    y_train : ndarray, shape(n_samples,)\n",
    "        学習用データの正解値\n",
    "    model : object\n",
    "        学習したモデルのインスンタスを入れる\n",
    "    step : float, (default : 0.1)\n",
    "        推定値を計算する間隔を設定する\n",
    "    title : str\n",
    "        グラフのタイトルの文章を与える\n",
    "    xlabel, ylabel : str\n",
    "        軸ラベルの文章を与える\n",
    "    target_names= : list of str\n",
    "        凡例の一覧を与える\n",
    "    \"\"\"\n",
    "    # setting\n",
    "    scatter_color = ['red', 'blue']\n",
    "    contourf_color = ['pink', 'skyblue']\n",
    "    n_class = 2\n",
    "\n",
    "    # pred\n",
    "    mesh_f0, mesh_f1  = np.meshgrid(np.arange(np.min(X_train[:,0])-0.5, np.max(X_train[:,0])+0.5, step), np.arange(np.min(X_train[:,1])-0.5, np.max(X_train[:,1])+0.5, step))\n",
    "    mesh = np.c_[np.ravel(mesh_f0),np.ravel(mesh_f1)]\n",
    "    pred = model.predict(mesh).reshape(mesh_f0.shape)\n",
    "\n",
    "    # plot\n",
    "    plt.title(title)\n",
    "    plt.xlabel(xlabel)\n",
    "    plt.ylabel(ylabel)\n",
    "    plt.contourf(mesh_f0, mesh_f1, pred, n_class-1, cmap=ListedColormap(contourf_color))\n",
    "    plt.contour(mesh_f0, mesh_f1, pred, n_class-1, colors='y', linewidths=3, alpha=0.5)\n",
    "    for i, target in enumerate(set(y_train)):\n",
    "        plt.scatter(X_train[y_train==target][:, 0], X_train[y_train==target][:, 1], s=80, color=scatter_color[i], label=target_names[i], marker='o')\n",
    "    plt.scatter(ssvmc.sv[:,0], ssvmc.sv[:,1],marker=\"o\", c=\"green\",edgecolor=\"black\",s=80)\n",
    "    patches = [mpatches.Patch(color=scatter_color[i], label=target_names[i]) for i in range(n_class)]\n",
    "    plt.legend(handles=patches)\n",
    "    plt.legend()\n",
    "    plt.show()"
   ]
  },
  {
   "cell_type": "code",
   "execution_count": 52,
   "metadata": {},
   "outputs": [
    {
     "data": {
      "image/png": "[encoded data removed]",
      "text/plain": [
       "<Figure size 432x288 with 1 Axes>"
      ]
     },
     "metadata": {
      "needs_background": "light"
     },
     "output_type": "display_data"
    }
   ],
   "source": [
    "decision_region(X_train, y_train, model= ssvmc)"
   ]
  },
  {
   "cell_type": "markdown",
   "metadata": {},
   "source": [
    "【問題6】ロジスティック回帰とSVM(分類)\n",
    "ロジスティック回帰とSVMは本質的に何が異なっているか\n",
    "\n",
    "ロジスティク回帰は1層のパーセプトロンをシグモイド関数を用いてクロスエントロピーで学習したものであり、\n",
    "SVMは1層のパーセプトロンをカーネルを使用後ヒンジロス(距離が1より小さい場合にペナルティ)で学習したもの\n",
    "\n",
    "\n",
    "\n",
    "ロジスティク回帰は尤度関数を最大化する確率であるのに対して\n",
    "SVMは境界面からの距離を見ている\n",
    "\n",
    "\n",
    "\n",
    "SVMはカーネルトリックによって比較的計算コストが安く(DNN等に比べて)非線形を獲得している\n",
    "ロジスティク回帰は線形"
   ]
  },
  {
   "cell_type": "code",
   "execution_count": null,
   "metadata": {},
   "outputs": [],
   "source": []
  }
 ],
 "metadata": {
  "kernelspec": {
   "display_name": "Python 3",
   "language": "python",
   "name": "python3"
  },
  "language_info": {
   "codemirror_mode": {
    "name": "ipython",
    "version": 3
   },
   "file_extension": ".py",
   "mimetype": "text/x-python",
   "name": "python",
   "nbconvert_exporter": "python",
   "pygments_lexer": "ipython3",
   "version": "3.6.7"
  }
 },
 "nbformat": 4,
 "nbformat_minor": 2
}
