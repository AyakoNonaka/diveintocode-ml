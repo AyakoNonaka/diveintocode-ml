{
 "cells": [
  {
   "cell_type": "code",
   "execution_count": 1,
   "metadata": {
    "collapsed": true
   },
   "outputs": [],
   "source": [
    "import matplotlib.pyplot as plt\n",
    "import matplotlib.cm as cm\n",
    "import seaborn as sb\n",
    "import numpy as np\n",
    "import pandas as pd\n",
    "from sklearn.model_selection import train_test_split\n",
    "from sklearn.preprocessing import StandardScaler\n",
    "from sklearn.neighbors import KNeighborsClassifier\n",
    "%matplotlib inline"
   ]
  },
  {
   "cell_type": "markdown",
   "metadata": {},
   "source": [
    "### 【問題1】ジニ不純度を求める関数"
   ]
  },
  {
   "cell_type": "code",
   "execution_count": 2,
   "metadata": {
    "collapsed": true
   },
   "outputs": [],
   "source": [
    "def cal_gini_impurity(target_data):\n",
    "    \"\"\"\n",
    "    Gini不純度を計算\n",
    "    target : ndarray shape(1, sample)\n",
    "    \"\"\"\n",
    "    tmp = 0\n",
    "    count_all = len(target_data)\n",
    "    label_list = np.unique(target_data)\n",
    "    for i in range(len(label_list)):\n",
    "        count = np.sum([target_data == label_list[i]])\n",
    "        tmp += (count / count_all)**2\n",
    "        \n",
    "    return 1 - tmp"
   ]
  },
  {
   "cell_type": "code",
   "execution_count": 3,
   "metadata": {
    "collapsed": false
   },
   "outputs": [],
   "source": [
    "Data1 = np.concatenate((np.array([1 for _ in range(15)]), np.array([2 for _ in range(15)])), axis=0)\n",
    "Data2 = np.concatenate((np.array([1 for _ in range(15)]), np.array([2 for _ in range(15)])), axis=0)\n",
    "Data2 = np.concatenate((Data2, np.array([3 for _ in range(15)])), axis=0)\n",
    "Data3 = np.concatenate((np.array([1 for _ in range(18)]), np.array([2 for _ in range(12)])), axis=0)\n",
    "Data4 = np.concatenate((np.array([1 for _ in range(30)]), np.array([2 for _ in range(0)])), axis=0)"
   ]
  },
  {
   "cell_type": "code",
   "execution_count": 4,
   "metadata": {
    "collapsed": false
   },
   "outputs": [
    {
     "name": "stdout",
     "output_type": "stream",
     "text": [
      "Data1= 0.5\n",
      "Data2= 0.6666666666666667\n",
      "Data3= 0.48\n",
      "Data4= 0.0\n"
     ]
    }
   ],
   "source": [
    "print(\"Data1=\",cal_gini_impurity(Data1))\n",
    "print(\"Data2=\",cal_gini_impurity(Data2))\n",
    "print(\"Data3=\",cal_gini_impurity(Data3))\n",
    "print(\"Data4=\",cal_gini_impurity(Data4))"
   ]
  },
  {
   "cell_type": "markdown",
   "metadata": {},
   "source": [
    "### 【問題2】情報利得を求める関数\n",
    "左ノードクラス1:サンプル数10, 左ノードクラス2:サンプル数30, 右ノードクラス1:サンプル数20, 右ノードクラス2:サンプル数5 → 情報利得0.143"
   ]
  },
  {
   "cell_type": "code",
   "execution_count": 5,
   "metadata": {
    "collapsed": true
   },
   "outputs": [],
   "source": [
    "def cal_info_gain(target_data_left, target_data_right):\n",
    "    \"\"\"\n",
    "    情報利得を計算\n",
    "  \n",
    "    target_data_left : ndarray shape(1, sample(left))\n",
    "    target_data_right : ndarray shape(1, sample(right))\n",
    "    \"\"\"\n",
    "    #親データのジニ不純度計算のためright, leftのデータを合体\n",
    "    target_data_left.reshape(1, len(target_data_left))\n",
    "    target_data_right.reshape(1, len(target_data_right))\n",
    "    target_data = np.concatenate((target_data_left, target_data_right), axis=0)\n",
    "    #親、右、左のジニ不純度を計算\n",
    "    count_parent = len(target_data_left) + len(target_data_right)\n",
    "    gini_parent = cal_gini_impurity(target_data)\n",
    "    coff_left = len(target_data_left) / count_parent\n",
    "    coff_right = len(target_data_right) / count_parent\n",
    "    tmp = cal_gini_impurity(target_data_left) * coff_left\n",
    "    tmp += cal_gini_impurity(target_data_right) * coff_right\n",
    "        \n",
    "    return gini_parent - tmp"
   ]
  },
  {
   "cell_type": "code",
   "execution_count": 6,
   "metadata": {
    "collapsed": true
   },
   "outputs": [],
   "source": [
    "Data1_left = np.concatenate((np.array([1 for _ in range(10)]), np.array([2 for _ in range(30)])), axis=0)\n",
    "Data1_right = np.concatenate((np.array([1 for _ in range(20)]), np.array([2 for _ in range(5)])), axis=0)\n",
    "\n",
    "Data2_left = np.concatenate((np.array([1 for _ in range(30)]), np.array([2 for _ in range(0)])), axis=0)\n",
    "Data2_right = np.concatenate((np.array([1 for _ in range(0)]), np.array([2 for _ in range(30)])), axis=0)"
   ]
  },
  {
   "cell_type": "code",
   "execution_count": 7,
   "metadata": {
    "collapsed": false,
    "scrolled": false
   },
   "outputs": [
    {
     "name": "stdout",
     "output_type": "stream",
     "text": [
      "Data1= 0.14319526627218937\n",
      "Data2= 0.5\n"
     ]
    }
   ],
   "source": [
    "print(\"Data1=\",cal_info_gain(Data1_left, Data1_right))\n",
    "print(\"Data2=\",cal_info_gain(Data2_left, Data2_right))"
   ]
  },
  {
   "cell_type": "markdown",
   "metadata": {},
   "source": [
    "##### データ準備"
   ]
  },
  {
   "cell_type": "code",
   "execution_count": 8,
   "metadata": {
    "collapsed": true
   },
   "outputs": [],
   "source": [
    "X = np.array([[-0.44699 , -2.8073  ],[-1.4621  , -2.4586  ],\n",
    "       [ 0.10645 ,  1.9242  ],[-3.5944  , -4.0112  ],\n",
    "       [-0.9888  ,  4.5718  ],[-3.1625  , -3.9606  ],\n",
    "       [ 0.56421 ,  0.72888 ],[-0.60216 ,  8.4636  ],\n",
    "       [-0.61251 , -0.75345 ],[-0.73535 , -2.2718  ],\n",
    "       [-0.80647 , -2.2135  ],[ 0.86291 ,  2.3946  ],\n",
    "       [-3.1108  ,  0.15394 ],[-2.9362  ,  2.5462  ],\n",
    "       [-0.57242 , -2.9915  ],[ 1.4771  ,  3.4896  ],\n",
    "       [ 0.58619 ,  0.37158 ],[ 0.6017  ,  4.3439  ],\n",
    "       [-2.1086  ,  8.3428  ],[-4.1013  , -4.353   ],\n",
    "       [-1.9948  , -1.3927  ],[ 0.35084 , -0.031994],\n",
    "       [ 0.96765 ,  7.8929  ],[-1.281   , 15.6824  ],\n",
    "       [ 0.96765 , 10.083   ],[ 1.3763  ,  1.3347  ],\n",
    "       [-2.234   , -2.5323  ],[-2.9452  , -1.8219  ],\n",
    "       [ 0.14654 , -0.28733 ],[ 0.5461  ,  5.8245  ],\n",
    "       [-0.65259 ,  9.3444  ],[ 0.59912 ,  5.3524  ],\n",
    "       [ 0.50214 , -0.31818 ],[-3.0603  , -3.6461  ],\n",
    "       [-6.6797  ,  0.67661 ],[-2.353   , -0.72261 ],\n",
    "       [ 1.1319  ,  2.4023  ],[-0.12243 ,  9.0162  ],\n",
    "       [-2.5677  , 13.1779  ],[ 0.057313,  5.4681  ]])\n",
    "Y = np.array([0, 0, 0, 0, 0, 0, 0, 0, 0, 0, 0, 0, 0, 0, 0, 0, 0, 0, 0, 0, 1, 1,\n",
    "       1, 1, 1, 1, 1, 1, 1, 1, 1, 1, 1, 1, 1, 1, 1, 1, 1, 1])"
   ]
  },
  {
   "cell_type": "code",
   "execution_count": 9,
   "metadata": {
    "collapsed": false
   },
   "outputs": [],
   "source": [
    "train_x, test_x, train_y, test_y = train_test_split(X, Y, test_size=0.25, random_state=42)"
   ]
  },
  {
   "cell_type": "code",
   "execution_count": 10,
   "metadata": {
    "collapsed": true
   },
   "outputs": [],
   "source": [
    "import utils.ScratchDecisionTree as cScratchDT"
   ]
  },
  {
   "cell_type": "code",
   "execution_count": 11,
   "metadata": {
    "collapsed": false
   },
   "outputs": [],
   "source": [
    "from sklearn import metrics\n",
    "from sklearn.model_selection import train_test_split\n",
    "from sklearn.preprocessing import StandardScaler\n",
    "from sklearn.datasets import make_classification\n",
    "\n",
    "def pipeline(model, X, y, X_val, y_val, normalization=True):\n",
    "    \"\"\"\n",
    "    Parameter\n",
    "    ---------------\n",
    "    model : 利用するライブラリのオブジェクト\n",
    "    target_value :目的変数名\n",
    "    feature_value :　説明変数名\n",
    "    normalization :フラグ True=正規分布で規格化　False=規格化しない\n",
    "    \n",
    "    Return\n",
    "    ---------------\n",
    "    fpr, tpr, thresholds\n",
    "    \"\"\"\n",
    "     \n",
    "    #学習データの特徴量を標準化\n",
    "    if normalization == True:\n",
    "        scaler = StandardScaler()\n",
    "        scaler.fit(X)\n",
    "        X = scaler.transform(X)\n",
    "        scaler.fit(X_val)\n",
    "        X_val = scaler.transform(X_val)\n",
    "\n",
    "    #学習と予測    \n",
    "    model.fit(X, y)\n",
    "    result = model.predict(X_val)\n",
    "    \n",
    "    return result"
   ]
  },
  {
   "cell_type": "markdown",
   "metadata": {},
   "source": [
    "### 【問題3】深さ1の決定木分類器クラスの作成"
   ]
  },
  {
   "cell_type": "code",
   "execution_count": 12,
   "metadata": {
    "collapsed": false
   },
   "outputs": [],
   "source": [
    "clf = cScratchDT.ScratchDecisionTreeClassifier(1)"
   ]
  },
  {
   "cell_type": "code",
   "execution_count": 13,
   "metadata": {
    "collapsed": false,
    "scrolled": true
   },
   "outputs": [
    {
     "name": "stderr",
     "output_type": "stream",
     "text": [
      "/Users/Nonna/DIC_copy/diveintocode-ml/sprint6/utils/ScratchDecisionTree.py:189: RuntimeWarning: invalid value encountered in long_scalars\n",
      "  tmp += (count / count_all) ** 2\n"
     ]
    },
    {
     "data": {
      "text/plain": [
       "array([0, 1, 1, 0, 1, 1, 1, 1, 1, 1])"
      ]
     },
     "execution_count": 13,
     "metadata": {},
     "output_type": "execute_result"
    }
   ],
   "source": [
    "pipeline(clf, train_x, train_y, test_x, test_y, normalization=False)"
   ]
  },
  {
   "cell_type": "code",
   "execution_count": 14,
   "metadata": {
    "collapsed": false
   },
   "outputs": [
    {
     "name": "stdout",
     "output_type": "stream",
     "text": [
      "[0 0 0 1 0 0 1 1 1 0]\n"
     ]
    }
   ],
   "source": [
    "print(test_y)"
   ]
  },
  {
   "cell_type": "markdown",
   "metadata": {},
   "source": [
    "### 【問題4】（アドバンス課題）深さ2の決定木分類器クラスの作成"
   ]
  },
  {
   "cell_type": "code",
   "execution_count": 15,
   "metadata": {
    "collapsed": true
   },
   "outputs": [],
   "source": [
    "#深さ２の決定木\n",
    "clf = cScratchDT.ScratchDecisionTreeClassifier(2)"
   ]
  },
  {
   "cell_type": "code",
   "execution_count": 16,
   "metadata": {
    "collapsed": false,
    "scrolled": true
   },
   "outputs": [
    {
     "name": "stderr",
     "output_type": "stream",
     "text": [
      "/Users/Nonna/DIC_copy/diveintocode-ml/sprint6/utils/ScratchDecisionTree.py:189: RuntimeWarning: invalid value encountered in long_scalars\n",
      "  tmp += (count / count_all) ** 2\n"
     ]
    },
    {
     "data": {
      "text/plain": [
       "array([0, 1, 1, 0, 1, 1, 1, 1, 1, 1])"
      ]
     },
     "execution_count": 16,
     "metadata": {},
     "output_type": "execute_result"
    }
   ],
   "source": [
    "pipeline(clf, train_x, train_y, test_x, test_y, normalization=True)"
   ]
  },
  {
   "cell_type": "code",
   "execution_count": 17,
   "metadata": {
    "collapsed": false
   },
   "outputs": [
    {
     "name": "stdout",
     "output_type": "stream",
     "text": [
      "[0 0 0 1 0 0 1 1 1 0]\n"
     ]
    }
   ],
   "source": [
    "print(test_y)"
   ]
  },
  {
   "cell_type": "markdown",
   "metadata": {},
   "source": [
    "### 【問題5】（アドバンス課題）任意の深さに対応できる決定木分類器クラスの作成"
   ]
  },
  {
   "cell_type": "code",
   "execution_count": 18,
   "metadata": {
    "collapsed": true
   },
   "outputs": [],
   "source": [
    "#任意の深さの決定木 \n",
    "clf = cScratchDT.ScratchDecisionTreeClassifier(4)"
   ]
  },
  {
   "cell_type": "code",
   "execution_count": 19,
   "metadata": {
    "collapsed": false
   },
   "outputs": [
    {
     "name": "stderr",
     "output_type": "stream",
     "text": [
      "/Users/Nonna/DIC_copy/diveintocode-ml/sprint6/utils/ScratchDecisionTree.py:189: RuntimeWarning: invalid value encountered in long_scalars\n",
      "  tmp += (count / count_all) ** 2\n"
     ]
    },
    {
     "data": {
      "text/plain": [
       "array([0, 0, 1, 0, 1, 1, 1, 1, 1, 0])"
      ]
     },
     "execution_count": 19,
     "metadata": {},
     "output_type": "execute_result"
    }
   ],
   "source": [
    "pipeline(clf, train_x, train_y, test_x, test_y, normalization=True)"
   ]
  },
  {
   "cell_type": "code",
   "execution_count": 20,
   "metadata": {
    "collapsed": false
   },
   "outputs": [
    {
     "name": "stdout",
     "output_type": "stream",
     "text": [
      "[0 0 0 1 0 0 1 1 1 0]\n"
     ]
    }
   ],
   "source": [
    "print(test_y)"
   ]
  },
  {
   "cell_type": "markdown",
   "metadata": {},
   "source": [
    "### 【問題6】指標値の算出"
   ]
  },
  {
   "cell_type": "code",
   "execution_count": 21,
   "metadata": {
    "collapsed": false
   },
   "outputs": [
    {
     "name": "stderr",
     "output_type": "stream",
     "text": [
      "/Users/Nonna/DIC_copy/diveintocode-ml/sprint6/utils/ScratchDecisionTree.py:189: RuntimeWarning: invalid value encountered in long_scalars\n",
      "  tmp += (count / count_all) ** 2\n"
     ]
    }
   ],
   "source": [
    "result = pipeline(clf, train_x, train_y, test_x, test_y, normalization=True)"
   ]
  },
  {
   "cell_type": "code",
   "execution_count": 22,
   "metadata": {
    "collapsed": false
   },
   "outputs": [
    {
     "data": {
      "text/plain": [
       "0.6"
      ]
     },
     "execution_count": 22,
     "metadata": {},
     "output_type": "execute_result"
    }
   ],
   "source": [
    "clf.cal_accuracy(result, test_y)"
   ]
  },
  {
   "cell_type": "markdown",
   "metadata": {},
   "source": [
    "### 【問題7】決定領域の可視化"
   ]
  },
  {
   "cell_type": "code",
   "execution_count": 23,
   "metadata": {
    "collapsed": true
   },
   "outputs": [],
   "source": [
    "from matplotlib.colors import ListedColormap\n",
    "import matplotlib.patches as mpatches\n",
    "\n",
    "def decision_region(X_train, y_train, model, step=0.01, title='decision region', xlabel='xlabel', ylabel='ylabel', target_names=['versicolor', 'virginica']):\n",
    "    \"\"\"\n",
    "    2値分類を2次元の特徴量で学習したモデルの決定領域を描く。\n",
    "    背景の色が学習したモデルによる推定値から描画される。\n",
    "    散布図の点は学習用データである。\n",
    "\n",
    "    Parameters\n",
    "    ----------------\n",
    "    X_train : ndarray, shape(n_samples, 2)\n",
    "        学習用データの特徴量\n",
    "    y_train : ndarray, shape(n_samples,)\n",
    "        学習用データの正解値\n",
    "    model : object\n",
    "        学習したモデルのインスンタスを入れる\n",
    "    step : float, (default : 0.1)\n",
    "        推定値を計算する間隔を設定する\n",
    "    title : str\n",
    "        グラフのタイトルの文章を与える\n",
    "    xlabel, ylabel : str\n",
    "        軸ラベルの文章を与える\n",
    "    target_names= : list of str\n",
    "        凡例の一覧を与える\n",
    "    \"\"\"\n",
    "    # setting\n",
    "    scatter_color = ['red', 'blue']\n",
    "    contourf_color = ['pink', 'skyblue']\n",
    "    n_class = 2\n",
    "\n",
    "    # pred\n",
    "    mesh_f0, mesh_f1  = np.meshgrid(np.arange(np.min(X_train[:,0])-0.5, np.max(X_train[:,0])+0.5, step), np.arange(np.min(X_train[:,1])-0.5, np.max(X_train[:,1])+0.5, step))\n",
    "    mesh = np.c_[np.ravel(mesh_f0),np.ravel(mesh_f1)]\n",
    "    pred = model.predict(mesh).reshape(mesh_f0.shape)\n",
    "\n",
    "    # plot\n",
    "    plt.title(title)\n",
    "    plt.xlabel(xlabel)\n",
    "    plt.ylabel(ylabel)\n",
    "    plt.contourf(mesh_f0, mesh_f1, pred, n_class-1, cmap=ListedColormap(contourf_color))\n",
    "    plt.contour(mesh_f0, mesh_f1, pred, n_class-1, colors='y', linewidths=3, alpha=0.5)\n",
    "    for i, target in enumerate(set(y_train)):\n",
    "        plt.scatter(X_train[y_train==target][:, 0], X_train[y_train==target][:, 1], s=80, color=scatter_color[i], label=target_names[i], marker='o')\n",
    "    patches = [mpatches.Patch(color=scatter_color[i], label=target_names[i]) for i in range(n_class)]\n",
    "    plt.legend(handles=patches)\n",
    "    plt.legend()\n",
    "    plt.show()"
   ]
  },
  {
   "cell_type": "code",
   "execution_count": 24,
   "metadata": {
    "collapsed": false
   },
   "outputs": [
    {
     "data": {
      "image/png": "[encoded data removed]",
      "text/plain": [
       "<Figure size 432x288 with 1 Axes>"
      ]
     },
     "metadata": {
      "needs_background": "light"
     },
     "output_type": "display_data"
    }
   ],
   "source": [
    "decision_region(train_x, \n",
    "                train_y, \n",
    "                clf,\n",
    "                step=0.01, \n",
    "                title='decision region w/ train data', \n",
    "                xlabel='xlabel', \n",
    "                ylabel='ylabel', \n",
    "                target_names=['A', 'B'])"
   ]
  },
  {
   "cell_type": "markdown",
   "metadata": {},
   "source": [
    "#### irisで試してみる"
   ]
  },
  {
   "cell_type": "code",
   "execution_count": 25,
   "metadata": {
    "collapsed": true
   },
   "outputs": [],
   "source": [
    "from sklearn.datasets import load_iris"
   ]
  },
  {
   "cell_type": "code",
   "execution_count": 26,
   "metadata": {
    "collapsed": true
   },
   "outputs": [],
   "source": [
    "iris_data_set = load_iris()\n",
    "x = pd.DataFrame(iris_data_set.data, columns=iris_data_set.feature_names)    #Put explanatory variable into x as pandasdata frame\n",
    "y = pd.DataFrame(iris_data_set.target, columns=['Species'])    #Put iris response variable into y as pandasdata frame\n",
    "df = pd.concat([x, y], axis=1)"
   ]
  },
  {
   "cell_type": "code",
   "execution_count": 27,
   "metadata": {
    "collapsed": false
   },
   "outputs": [
    {
     "data": {
      "text/html": [
       "<div>\n",
       "<style scoped>\n",
       "    .dataframe tbody tr th:only-of-type {\n",
       "        vertical-align: middle;\n",
       "    }\n",
       "\n",
       "    .dataframe tbody tr th {\n",
       "        vertical-align: top;\n",
       "    }\n",
       "\n",
       "    .dataframe thead th {\n",
       "        text-align: right;\n",
       "    }\n",
       "</style>\n",
       "<table border=\"1\" class=\"dataframe\">\n",
       "  <thead>\n",
       "    <tr style=\"text-align: right;\">\n",
       "      <th></th>\n",
       "      <th>petal length (cm)</th>\n",
       "      <th>petal width (cm)</th>\n",
       "      <th>Species</th>\n",
       "    </tr>\n",
       "  </thead>\n",
       "  <tbody>\n",
       "    <tr>\n",
       "      <th>50</th>\n",
       "      <td>4.7</td>\n",
       "      <td>1.4</td>\n",
       "      <td>1</td>\n",
       "    </tr>\n",
       "    <tr>\n",
       "      <th>51</th>\n",
       "      <td>4.5</td>\n",
       "      <td>1.5</td>\n",
       "      <td>1</td>\n",
       "    </tr>\n",
       "    <tr>\n",
       "      <th>52</th>\n",
       "      <td>4.9</td>\n",
       "      <td>1.5</td>\n",
       "      <td>1</td>\n",
       "    </tr>\n",
       "    <tr>\n",
       "      <th>53</th>\n",
       "      <td>4.0</td>\n",
       "      <td>1.3</td>\n",
       "      <td>1</td>\n",
       "    </tr>\n",
       "    <tr>\n",
       "      <th>54</th>\n",
       "      <td>4.6</td>\n",
       "      <td>1.5</td>\n",
       "      <td>1</td>\n",
       "    </tr>\n",
       "  </tbody>\n",
       "</table>\n",
       "</div>"
      ],
      "text/plain": [
       "    petal length (cm)  petal width (cm)  Species\n",
       "50                4.7               1.4        1\n",
       "51                4.5               1.5        1\n",
       "52                4.9               1.5        1\n",
       "53                4.0               1.3        1\n",
       "54                4.6               1.5        1"
      ]
     },
     "execution_count": 27,
     "metadata": {},
     "output_type": "execute_result"
    }
   ],
   "source": [
    "col_name = df.columns.values\n",
    "data = df[[col_name[2], col_name[3], col_name[4]]]\n",
    "data = data[data[\"Species\"] != 0]\n",
    "data.head()"
   ]
  },
  {
   "cell_type": "code",
   "execution_count": 28,
   "metadata": {
    "collapsed": true
   },
   "outputs": [],
   "source": [
    "train_x, test_x, train_y, test_y = train_test_split(data[['petal length (cm)', 'petal width (cm)']].values, data['Species'].values, test_size=0.4, random_state=None)"
   ]
  },
  {
   "cell_type": "code",
   "execution_count": 29,
   "metadata": {
    "collapsed": true
   },
   "outputs": [],
   "source": [
    "#学習データの特徴量を標準化\n",
    "scaler = StandardScaler()\n",
    "scaler.fit(train_x)\n",
    "train_feature = scaler.transform(train_x)\n",
    "\n",
    "scaler.fit(test_x)\n",
    "test_feature = scaler.transform(test_x)"
   ]
  },
  {
   "cell_type": "code",
   "execution_count": 30,
   "metadata": {
    "collapsed": true
   },
   "outputs": [],
   "source": [
    "clf = cScratchDT.ScratchDecisionTreeClassifier(4)"
   ]
  },
  {
   "cell_type": "code",
   "execution_count": 31,
   "metadata": {
    "collapsed": false
   },
   "outputs": [
    {
     "name": "stderr",
     "output_type": "stream",
     "text": [
      "/Users/Nonna/DIC_copy/diveintocode-ml/sprint6/utils/ScratchDecisionTree.py:189: RuntimeWarning: invalid value encountered in long_scalars\n",
      "  tmp += (count / count_all) ** 2\n"
     ]
    }
   ],
   "source": [
    "result = pipeline(clf, train_x, train_y, test_x, test_y, normalization=True)"
   ]
  },
  {
   "cell_type": "code",
   "execution_count": 32,
   "metadata": {
    "collapsed": false
   },
   "outputs": [
    {
     "name": "stdout",
     "output_type": "stream",
     "text": [
      "[2 1 1 1 2 2 1 1 2 2 1 2 2 1 2 2 2 2 1 2 2 2 1 2 1 1 2 2 2 1 2 2 2 1 2 1 2\n",
      " 1 1 2]\n",
      "[2 1 1 1 2 1 1 1 2 2 1 2 2 1 2 2 1 1 1 2 2 2 1 2 1 1 2 2 2 1 2 2 2 1 2 1 1\n",
      " 1 1 2]\n"
     ]
    }
   ],
   "source": [
    "print(test_y)\n",
    "print(result)"
   ]
  },
  {
   "cell_type": "code",
   "execution_count": 33,
   "metadata": {
    "collapsed": false
   },
   "outputs": [
    {
     "data": {
      "text/plain": [
       "0.9"
      ]
     },
     "execution_count": 33,
     "metadata": {},
     "output_type": "execute_result"
    }
   ],
   "source": [
    "clf.cal_accuracy(result, test_y)"
   ]
  },
  {
   "cell_type": "markdown",
   "metadata": {},
   "source": [
    "結果、\n",
    "そこそこ分類できた。"
   ]
  },
  {
   "cell_type": "markdown",
   "metadata": {},
   "source": [
    "### 【問題8】決定木の利用場面"
   ]
  },
  {
   "cell_type": "markdown",
   "metadata": {},
   "source": [
    "決定木とは、何らかの結果が記録されたデータセットを分類することでその結果に影響を与えた要因を分析し、その分類結果を利用して将来の予測を行うものなので、下記のニーズに答えることができる。\n",
    "\n",
    "・自社商品・サービスの購入見込みが最も高い人は、どのような人であるかを知りたい\n",
    "・満足度やロイヤリティの高い生活者には、どのような属性があるのかを知りたい\n",
    "・商品が持つ要素のうち、生活者の満足度やロイヤリティに最も影響しているものを知りたい\n",
    "\n",
    "これらを説明する要素を、強い相関のあるものから順に樹形図の形で表現できるため、統計に詳しくない相手にも直感的に理解して貰いやすいという利点もあるため、上層部やお客様などの説明の際にも使いやすいと考えられる。\n",
    "\n",
    "※参考サイト　https://www.macromill.com/service/data_analysis/decision-tree.html\n",
    "　　　　　　https://enterprisezine.jp/iti/detail/6323"
   ]
  }
 ],
 "metadata": {
  "kernelspec": {
   "display_name": "Python 3",
   "language": "python",
   "name": "python3"
  },
  "language_info": {
   "codemirror_mode": {
    "name": "ipython",
    "version": 3
   },
   "file_extension": ".py",
   "mimetype": "text/x-python",
   "name": "python",
   "nbconvert_exporter": "python",
   "pygments_lexer": "ipython3",
   "version": "3.6.7"
  }
 },
 "nbformat": 4,
 "nbformat_minor": 2
}
