{
 "cells": [
  {
   "cell_type": "markdown",
   "metadata": {},
   "source": [
    "# Week2事前課題1\n",
    "## 【課題1】統計基礎用語の説明\n",
    "\n",
    "\n"
   ]
  },
  {
   "cell_type": "markdown",
   "metadata": {},
   "source": [
    "### ・標準偏差について、分散との違いや関係性、どんな時に使う指標なのかをお答えください。"
   ]
  },
  {
   "cell_type": "markdown",
   "metadata": {},
   "source": [
    "標準偏差とはデータのばらつき（=データが平均値の周辺にどのくらいの広がりや散らばりを持っているか）の大きさを表す指標で、\n",
    "「各データの値と平均の差の2乗の合計を、データの総数nで割った値（=分散）の正の平方根」という公式で求められます。\n",
    "分散はデータがどの程度平均値の周りにばらついているかを表す指標ではありますが、元のデータを2乗しているために元のデータの数値と単位が揃わず直感的に捉えづらく、また分散同士は比べることはできるが分散と平均を例えば足したり引いたりするなど直接比較することができないという欠点があります。\n",
    "\n",
    "2つのデータのばらつき具合を比較したいとき、標準偏差を使うとうまくいくことがあります。\n",
    "標準偏差は、「全体的に偏差が大きいのか小さいのか」を表す値で、これが大きいほど偏差の大きなデータが多いと言えます。\n",
    "データの平均と標準偏差がわかっていると、あるデータが特別な値なのかそうでないのか(どれくらいスゴイのか)が、わかりやすくなります。\n",
    "\n",
    "例）テストの点数が７０点だった時、それがスゴイかどうか？\n",
    "一般的なテストの標準偏差は10～25点程度なので、平均点が６０点の時\n",
    "「標準偏差が約36.67点⇒ばらつきの大きいテストである⇒７０点はスゴくない」\n",
    "「標準偏差は約6.68点⇒ばらつきの小さいテスト⇒７０点はスゴイ」\n",
    "と判断できます。"
   ]
  },
  {
   "cell_type": "markdown",
   "metadata": {},
   "source": [
    "### ・共分散行列について述べてください。"
   ]
  },
  {
   "cell_type": "code",
   "execution_count": null,
   "metadata": {
    "collapsed": true
   },
   "outputs": [],
   "source": [
    "ベクトルの要素間の共分散の行列のことです。\n",
    "\n",
    "まず共分散とは、2次元データ (Xi,Yi)(i=1,2,3,...,n)の間の関連性を調べるものです。\n",
    "データXiとYiの間で、片方が大きくなった時、もう片方も大きくなる場合に共分散の値は大きくなります。\n",
    "例）身長データが大きくなると、体重データも大きくなる\n",
    "また、片方が大きくなった時、もう片方は小さくなる時は、共分散の値は大きなマイナスの値をとります。\n",
    "例）日本史のテストの点数データが大きいと、化学のテストの点数データは小さくなる\n",
    "\n",
    "n個のm次元のデータがあった時、 (Xi1,Xi2,...,Xim)(i=1,2,3,...,n), m個の変数のそれぞれのペアについて共分散を計算すると、\n",
    "それはm×m行列になります。\n",
    "これを共分散行列と言います。"
   ]
  },
  {
   "cell_type": "markdown",
   "metadata": {},
   "source": [
    "### ・1次元の正規分布と多次元の正規分布について述べてください。特にどういう時に使うのかについてお答えください。"
   ]
  },
  {
   "cell_type": "code",
   "execution_count": null,
   "metadata": {
    "collapsed": true
   },
   "outputs": [],
   "source": [
    "正規分布とは、平均値の近くに多く数があり平均値から離れれば離れるほど数が少なくなるようなデータを表す確率分布のことです。\n",
    "変数を共分散行列まで含めた場合の正規分布を多次元の正規分布と呼びます。\n",
    "\n",
    "自然界の事象の中には正規分布に従う数量の分布をとるものがあり、\n",
    "統計学や自然科学、社会科学の様々な場面で複雑な現象を簡単に表すモデルとして用いられています。\n",
    "例えば、実験における測定の誤差は正規分布に従って分布すると仮定され不確かさの評価が計算されています。\n",
    "またマーケティング理論におけるイノベーター理論、キャズム理論も正規分布を活用して説明されます。\n",
    "参考）https://www.albert2005.co.jp/knowledge/statistics_analysis/probability_distribution/normal_distribution"
   ]
  },
  {
   "cell_type": "markdown",
   "metadata": {},
   "source": [
    "## 【課題2】データ点の作成"
   ]
  },
  {
   "cell_type": "markdown",
   "metadata": {},
   "source": [
    "### ・2次元正規分布を用いて、中心(平均)が(-3,0)と(0,-3)、共分散行列が以下で表現される確率分布から生成される\n",
    "### 　データ点を500個ずつ作成せよ。\n",
    "### 　その際、片方の500個のデータにはdata1、もう片方の500個のデータにはdata2と名付けて作成せよ。"
   ]
  },
  {
   "cell_type": "markdown",
   "metadata": {},
   "source": [
    "以下：https://t.gyazo.com/teams/diveintocode/b5dd7bfdf89156874a33b09fb33fac2e.png\n",
    "\n",
    "\n",
    "ヒント\n",
    "np.random.multivariate_normalを用いて構いません。公式ドキュメントや日本語の記事にも情報が載っています。\n",
    "2つの確率分布から生成されるデータは異なる変数で定義してください。"
   ]
  },
  {
   "cell_type": "code",
   "execution_count": 114,
   "metadata": {
    "collapsed": false
   },
   "outputs": [],
   "source": [
    "import numpy as np\n",
    "\n",
    "#平均\n",
    "mu1 = [-3,0]\n",
    "mu2 = [0,-3]\n",
    "\n",
    "#共分散\n",
    "cov = [[1.0,0.8],[0.8,1.0]]\n",
    "\n",
    "# 2次元正規乱数を500個生成\n",
    "data1 = np.random.multivariate_normal(mu1,cov,500)\n",
    "data2 = np.random.multivariate_normal(mu2,cov,500)"
   ]
  },
  {
   "cell_type": "markdown",
   "metadata": {},
   "source": [
    "## 【課題3】データ点へのラベル付け"
   ]
  },
  {
   "cell_type": "markdown",
   "metadata": {},
   "source": [
    "実際に扱うデータは各データが何のグループに属しているのかラベル付けされていなければなりません。\n",
    "今回は二つの確率分布からデータをサンプリングしていますので、各500個のデータに対して、2つの確率分布のうち、\n",
    "どちらの確率分布からサンプリングされたものなのか、ラベル付けする必要があります。\n",
    "\n",
    "上で作成した500個×2のデータに対してラベル付けをしてください、割り当てるラベルは区別できれば何でもいいですが、ここでは簡単に0と1にしてください。\n",
    "\n",
    "やり方はたくさんありますが、ヒントを示します。\n",
    "\n",
    "２つの確率分布からサンプリングされたデータ(numpy配列)をnp.concatenateを用いて結合する。\n",
    "結合した行列の上から500番目まではを割り振り、501番目~1000番目に0を割り振る。\n",
    "割り振る際は、結合した配列の３列目にラベルの列を追加する。\n",
    "1、2列目にはすでに、各データのx座標とy座標が格納されています。\n"
   ]
  },
  {
   "cell_type": "code",
   "execution_count": null,
   "metadata": {
    "collapsed": false
   },
   "outputs": [],
   "source": [
    "## ### 疲れてしまったので、【課題3】は途中ですが一旦提出させてください。 #####\n",
    "\n",
    "\n",
    "#データを結合する\n",
    "np.concatenate([data1, data2])\n",
    "concatenated_data1_data2 = np.concatenate([data1, data2])\n",
    "# print(concatenated_data1_data2)\n",
    "\n",
    "labeled_0_list = []\n",
    "\n",
    "for _ in range(500):\n",
    "    labeled_list = labeled_list.append[0]\n",
    "    \n",
    "    return labeled_0_list\n",
    "\n",
    "labeled_1_list = []\n",
    "\n",
    "for _ in range(500):\n",
    "    labeled_01list = labeled_01list.append[1]\n",
    "    return labeled_01_list\n",
    "\n",
    "print(labeled_01_list)"
   ]
  },
  {
   "cell_type": "markdown",
   "metadata": {},
   "source": [
    "## 【課題4】正しくラベル付けされているか見てみる\n",
    "\n",
    "### ・前回の課題でも登場したmatplotlibを使って可視化しましょう。"
   ]
  },
  {
   "cell_type": "code",
   "execution_count": 117,
   "metadata": {
    "collapsed": false
   },
   "outputs": [
    {
     "data": {
      "image/png": "[encoded data removed]",
      "text/plain": [
       "<matplotlib.figure.Figure at 0x1157d00b8>"
      ]
     },
     "metadata": {},
     "output_type": "display_data"
    }
   ],
   "source": [
    "    \"\"\"\n",
    "    \n",
    "雛形として以下を用いてください。?の部分はご自身で考えてください。\n",
    "\n",
    "import matplotlib.pyplot as plt\n",
    "%matplotlib inline\n",
    "plt.scatter(?, ?, s=50, c=?, marker='o')\n",
    "plt.show()\n",
    "\n",
    "    \"\"\"    \n",
    "\n",
    "import matplotlib.pyplot as plt\n",
    "%matplotlib inline\n",
    "plt.scatter(data1, data2, s=50, c='yellow', marker='o')\n",
    "plt.show()"
   ]
  }
 ],
 "metadata": {
  "kernelspec": {
   "display_name": "Python 3",
   "language": "python",
   "name": "python3"
  },
  "language_info": {
   "codemirror_mode": {
    "name": "ipython",
    "version": 3
   },
   "file_extension": ".py",
   "mimetype": "text/x-python",
   "name": "python",
   "nbconvert_exporter": "python",
   "pygments_lexer": "ipython3",
   "version": "3.6.0"
  }
 },
 "nbformat": 4,
 "nbformat_minor": 2
}
