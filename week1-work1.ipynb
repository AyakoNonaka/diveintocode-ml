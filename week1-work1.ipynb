{
 "cells": [
  {
   "cell_type": "code",
   "execution_count": 1,
   "metadata": {
    "collapsed": false
   },
   "outputs": [
    {
     "name": "stdout",
     "output_type": "stream",
     "text": [
      "1\n",
      "2\n",
      "3\n",
      "End\n"
     ]
    }
   ],
   "source": [
    "list = [1, 2, 3]\n",
    "# list内の全要素が代入されるまで繰り返し\n",
    "for x in list: # listの内容を1つずつ取り出してxに代入\n",
    "    print(x)# xを表示\n",
    "\n",
    "print(\"End\")"
   ]
  },
  {
   "cell_type": "code",
   "execution_count": 2,
   "metadata": {
    "collapsed": false
   },
   "outputs": [
    {
     "name": "stdout",
     "output_type": "stream",
     "text": [
      "厚さ： 0.00016メートル\n"
     ]
    }
   ],
   "source": [
    "\"\"\"\n",
    "紙を1回折った時の厚さを計算するコード\n",
    "\"\"\"\n",
    "\n",
    "thickness = 0.00008\n",
    "\n",
    "folded_thickness = thickness*2\n",
    "\n",
    "print(\"厚さ： {}メートル\".format(folded_thickness))\n",
    "\n",
    "# メートルをキロメートルに変換して小数点以下2桁で表示する\n",
    "print(\"厚さ： {:.2f}キロメートル\".format(folded_thickness/1000))\n"
   ]
  },
  {
   "cell_type": "code",
   "execution_count": null,
   "metadata": {
    "collapsed": true
   },
   "outputs": [],
   "source": []
  }
 ],
 "metadata": {
  "kernelspec": {
   "display_name": "Python 3",
   "language": "python",
   "name": "python3"
  },
  "language_info": {
   "codemirror_mode": {
    "name": "ipython",
    "version": 3
   },
   "file_extension": ".py",
   "mimetype": "text/x-python",
   "name": "python",
   "nbconvert_exporter": "python",
   "pygments_lexer": "ipython3",
   "version": "3.6.0"
  }
 },
 "nbformat": 4,
 "nbformat_minor": 2
}
