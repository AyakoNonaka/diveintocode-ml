{
 "cells": [
  {
   "cell_type": "markdown",
   "metadata": {
    "colab_type": "text",
    "id": "tJJpZdRGwym0"
   },
   "source": [
    "# ディープラーニング フレームワーク２"
   ]
  },
  {
   "cell_type": "markdown",
   "metadata": {
    "colab_type": "text",
    "id": "gtvSeQ-DkrhT"
   },
   "source": [
    "# 【問題2】Iris（2値分類）をKerasで学習\n",
    "Sprint14で作成したIrisデータセットに対する2値分類をKerasに書き換えてください。"
   ]
  },
  {
   "cell_type": "code",
   "execution_count": 1,
   "metadata": {
    "colab": {},
    "colab_type": "code",
    "id": "WrZ-kxeaktck"
   },
   "outputs": [],
   "source": [
    "import tensorflow as tf\n",
    "import pandas as pd\n",
    "import numpy as np\n",
    "from sklearn.model_selection import train_test_split\n",
    "from sklearn import datasets\n",
    "iris = datasets.load_iris()\n",
    "X = iris.data \n",
    "y = iris.target \n",
    "X = X[:100]\n",
    "y = y[:100]\n",
    "y = y.astype(np.int)[:, np.newaxis]\n",
    "# trainとtestに分割\n",
    "X_train, X_test, y_train, y_test = train_test_split(X, y, test_size=0.2, random_state=0)\n",
    "# さらにtrainとvalに分割\n",
    "X_train, X_val, y_train, y_val = train_test_split(X_train, y_train, test_size=0.2, random_state=0)"
   ]
  },
  {
   "cell_type": "code",
   "execution_count": 2,
   "metadata": {
    "colab": {
     "base_uri": "https://localhost:8080/",
     "height": 462
    },
    "colab_type": "code",
    "executionInfo": {
     "elapsed": 1882,
     "status": "ok",
     "timestamp": 1551859555257,
     "user": {
      "displayName": "はぎ",
      "photoUrl": "",
      "userId": "03923874740366966476"
     },
     "user_tz": -540
    },
    "id": "BtWIMJ5nlW9n",
    "outputId": "b1f7884b-6c05-4547-96b6-da5ce40d7484"
   },
   "outputs": [
    {
     "name": "stdout",
     "output_type": "stream",
     "text": [
      "Train on 64 samples, validate on 16 samples\n",
      "Epoch 1/10\n",
      "64/64 [==============================] - 0s 7ms/step - loss: 0.6250 - acc: 0.6719 - val_loss: 0.5361 - val_acc: 1.0000\n",
      "Epoch 2/10\n",
      "64/64 [==============================] - 0s 230us/step - loss: 0.4734 - acc: 1.0000 - val_loss: 0.4139 - val_acc: 1.0000\n",
      "Epoch 3/10\n",
      "64/64 [==============================] - 0s 258us/step - loss: 0.3698 - acc: 1.0000 - val_loss: 0.3274 - val_acc: 1.0000\n",
      "Epoch 4/10\n",
      "64/64 [==============================] - 0s 266us/step - loss: 0.2800 - acc: 1.0000 - val_loss: 0.2265 - val_acc: 1.0000\n",
      "Epoch 5/10\n",
      "64/64 [==============================] - 0s 264us/step - loss: 0.2095 - acc: 1.0000 - val_loss: 0.1610 - val_acc: 1.0000\n",
      "Epoch 6/10\n",
      "64/64 [==============================] - 0s 263us/step - loss: 0.1553 - acc: 1.0000 - val_loss: 0.1175 - val_acc: 1.0000\n",
      "Epoch 7/10\n",
      "64/64 [==============================] - 0s 285us/step - loss: 0.1142 - acc: 1.0000 - val_loss: 0.0867 - val_acc: 1.0000\n",
      "Epoch 8/10\n",
      "64/64 [==============================] - 0s 226us/step - loss: 0.0843 - acc: 1.0000 - val_loss: 0.0622 - val_acc: 1.0000\n",
      "Epoch 9/10\n",
      "64/64 [==============================] - 0s 243us/step - loss: 0.0626 - acc: 1.0000 - val_loss: 0.0455 - val_acc: 1.0000\n",
      "Epoch 10/10\n",
      "64/64 [==============================] - 0s 220us/step - loss: 0.0480 - acc: 1.0000 - val_loss: 0.0348 - val_acc: 1.0000\n"
     ]
    },
    {
     "data": {
      "text/plain": [
       "<tensorflow.python.keras.callbacks.History at 0x1a32d495f8>"
      ]
     },
     "execution_count": 2,
     "metadata": {},
     "output_type": "execute_result"
    }
   ],
   "source": [
    "iris_model = tf.keras.Sequential()\n",
    "\n",
    "inputs = tf.keras.layers.Input(shape=(4,))\n",
    "x = tf.keras.layers.Dense(50, activation='relu')(inputs)    \n",
    "x = tf.keras.layers.Dense(100, activation='relu')(x)\n",
    "predictions = tf.keras.layers.Dense(1, activation='sigmoid')(x)\n",
    "\n",
    "model_iris = tf.keras.Model(inputs=inputs, outputs=predictions)\n",
    "\n",
    "model_iris.compile(optimizer=tf.keras.optimizers.Adam(lr=0.001),\n",
    "              loss='binary_crossentropy',\n",
    "              metrics=['accuracy'])\n",
    "\n",
    "model_iris.fit(X_train, y_train, validation_data=(X_val, y_val),  batch_size=10, epochs=10)\n",
    "#fit(x=None, y=None, batch_size=None, epochs=1, verbose=1, callbacks=None,\n",
    "#validation_split=0.0, validation_data=None, shuffle=True, class_weight=None, \n",
    "#sample_weight=None, initial_epoch=0, steps_per_epoch=None, validation_steps=None)"
   ]
  },
  {
   "cell_type": "markdown",
   "metadata": {
    "colab_type": "text",
    "id": "KsRcTpfjCxzA"
   },
   "source": [
    "# 【問題3】Iris（多値分類）をKerasで学習"
   ]
  },
  {
   "cell_type": "code",
   "execution_count": 3,
   "metadata": {
    "colab": {},
    "colab_type": "code",
    "id": "GTZom7MrlmT7"
   },
   "outputs": [],
   "source": [
    "import tensorflow as tf\n",
    "import pandas as pd\n",
    "import numpy as np\n",
    "from sklearn.model_selection import train_test_split\n",
    "from sklearn import datasets\n",
    "iris = datasets.load_iris()\n",
    "X = iris.data \n",
    "y = iris.target \n",
    "#ワンホット化\n",
    "zero = np.zeros((y.shape[0], 3))\n",
    "for i in range(len(y)):\n",
    "    zero[i, y[i]] = 1\n",
    "y = zero\n",
    "# trainとtestに分割\n",
    "X_train, X_test, y_train, y_test = train_test_split(X, y, test_size=0.2, random_state=0)\n",
    "# さらにtrainとvalに分割\n",
    "X_train, X_val, y_train, y_val = train_test_split(X_train, y_train, test_size=0.2, random_state=0)"
   ]
  },
  {
   "cell_type": "code",
   "execution_count": null,
   "metadata": {
    "colab": {
     "base_uri": "https://localhost:8080/",
     "height": 731
    },
    "colab_type": "code",
    "executionInfo": {
     "elapsed": 3071,
     "status": "ok",
     "timestamp": 1551861828472,
     "user": {
      "displayName": "はぎ",
      "photoUrl": "",
      "userId": "03923874740366966476"
     },
     "user_tz": -540
    },
    "id": "oMawlD5H_erO",
    "outputId": "7f7f2a85-7fa9-4247-cea6-f15f6fedf39c"
   },
   "outputs": [
    {
     "name": "stdout",
     "output_type": "stream",
     "text": [
      "Train on 96 samples, validate on 24 samples\n",
      "Epoch 1/20\n",
      "96/96 [==============================] - 0s 5ms/step - loss: 0.9074 - acc: 0.6875 - val_loss: 0.7972 - val_acc: 0.7083\n",
      "Epoch 2/20\n",
      "96/96 [==============================] - 0s 214us/step - loss: 0.7457 - acc: 0.8437 - val_loss: 0.6842 - val_acc: 0.7083\n",
      "Epoch 3/20\n",
      "96/96 [==============================] - 0s 245us/step - loss: 0.6234 - acc: 0.8125 - val_loss: 0.5905 - val_acc: 0.7083\n",
      "Epoch 4/20\n",
      "96/96 [==============================] - 0s 253us/step - loss: 0.5364 - acc: 0.7604 - val_loss: 0.5244 - val_acc: 0.7083\n",
      "Epoch 5/20\n",
      "96/96 [==============================] - 0s 214us/step - loss: 0.4669 - acc: 0.8125 - val_loss: 0.4725 - val_acc: 0.9167\n",
      "Epoch 6/20\n",
      "96/96 [==============================] - 0s 215us/step - loss: 0.4275 - acc: 0.9479 - val_loss: 0.4352 - val_acc: 0.9167\n",
      "Epoch 7/20\n",
      "96/96 [==============================] - 0s 222us/step - loss: 0.3697 - acc: 0.9271 - val_loss: 0.4046 - val_acc: 0.9167\n",
      "Epoch 8/20\n",
      "96/96 [==============================] - 0s 196us/step - loss: 0.3303 - acc: 0.9375 - val_loss: 0.3796 - val_acc: 0.9167\n",
      "Epoch 9/20\n",
      "96/96 [==============================] - 0s 224us/step - loss: 0.3030 - acc: 0.9687 - val_loss: 0.3603 - val_acc: 0.9167\n",
      "Epoch 10/20\n",
      "96/96 [==============================] - 0s 241us/step - loss: 0.2848 - acc: 0.9167 - val_loss: 0.3381 - val_acc: 0.9167\n",
      "Epoch 11/20\n",
      "96/96 [==============================] - 0s 247us/step - loss: 0.2535 - acc: 0.9896 - val_loss: 0.3241 - val_acc: 0.9167\n",
      "Epoch 12/20\n",
      "96/96 [==============================] - 0s 251us/step - loss: 0.2346 - acc: 0.9479 - val_loss: 0.3106 - val_acc: 0.9167\n",
      "Epoch 13/20\n",
      "96/96 [==============================] - 0s 217us/step - loss: 0.2099 - acc: 0.9792 - val_loss: 0.2949 - val_acc: 0.9167\n",
      "Epoch 14/20\n",
      "96/96 [==============================] - 0s 202us/step - loss: 0.1942 - acc: 0.9583 - val_loss: 0.2795 - val_acc: 0.9167\n",
      "Epoch 15/20\n",
      "96/96 [==============================] - 0s 221us/step - loss: 0.1772 - acc: 0.9792 - val_loss: 0.2696 - val_acc: 0.9167\n",
      "Epoch 16/20\n",
      "96/96 [==============================] - 0s 225us/step - loss: 0.1645 - acc: 0.9792 - val_loss: 0.2591 - val_acc: 0.9167\n",
      "Epoch 17/20\n",
      "96/96 [==============================] - 0s 220us/step - loss: 0.1726 - acc: 0.9479 - val_loss: 0.2599 - val_acc: 0.9167\n",
      "Epoch 18/20\n",
      "96/96 [==============================] - 0s 210us/step - loss: 0.1487 - acc: 0.9687 - val_loss: 0.2532 - val_acc: 0.9167\n",
      "Epoch 19/20\n",
      "96/96 [==============================] - 0s 201us/step - loss: 0.1323 - acc: 0.9687 - val_loss: 0.2340 - val_acc: 0.9167\n",
      "Epoch 20/20\n",
      "96/96 [==============================] - 0s 204us/step - loss: 0.1256 - acc: 0.9792 - val_loss: 0.2294 - val_acc: 0.9167\n"
     ]
    },
    {
     "data": {
      "text/plain": [
       "<tensorflow.python.keras.callbacks.History at 0x1a33422908>"
      ]
     },
     "execution_count": 4,
     "metadata": {},
     "output_type": "execute_result"
    }
   ],
   "source": [
    "iris_model = tf.keras.Sequential()\n",
    "\n",
    "inputs = tf.keras.layers.Input(shape=(4,))\n",
    "x = tf.keras.layers.Dense(50, activation='relu')(inputs)    \n",
    "x = tf.keras.layers.Dense(100, activation='relu')(x)\n",
    "predictions = tf.keras.layers.Dense(3, activation='softmax')(x)\n",
    "\n",
    "model_iris = tf.keras.Model(inputs=inputs, outputs=predictions)\n",
    "\n",
    "model_iris.compile(optimizer=tf.keras.optimizers.Adam(lr=0.001),\n",
    "              loss='categorical_crossentropy',\n",
    "              metrics=['accuracy'])\n",
    "\n",
    "model_iris.fit(X_train, y_train, validation_data=(X_val, y_val),  batch_size=10, epochs=20)"
   ]
  },
  {
   "cell_type": "markdown",
   "metadata": {
    "colab_type": "text",
    "id": "QXOlcLx1LbHS"
   },
   "source": [
    "# 【問題4】House PricesをKerasで学習"
   ]
  },
  {
   "cell_type": "code",
   "execution_count": null,
   "metadata": {
    "colab": {},
    "colab_type": "code",
    "id": "39ICV0WyLZta"
   },
   "outputs": [
    {
     "name": "stderr",
     "output_type": "stream",
     "text": [
      "/Users/Nonna/.pyenv/versions/anaconda3-4.3.0/lib/python3.6/site-packages/sklearn/utils/validation.py:595: DataConversionWarning: Data with input dtype int64 was converted to float64 by StandardScaler.\n",
      "  warnings.warn(msg, DataConversionWarning)\n",
      "/Users/Nonna/.pyenv/versions/anaconda3-4.3.0/lib/python3.6/site-packages/sklearn/utils/validation.py:595: DataConversionWarning: Data with input dtype int64 was converted to float64 by StandardScaler.\n",
      "  warnings.warn(msg, DataConversionWarning)\n",
      "/Users/Nonna/.pyenv/versions/anaconda3-4.3.0/lib/python3.6/site-packages/sklearn/utils/validation.py:595: DataConversionWarning: Data with input dtype int64 was converted to float64 by StandardScaler.\n",
      "  warnings.warn(msg, DataConversionWarning)\n",
      "/Users/Nonna/.pyenv/versions/anaconda3-4.3.0/lib/python3.6/site-packages/sklearn/utils/validation.py:595: DataConversionWarning: Data with input dtype int64 was converted to float64 by StandardScaler.\n",
      "  warnings.warn(msg, DataConversionWarning)\n"
     ]
    }
   ],
   "source": [
    "import pandas as pd\n",
    "import numpy as np\n",
    "from sklearn.model_selection import train_test_split\n",
    "import tensorflow as tf\n",
    "from sklearn.preprocessing import StandardScaler\n",
    "\n",
    "# データセットの読み込み\n",
    "dataset_path =\"../sprint14/train.csv\"\n",
    "df = pd.read_csv(dataset_path)\n",
    "y = df[\"SalePrice\"]\n",
    "X = df.loc[:,['GrLivArea', 'YearBuilt']]\n",
    "y = np.array(y)\n",
    "X = np.array(X)\n",
    "y = np.log(y) #分布偏ってるのでlog\n",
    "y = y.astype(\"f\")[:, np.newaxis]\n",
    "# trainとtestに分割\n",
    "X_train, X_test, y_train, y_test = train_test_split(X, y, test_size=0.2, random_state=0)\n",
    "# さらにtrainとvalに分割\n",
    "X_train, X_val, y_train, y_val = train_test_split(X_train, y_train, test_size=0.2, random_state=0)\n",
    "#標準化\n",
    "sc = StandardScaler()\n",
    "X_train = sc.fit_transform(X_train).astype(\"f\")\n",
    "X_val = sc.transform(X_val).astype(\"f\")\n",
    "X_test = sc.transform(X_test).astype(\"f\")"
   ]
  },
  {
   "cell_type": "code",
   "execution_count": null,
   "metadata": {},
   "outputs": [
    {
     "name": "stdout",
     "output_type": "stream",
     "text": [
      "Train on 934 samples, validate on 234 samples\n",
      "Epoch 1/10\n",
      "934/934 [==============================] - 1s 656us/step - loss: 76.9981 - mean_absolute_error: 8.0853 - val_loss: 9.0933 - val_mean_absolute_error: 2.4388\n",
      "Epoch 2/10\n",
      "934/934 [==============================] - 0s 152us/step - loss: 7.9452 - mean_absolute_error: 2.0879 - val_loss: 4.5439 - val_mean_absolute_error: 1.6470\n",
      "Epoch 3/10\n",
      "934/934 [==============================] - 0s 144us/step - loss: 4.3444 - mean_absolute_error: 1.5674 - val_loss: 2.5825 - val_mean_absolute_error: 1.2323\n",
      "Epoch 4/10\n",
      "934/934 [==============================] - 0s 157us/step - loss: 2.4622 - mean_absolute_error: 1.1613 - val_loss: 1.4373 - val_mean_absolute_error: 0.9504\n",
      "Epoch 5/10\n",
      "934/934 [==============================] - 0s 157us/step - loss: 1.4469 - mean_absolute_error: 0.8749 - val_loss: 0.8642 - val_mean_absolute_error: 0.7329\n",
      "Epoch 6/10\n",
      "934/934 [==============================] - 0s 157us/step - loss: 0.8558 - mean_absolute_error: 0.6791 - val_loss: 0.5499 - val_mean_absolute_error: 0.5777\n",
      "Epoch 7/10\n",
      "934/934 [==============================] - 0s 161us/step - loss: 0.5240 - mean_absolute_error: 0.5208 - val_loss: 0.3152 - val_mean_absolute_error: 0.4238\n",
      "Epoch 8/10\n",
      "934/934 [==============================] - 0s 219us/step - loss: 0.3170 - mean_absolute_error: 0.3955 - val_loss: 0.1778 - val_mean_absolute_error: 0.3236\n",
      "Epoch 9/10\n",
      "934/934 [==============================] - 0s 201us/step - loss: 0.1936 - mean_absolute_error: 0.3071 - val_loss: 0.1047 - val_mean_absolute_error: 0.2405\n",
      "Epoch 10/10\n",
      "934/934 [==============================] - 0s 166us/step - loss: 0.1168 - mean_absolute_error: 0.2370 - val_loss: 0.0783 - val_mean_absolute_error: 0.2034\n"
     ]
    },
    {
     "data": {
      "text/plain": [
       "<tensorflow.python.keras.callbacks.History at 0x112567550>"
      ]
     },
     "execution_count": 6,
     "metadata": {},
     "output_type": "execute_result"
    }
   ],
   "source": [
    "iris_model = tf.keras.Sequential()\n",
    "\n",
    "inputs = tf.keras.layers.Input(shape=(2,))\n",
    "x = tf.keras.layers.Dense(50, activation='relu')(inputs)    \n",
    "x = tf.keras.layers.Dense(100, activation='relu')(x)\n",
    "predictions = tf.keras.layers.Dense(1)(x)\n",
    "\n",
    "model_iris = tf.keras.Model(inputs=inputs, outputs=predictions)\n",
    "\n",
    "model_iris.compile(optimizer=tf.keras.optimizers.Adam(lr=0.001),\n",
    "              loss='mse',\n",
    "              metrics=['mae'])\n",
    "\n",
    "model_iris.fit(X_train, y_train, validation_data=(X_val, y_val),  batch_size=10, epochs=10)"
   ]
  },
  {
   "cell_type": "markdown",
   "metadata": {},
   "source": [
    "# 【問題5】MNISTをKerasで学習"
   ]
  },
  {
   "cell_type": "code",
   "execution_count": null,
   "metadata": {},
   "outputs": [
    {
     "name": "stdout",
     "output_type": "stream",
     "text": [
      "WARNING:tensorflow:From <ipython-input-7-01ce64bfe755>:3: read_data_sets (from tensorflow.contrib.learn.python.learn.datasets.mnist) is deprecated and will be removed in a future version.\n",
      "Instructions for updating:\n",
      "Please use alternatives such as official/mnist/dataset.py from tensorflow/models.\n",
      "WARNING:tensorflow:From /Users/Nonna/.pyenv/versions/anaconda3-4.3.0/lib/python3.6/site-packages/tensorflow/contrib/learn/python/learn/datasets/mnist.py:260: maybe_download (from tensorflow.contrib.learn.python.learn.datasets.base) is deprecated and will be removed in a future version.\n",
      "Instructions for updating:\n",
      "Please write your own downloading logic.\n",
      "WARNING:tensorflow:From /Users/Nonna/.pyenv/versions/anaconda3-4.3.0/lib/python3.6/site-packages/tensorflow/contrib/learn/python/learn/datasets/mnist.py:262: extract_images (from tensorflow.contrib.learn.python.learn.datasets.mnist) is deprecated and will be removed in a future version.\n",
      "Instructions for updating:\n",
      "Please use tf.data to implement this functionality.\n",
      "Extracting MNIST_data/train-images-idx3-ubyte.gz\n",
      "WARNING:tensorflow:From /Users/Nonna/.pyenv/versions/anaconda3-4.3.0/lib/python3.6/site-packages/tensorflow/contrib/learn/python/learn/datasets/mnist.py:267: extract_labels (from tensorflow.contrib.learn.python.learn.datasets.mnist) is deprecated and will be removed in a future version.\n",
      "Instructions for updating:\n",
      "Please use tf.data to implement this functionality.\n",
      "Extracting MNIST_data/train-labels-idx1-ubyte.gz\n",
      "WARNING:tensorflow:From /Users/Nonna/.pyenv/versions/anaconda3-4.3.0/lib/python3.6/site-packages/tensorflow/contrib/learn/python/learn/datasets/mnist.py:110: dense_to_one_hot (from tensorflow.contrib.learn.python.learn.datasets.mnist) is deprecated and will be removed in a future version.\n",
      "Instructions for updating:\n",
      "Please use tf.one_hot on tensors.\n",
      "Extracting MNIST_data/t10k-images-idx3-ubyte.gz\n",
      "Extracting MNIST_data/t10k-labels-idx1-ubyte.gz\n",
      "WARNING:tensorflow:From /Users/Nonna/.pyenv/versions/anaconda3-4.3.0/lib/python3.6/site-packages/tensorflow/contrib/learn/python/learn/datasets/mnist.py:290: DataSet.__init__ (from tensorflow.contrib.learn.python.learn.datasets.mnist) is deprecated and will be removed in a future version.\n",
      "Instructions for updating:\n",
      "Please use alternatives such as official/mnist/dataset.py from tensorflow/models.\n"
     ]
    }
   ],
   "source": [
    "from tensorflow.examples.tutorials.mnist import input_data\n",
    "# データセットの読み込み\n",
    "mnist = input_data.read_data_sets(\"MNIST_data/\", one_hot=True)\n",
    "\n",
    "X = mnist.train.images\n",
    "y = mnist.train.labels\n",
    "#X /= 255.0 されてたのでいらない\n",
    "X = X.reshape(-1, 28,28,1) #フラットになってるのでreshape\n",
    "X = X.astype(\"f\")\n",
    "y = y.astype(\"f\")\n",
    "\n",
    "# trainとtestに分割\n",
    "X_train, X_test, y_train, y_test = train_test_split(X, y, test_size=0.2, random_state=0)\n",
    "# さらにtrainとvalに分割\n",
    "X_train, X_val, y_train, y_val = train_test_split(X_train, y_train, test_size=0.2, random_state=0)\n"
   ]
  },
  {
   "cell_type": "code",
   "execution_count": null,
   "metadata": {
    "scrolled": true
   },
   "outputs": [
    {
     "name": "stdout",
     "output_type": "stream",
     "text": [
      "Train on 35200 samples, validate on 8800 samples\n",
      "Epoch 1/20\n",
      "35200/35200 [==============================] - 39s 1ms/step - loss: 0.3194 - acc: 0.9016 - val_loss: 0.1247 - val_acc: 0.9599\n",
      "Epoch 2/20\n",
      "35200/35200 [==============================] - 45s 1ms/step - loss: 0.0815 - acc: 0.9754 - val_loss: 0.0676 - val_acc: 0.9789\n",
      "Epoch 3/20\n",
      "35200/35200 [==============================] - 45s 1ms/step - loss: 0.0517 - acc: 0.9835 - val_loss: 0.0888 - val_acc: 0.9738\n",
      "Epoch 4/20\n",
      "35200/35200 [==============================] - 45s 1ms/step - loss: 0.0392 - acc: 0.9875 - val_loss: 0.0568 - val_acc: 0.9818\n",
      "Epoch 5/20\n",
      "35200/35200 [==============================] - 49s 1ms/step - loss: 0.0291 - acc: 0.9906 - val_loss: 0.0677 - val_acc: 0.9817\n",
      "Epoch 6/20\n",
      "35200/35200 [==============================] - 43s 1ms/step - loss: 0.0246 - acc: 0.9918 - val_loss: 0.0626 - val_acc: 0.9832\n",
      "Epoch 7/20\n",
      "35200/35200 [==============================] - 46s 1ms/step - loss: 0.0192 - acc: 0.9936 - val_loss: 0.0800 - val_acc: 0.9785\n",
      "Epoch 8/20\n",
      "35200/35200 [==============================] - 42s 1ms/step - loss: 0.0154 - acc: 0.9948 - val_loss: 0.0667 - val_acc: 0.9849\n",
      "Epoch 9/20\n",
      "35200/35200 [==============================] - 46s 1ms/step - loss: 0.0141 - acc: 0.9952 - val_loss: 0.0674 - val_acc: 0.9858\n",
      "Epoch 10/20\n",
      "35100/35200 [============================>.] - ETA: 0s - loss: 0.0125 - acc: 0.9964"
     ]
    }
   ],
   "source": [
    "inputs = tf.keras.layers.Input(shape=(28,28,1))\n",
    "x = tf.keras.layers.Conv2D(32, (3,3), padding='same')(inputs)\n",
    "x = tf.keras.layers.MaxPooling2D(pool_size=(2, 2))(x)\n",
    "x = tf.keras.layers.Conv2D(64, (3,3), padding='same')(x)\n",
    "x = tf.keras.layers.MaxPooling2D(pool_size=(2, 2))(x)\n",
    "x = tf.keras.layers.Flatten()(x)\n",
    "x = tf.keras.layers.Dense(50, activation='relu')(x)\n",
    "x = tf.keras.layers.Dense(100, activation='relu')(x)\n",
    "predictions = tf.keras.layers.Dense(10, activation='softmax')(x)\n",
    "\n",
    "model_mnist = tf.keras.Model(inputs=inputs, outputs=predictions)\n",
    "\n",
    "model_mnist.compile(optimizer=tf.keras.optimizers.Adam(lr=0.001),\n",
    "              loss='categorical_crossentropy',\n",
    "              metrics=['accuracy'])\n",
    "\n",
    "model_mnist.fit(X_train, y_train, validation_data=(X_val, y_val),  batch_size=100, epochs=20)"
   ]
  },
  {
   "cell_type": "code",
   "execution_count": null,
   "metadata": {},
   "outputs": [],
   "source": []
  },
  {
   "cell_type": "code",
   "execution_count": null,
   "metadata": {},
   "outputs": [],
   "source": []
  }
 ],
 "metadata": {
  "accelerator": "GPU",
  "colab": {
   "collapsed_sections": [],
   "name": "sprint15-dnn-framework2.ipynb",
   "provenance": [],
   "version": "0.3.2"
  },
  "kernelspec": {
   "display_name": "Python 3",
   "language": "python",
   "name": "python3"
  },
  "language_info": {
   "codemirror_mode": {
    "name": "ipython",
    "version": 3
   },
   "file_extension": ".py",
   "mimetype": "text/x-python",
   "name": "python",
   "nbconvert_exporter": "python",
   "pygments_lexer": "ipython3",
   "version": "3.6.7"
  }
 },
 "nbformat": 4,
 "nbformat_minor": 2
}
