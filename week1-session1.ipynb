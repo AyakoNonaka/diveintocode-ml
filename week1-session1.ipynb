{
 "cells": [
  {
   "cell_type": "markdown",
   "metadata": {},
   "source": [
    "# 曽呂利新左衛門問題\n",
    "\n",
    "## 【課題】100日後の米粒の数\n",
    "\n"
   ]
  },
  {
   "cell_type": "code",
   "execution_count": 77,
   "metadata": {
    "collapsed": false
   },
   "outputs": [],
   "source": [
    "# 米を100日貰った時の米粒の数を計算\n",
    "n_grains = 1\n",
    "total_grains = n_grains\n",
    "list_n_grains =[n_grains]\n",
    "list_total_grains =[n_grains]\n",
    "holded_n_grains = n_grains\n",
    "for _ in range(100):\n",
    "    holded_n_grains = holded_n_grains  * 2\n",
    "    list_n_grains.append(holded_n_grains)     \n",
    "    total_grains = total_grains + holded_n_grains\n",
    "    list_total_grains.append(total_grains)"
   ]
  },
  {
   "cell_type": "code",
   "execution_count": 79,
   "metadata": {
    "collapsed": false
   },
   "outputs": [
    {
     "name": "stdout",
     "output_type": "stream",
     "text": [
      "米粒の数： 1267650600228229401496703205376個\n"
     ]
    }
   ],
   "source": [
    "# 個を万個に変換して小数点以下2桁で表示する\n",
    "print(\"米粒の数： {}個\".format(folded_n_grains))"
   ]
  },
  {
   "cell_type": "code",
   "execution_count": null,
   "metadata": {
    "collapsed": true
   },
   "outputs": [],
   "source": [
    "#その日にもらう米の数\n",
    "#その日までに累計で貰う米の数"
   ]
  },
  {
   "cell_type": "code",
   "execution_count": 28,
   "metadata": {
    "collapsed": false,
    "scrolled": true
   },
   "outputs": [
    {
     "data": {
      "image/png": "[encoded data removed]",
      "text/plain": [
       "<matplotlib.figure.Figure at 0x1125e1f28>"
      ]
     },
     "metadata": {},
     "output_type": "display_data"
    }
   ],
   "source": [
    "import matplotlib.pyplot as plt\n",
    "%matplotlib inline\n",
    "\n",
    "plt.title(\"n_grains\")\n",
    "plt.xlabel(\"day\")\n",
    "plt.ylabel(\"grants\")\n",
    "plt.plot(list_n_grains) # 「配列名」のところにlist型変数を入れる\n",
    "\n",
    "plt.show()"
   ]
  },
  {
   "cell_type": "code",
   "execution_count": 27,
   "metadata": {
    "collapsed": false
   },
   "outputs": [
    {
     "data": {
      "image/png": "[encoded data removed]",
      "text/plain": [
       "<matplotlib.figure.Figure at 0x11262c390>"
      ]
     },
     "metadata": {},
     "output_type": "display_data"
    }
   ],
   "source": [
    "plt.title(\"total_grains\")\n",
    "plt.xlabel(\"day\")\n",
    "plt.ylabel(\"total_grants\")\n",
    "plt.plot(list_total_grains) # 「配列名」のところにlist型変数を入れる\n",
    "\n",
    "plt.show()"
   ]
  },
  {
   "cell_type": "markdown",
   "metadata": {},
   "source": [
    "## 【課題】100日後以外の米粒の数"
   ]
  },
  {
   "cell_type": "code",
   "execution_count": 41,
   "metadata": {
    "collapsed": true
   },
   "outputs": [],
   "source": [
    "def compute_sorori_shinzaemon(day=120):\n",
    "\n",
    "   \n",
    "    \"\"\"\n",
    "    曽呂利新左衛門の米の逸話を検証する関数。日にちごとの米の粒の数を計算する。\n",
    "\n",
    "    Parameteres\n",
    "    --------------\n",
    "    day: int\n",
    "        米を貰う日数 (default : 100)\n",
    "\n",
    "    Returns\n",
    "    --------------\n",
    "    list_n_grains : list\n",
    "        ある日に貰う米の数のリスト（リストの長さはdayに等しくなる）\n",
    "    list_total_grains : list\n",
    "        ある日までに累計で貰う米の数のリスト（リストの長さはdayに等しくなる）\n",
    "    \"\"\"\n",
    "    \n",
    "    n_grains = 1\n",
    "    total_grains = n_grains\n",
    "    list_n_grains =[n_grains]\n",
    "    list_total_grains =[n_grains]\n",
    "    holded_n_grains = n_grains\n",
    "\n",
    "    for _ in range(day -1):\n",
    "        holded_n_grains = holded_n_grains  * 2\n",
    "        list_n_grains.append(holded_n_grains) \n",
    "\n",
    "        total_grains = total_grains + holded_n_grains\n",
    "        list_total_grains.append(total_grains)\n",
    "\n",
    "    return list_n_grains, list_total_grains\n"
   ]
  },
  {
   "cell_type": "code",
   "execution_count": 36,
   "metadata": {
    "collapsed": false,
    "scrolled": false
   },
   "outputs": [
    {
     "data": {
      "text/plain": [
       "([1,\n",
       "  2,\n",
       "  4,\n",
       "  8,\n",
       "  16,\n",
       "  32,\n",
       "  64,\n",
       "  128,\n",
       "  256,\n",
       "  512,\n",
       "  1024,\n",
       "  2048,\n",
       "  4096,\n",
       "  8192,\n",
       "  16384,\n",
       "  32768,\n",
       "  65536,\n",
       "  131072,\n",
       "  262144,\n",
       "  524288,\n",
       "  1048576,\n",
       "  2097152,\n",
       "  4194304,\n",
       "  8388608,\n",
       "  16777216,\n",
       "  33554432,\n",
       "  67108864,\n",
       "  134217728,\n",
       "  268435456,\n",
       "  536870912,\n",
       "  1073741824,\n",
       "  2147483648,\n",
       "  4294967296,\n",
       "  8589934592,\n",
       "  17179869184,\n",
       "  34359738368,\n",
       "  68719476736,\n",
       "  137438953472,\n",
       "  274877906944,\n",
       "  549755813888,\n",
       "  1099511627776,\n",
       "  2199023255552,\n",
       "  4398046511104,\n",
       "  8796093022208,\n",
       "  17592186044416,\n",
       "  35184372088832,\n",
       "  70368744177664,\n",
       "  140737488355328,\n",
       "  281474976710656,\n",
       "  562949953421312,\n",
       "  1125899906842624,\n",
       "  2251799813685248,\n",
       "  4503599627370496,\n",
       "  9007199254740992,\n",
       "  18014398509481984,\n",
       "  36028797018963968,\n",
       "  72057594037927936,\n",
       "  144115188075855872,\n",
       "  288230376151711744,\n",
       "  576460752303423488,\n",
       "  1152921504606846976,\n",
       "  2305843009213693952,\n",
       "  4611686018427387904,\n",
       "  9223372036854775808,\n",
       "  18446744073709551616,\n",
       "  36893488147419103232,\n",
       "  73786976294838206464,\n",
       "  147573952589676412928,\n",
       "  295147905179352825856,\n",
       "  590295810358705651712,\n",
       "  1180591620717411303424,\n",
       "  2361183241434822606848,\n",
       "  4722366482869645213696,\n",
       "  9444732965739290427392,\n",
       "  18889465931478580854784,\n",
       "  37778931862957161709568,\n",
       "  75557863725914323419136,\n",
       "  151115727451828646838272,\n",
       "  302231454903657293676544,\n",
       "  604462909807314587353088,\n",
       "  1208925819614629174706176,\n",
       "  2417851639229258349412352,\n",
       "  4835703278458516698824704,\n",
       "  9671406556917033397649408,\n",
       "  19342813113834066795298816,\n",
       "  38685626227668133590597632,\n",
       "  77371252455336267181195264,\n",
       "  154742504910672534362390528,\n",
       "  309485009821345068724781056,\n",
       "  618970019642690137449562112,\n",
       "  1237940039285380274899124224,\n",
       "  2475880078570760549798248448,\n",
       "  4951760157141521099596496896,\n",
       "  9903520314283042199192993792,\n",
       "  19807040628566084398385987584,\n",
       "  39614081257132168796771975168,\n",
       "  79228162514264337593543950336,\n",
       "  158456325028528675187087900672,\n",
       "  316912650057057350374175801344,\n",
       "  633825300114114700748351602688,\n",
       "  1267650600228229401496703205376,\n",
       "  2535301200456458802993406410752,\n",
       "  5070602400912917605986812821504,\n",
       "  10141204801825835211973625643008,\n",
       "  20282409603651670423947251286016,\n",
       "  40564819207303340847894502572032,\n",
       "  81129638414606681695789005144064,\n",
       "  162259276829213363391578010288128,\n",
       "  324518553658426726783156020576256,\n",
       "  649037107316853453566312041152512,\n",
       "  1298074214633706907132624082305024,\n",
       "  2596148429267413814265248164610048,\n",
       "  5192296858534827628530496329220096,\n",
       "  10384593717069655257060992658440192,\n",
       "  20769187434139310514121985316880384,\n",
       "  41538374868278621028243970633760768,\n",
       "  83076749736557242056487941267521536,\n",
       "  166153499473114484112975882535043072,\n",
       "  332306998946228968225951765070086144,\n",
       "  664613997892457936451903530140172288,\n",
       "  1329227995784915872903807060280344576],\n",
       " [1,\n",
       "  3,\n",
       "  7,\n",
       "  15,\n",
       "  31,\n",
       "  63,\n",
       "  127,\n",
       "  255,\n",
       "  511,\n",
       "  1023,\n",
       "  2047,\n",
       "  4095,\n",
       "  8191,\n",
       "  16383,\n",
       "  32767,\n",
       "  65535,\n",
       "  131071,\n",
       "  262143,\n",
       "  524287,\n",
       "  1048575,\n",
       "  2097151,\n",
       "  4194303,\n",
       "  8388607,\n",
       "  16777215,\n",
       "  33554431,\n",
       "  67108863,\n",
       "  134217727,\n",
       "  268435455,\n",
       "  536870911,\n",
       "  1073741823,\n",
       "  2147483647,\n",
       "  4294967295,\n",
       "  8589934591,\n",
       "  17179869183,\n",
       "  34359738367,\n",
       "  68719476735,\n",
       "  137438953471,\n",
       "  274877906943,\n",
       "  549755813887,\n",
       "  1099511627775,\n",
       "  2199023255551,\n",
       "  4398046511103,\n",
       "  8796093022207,\n",
       "  17592186044415,\n",
       "  35184372088831,\n",
       "  70368744177663,\n",
       "  140737488355327,\n",
       "  281474976710655,\n",
       "  562949953421311,\n",
       "  1125899906842623,\n",
       "  2251799813685247,\n",
       "  4503599627370495,\n",
       "  9007199254740991,\n",
       "  18014398509481983,\n",
       "  36028797018963967,\n",
       "  72057594037927935,\n",
       "  144115188075855871,\n",
       "  288230376151711743,\n",
       "  576460752303423487,\n",
       "  1152921504606846975,\n",
       "  2305843009213693951,\n",
       "  4611686018427387903,\n",
       "  9223372036854775807,\n",
       "  18446744073709551615,\n",
       "  36893488147419103231,\n",
       "  73786976294838206463,\n",
       "  147573952589676412927,\n",
       "  295147905179352825855,\n",
       "  590295810358705651711,\n",
       "  1180591620717411303423,\n",
       "  2361183241434822606847,\n",
       "  4722366482869645213695,\n",
       "  9444732965739290427391,\n",
       "  18889465931478580854783,\n",
       "  37778931862957161709567,\n",
       "  75557863725914323419135,\n",
       "  151115727451828646838271,\n",
       "  302231454903657293676543,\n",
       "  604462909807314587353087,\n",
       "  1208925819614629174706175,\n",
       "  2417851639229258349412351,\n",
       "  4835703278458516698824703,\n",
       "  9671406556917033397649407,\n",
       "  19342813113834066795298815,\n",
       "  38685626227668133590597631,\n",
       "  77371252455336267181195263,\n",
       "  154742504910672534362390527,\n",
       "  309485009821345068724781055,\n",
       "  618970019642690137449562111,\n",
       "  1237940039285380274899124223,\n",
       "  2475880078570760549798248447,\n",
       "  4951760157141521099596496895,\n",
       "  9903520314283042199192993791,\n",
       "  19807040628566084398385987583,\n",
       "  39614081257132168796771975167,\n",
       "  79228162514264337593543950335,\n",
       "  158456325028528675187087900671,\n",
       "  316912650057057350374175801343,\n",
       "  633825300114114700748351602687,\n",
       "  1267650600228229401496703205375,\n",
       "  2535301200456458802993406410751,\n",
       "  5070602400912917605986812821503,\n",
       "  10141204801825835211973625643007,\n",
       "  20282409603651670423947251286015,\n",
       "  40564819207303340847894502572031,\n",
       "  81129638414606681695789005144063,\n",
       "  162259276829213363391578010288127,\n",
       "  324518553658426726783156020576255,\n",
       "  649037107316853453566312041152511,\n",
       "  1298074214633706907132624082305023,\n",
       "  2596148429267413814265248164610047,\n",
       "  5192296858534827628530496329220095,\n",
       "  10384593717069655257060992658440191,\n",
       "  20769187434139310514121985316880383,\n",
       "  41538374868278621028243970633760767,\n",
       "  83076749736557242056487941267521535,\n",
       "  166153499473114484112975882535043071,\n",
       "  332306998946228968225951765070086143,\n",
       "  664613997892457936451903530140172287,\n",
       "  1329227995784915872903807060280344575,\n",
       "  2658455991569831745807614120560689151])"
      ]
     },
     "execution_count": 36,
     "metadata": {},
     "output_type": "execute_result"
    }
   ],
   "source": [
    "compute_sorori_shinzaemon(120)"
   ]
  },
  {
   "cell_type": "code",
   "execution_count": 50,
   "metadata": {
    "collapsed": false
   },
   "outputs": [
    {
     "name": "stdout",
     "output_type": "stream",
     "text": [
      "1329227995784915872903807060280344575\n",
      "120\n"
     ]
    }
   ],
   "source": [
    "_, list_total_grains = compute_sorori_shinzaemon(day=119)\n",
    "print(list_total_grains[-1])\n",
    "print(len(list_total_grains))"
   ]
  },
  {
   "cell_type": "code",
   "execution_count": 51,
   "metadata": {
    "collapsed": false
   },
   "outputs": [
    {
     "data": {
      "image/png": "[encoded data removed]",
      "text/plain": [
       "<matplotlib.figure.Figure at 0x11281c080>"
      ]
     },
     "metadata": {},
     "output_type": "display_data"
    }
   ],
   "source": [
    "plt.title(\"total_grains\")\n",
    "plt.xlabel(\"day\")\n",
    "plt.ylabel(\"total_grants\")\n",
    "plt.plot(list_total_grains) # 「配列名」のところにlist型変数を入れる\n",
    "\n",
    "plt.show()\n"
   ]
  },
  {
   "cell_type": "markdown",
   "metadata": {},
   "source": [
    "## 【課題】何人が何日生活できる米か"
   ]
  },
  {
   "cell_type": "code",
   "execution_count": 53,
   "metadata": {
    "collapsed": true
   },
   "outputs": [],
   "source": [
    "bowl_rice = 3250 #公益社団法人 米穀安定供給確保支援機構HPより　http://www.komenet.jp/_qa/chawanippai/index.html\n",
    "day_bowl_rice = bowl_rice * 3\n",
    "allmember = 9\n",
    "allmember_day_bowl_rice = day_bowl_rice * allmember\n"
   ]
  },
  {
   "cell_type": "code",
   "execution_count": 76,
   "metadata": {
    "collapsed": false
   },
   "outputs": [
    {
     "name": "stdout",
     "output_type": "stream",
     "text": [
      "食べられるのは： 4.150108873386929e+28 年\n"
     ]
    }
   ],
   "source": [
    "def eatableday ():\n",
    "    eatabledays = list_total_grains[-1] // allmember_day_bowl_rice\n",
    "    return eatabledays\n",
    "\n",
    "eatabledays = eatableday ()\n",
    "\n",
    "print(\"食べられるのは：\", eatabledays, \"日です\")"
   ]
  },
  {
   "cell_type": "code",
   "execution_count": null,
   "metadata": {
    "collapsed": true
   },
   "outputs": [],
   "source": []
  }
 ],
 "metadata": {
  "kernelspec": {
   "display_name": "Python 3",
   "language": "python",
   "name": "python3"
  },
  "language_info": {
   "codemirror_mode": {
    "name": "ipython",
    "version": 3
   },
   "file_extension": ".py",
   "mimetype": "text/x-python",
   "name": "python",
   "nbconvert_exporter": "python",
   "pygments_lexer": "ipython3",
   "version": "3.6.0"
  }
 },
 "nbformat": 4,
 "nbformat_minor": 2
}
