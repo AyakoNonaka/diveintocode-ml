{
 "cells": [
  {
   "cell_type": "markdown",
   "metadata": {},
   "source": [
    "# Week1授業課題3 栗まんじゅう問題"
   ]
  },
  {
   "cell_type": "markdown",
   "metadata": {},
   "source": [
    "漫画ドラえもんには「バイバイン」という道具が登場する、2のn乗に関する有名なエピソード[1]があります。\n",
    "[1] 藤子・Ｆ・不二雄(1979)『ドラえもん（１７）』小学館.\n",
    "\n",
    "「バイバイン」は薬品で、これを振掛けるとその物体は5分ごとに倍に増えるという働きがあります。\n",
    "作中では栗まんじゅうを増やしますが、食べきれなくなったためロケットを使い宇宙に捨てました。\n",
    "\n",
    "ここで度々話題になるのが、栗まんじゅうはその後宇宙でどのように増えていくのかについてです。\n",
    "様々な議論がされていますが、今回は単純に栗まんじゅうの体積がどう増えるかを計算してみましょう。"
   ]
  },
  {
   "cell_type": "markdown",
   "metadata": {},
   "source": [
    "## 【課題】栗まんじゅうが太陽系を覆う日"
   ]
  },
  {
   "cell_type": "markdown",
   "metadata": {},
   "source": [
    "1個の栗まんじゅうにバイバインを振りかけた場合、太陽系が栗まんじゅうで覆われるのは何分後でしょうか。\n",
    "これを計算するプログラムを作成してください。\n",
    "栗まんじゅうや太陽系の体積を調査した上で仮定して計算してください。\n",
    "栗まんじゅうの隙間や重力などは考えず、問題を単純化して構いません。\n",
    "ボールにバイバインを振りかけた時、東京ドームが一杯になる時間など他の状況にも適用できるような汎用的なプログラムを作成してください。\n",
    "また、グラフを表示するなど分かりやすいノートブックを作成してください。"
   ]
  },
  {
   "cell_type": "markdown",
   "metadata": {},
   "source": [
    "前提１：太陽系の大きさ\n",
    "どこまでを太陽系と見なすかで太陽系の大きさは変わってくるが、ここでは冥王星の軌道長（半径39.445天文単位）までを太陽系であるという立場をとり直径120億kmとする。"
   ]
  },
  {
   "cell_type": "markdown",
   "metadata": {},
   "source": [
    "前提２：栗まんじゅうの大きさ\n",
    "直径5cmの球体とする。"
   ]
  },
  {
   "cell_type": "code",
   "execution_count": 1,
   "metadata": {},
   "outputs": [
    {
     "name": "stdout",
     "output_type": "stream",
     "text": [
      "太陽系を覆うまでにかかる時間： 720 分\n"
     ]
    },
    {
     "data": {
      "image/png": "[encoded data removed]",
      "text/plain": [
       "<Figure size 432x288 with 1 Axes>"
      ]
     },
     "metadata": {
      "needs_background": "light"
     },
     "output_type": "display_data"
    }
   ],
   "source": [
    "import math\n",
    "pi = math.pi\n",
    "\n",
    "import matplotlib.pyplot as plt\n",
    "%matplotlib inline\n",
    "\n",
    "# 太陽系の体積(㎥)\n",
    "solarsystem_r = 6000000000000\n",
    "solar_system = 4 / 3 * pi * solarsystem_r ** 3\n",
    "\n",
    "def baibain(target):\n",
    "\n",
    "    # 栗まんじゅうの体積(㎥)\n",
    "    kuriman_r = 0.025\n",
    "    kuriman = 4 / 3 * pi * kuriman_r ** 3\n",
    "    baibain_kuriman = kuriman\n",
    "    list_baibain_kuriman =[baibain_kuriman]\n",
    "    minute = 0\n",
    "    list_minute =[minute]\n",
    "    \n",
    "    # 覆い尽くす時間を計算    \n",
    "    while target >= baibain_kuriman:\n",
    "        baibain_kuriman *= 2        \n",
    "        list_baibain_kuriman.append(baibain_kuriman)\n",
    "        minute += 5\n",
    "        list_minute.append(minute)        \n",
    "\n",
    "    print(\"太陽系を覆うまでにかかる時間：\",minute,\"分\")\n",
    "    \n",
    "    plt.title(\"baibain\")\n",
    "    plt.xlabel(\"minutes\")\n",
    "    plt.ylabel(\"kuriman\")\n",
    "    plt.plot(list_minute,list_baibain_kuriman)\n",
    "    plt.show()\n",
    "\n",
    "baibain(target = solar_system)    "
   ]
  }
 ],
 "metadata": {
  "kernelspec": {
   "display_name": "Python 3",
   "language": "python",
   "name": "python3"
  },
  "language_info": {
   "codemirror_mode": {
    "name": "ipython",
    "version": 3
   },
   "file_extension": ".py",
   "mimetype": "text/x-python",
   "name": "python",
   "nbconvert_exporter": "python",
   "pygments_lexer": "ipython3",
   "version": "3.6.7"
  }
 },
 "nbformat": 4,
 "nbformat_minor": 2
}
