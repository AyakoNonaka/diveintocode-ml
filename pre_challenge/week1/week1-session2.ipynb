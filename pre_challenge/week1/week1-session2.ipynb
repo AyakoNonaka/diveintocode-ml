{
 "cells": [
  {
   "cell_type": "markdown",
   "metadata": {},
   "source": [
    "# Week1授業課題2 何回折ったら富士山を超えるか問題"
   ]
  },
  {
   "cell_type": "markdown",
   "metadata": {},
   "source": [
    "紙を折った時の厚さの数式\n",
    "授業前課題と同様ですが確認しておきます。\n",
    "n回折った紙の厚さ tn は以下のように表せます。\n",
    "tn=t0×2n折る前の紙の厚さ t0 は0.00008mとします。一般的なコピー用紙の厚さです。"
   ]
  },
  {
   "cell_type": "markdown",
   "metadata": {},
   "source": [
    "## 【課題】富士山を超える最小の折る回数"
   ]
  },
  {
   "cell_type": "markdown",
   "metadata": {},
   "source": [
    "厚さが「富士山(3776m)」を超えるのは何回紙を折った時か計算するプログラムを作成してください。"
   ]
  },
  {
   "cell_type": "code",
   "execution_count": 1,
   "metadata": {},
   "outputs": [
    {
     "name": "stdout",
     "output_type": "stream",
     "text": [
      "折る回数： 26 回\n",
      "厚さ： 5368.70912メートル\n"
     ]
    }
   ],
   "source": [
    "thickness = 0.00008\n",
    "folded_thickness = thickness\n",
    "fuzi = 3776\n",
    "count = 0\n",
    "\n",
    "while fuzi >= folded_thickness:\n",
    "    folded_thickness *= 2\n",
    "    count += 1\n",
    "\n",
    "print(\"折る回数：\",count,\"回\")\n",
    "print(\"厚さ： {}メートル\".format(folded_thickness))"
   ]
  },
  {
   "cell_type": "markdown",
   "metadata": {},
   "source": [
    "## 【課題】任意の厚さに対応した関数を作成"
   ]
  },
  {
   "cell_type": "markdown",
   "metadata": {},
   "source": [
    "距離を入力すると、何回折った時に超えるかを出力する関数を作成してください。\n",
    "引数として、折る前の厚さ t0 も設定できるようにしましょう。\n",
    "この関数を利用して、「最も近い太陽以外の恒星」に到達するには紙を何回折る必要があるか計算してください。\n",
    "「最も近い太陽以外の恒星」の距離は調査してください。"
   ]
  },
  {
   "cell_type": "markdown",
   "metadata": {},
   "source": [
    "調査結果：最も近い太陽以外の恒星は、4.243光年のところにあるプロキシマ・ケンタウリ\n",
    "出所：https://ja.wikipedia.org/wiki/%E6%9C%80%E3%82%82%E8%BF%91%E3%81%84%E3%83%BB%E9%81%A0%E3%81%84%E5%A4%A9%E4%BD%93%E3%81%AE%E4%B8%80%E8%A6%A7"
   ]
  },
  {
   "cell_type": "code",
   "execution_count": 2,
   "metadata": {},
   "outputs": [
    {
     "data": {
      "text/plain": [
       "69"
      ]
     },
     "execution_count": 2,
     "metadata": {},
     "output_type": "execute_result"
    }
   ],
   "source": [
    "def count_fold(thickness, distance):\n",
    "\n",
    "    folded_thickness = thickness\n",
    "    count = 0\n",
    "    \n",
    "    while distance >= folded_thickness:\n",
    "        folded_thickness *= 2\n",
    "        count += 1\n",
    "\n",
    "    return count\n",
    "    \n",
    "count_fold(0.00008, 4.01419e+16)"
   ]
  },
  {
   "cell_type": "markdown",
   "metadata": {},
   "source": [
    "## 【課題】必要な紙の長さ"
   ]
  },
  {
   "cell_type": "markdown",
   "metadata": {},
   "source": [
    "実際のところ身近にある紙は43回はおろか10回も折れません。\n",
    "しかし、大きな紙ほどたくさん折ることができ、トイレットペーパーのような長い紙を一方向に折ることを考えた時の\n",
    "折れる回数を求める公式が存在します。\n",
    "厚さ t0 の紙をn回折るために必要な紙の長さLは以下の公式で求まります。"
   ]
  },
  {
   "cell_type": "markdown",
   "metadata": {},
   "source": [
    "$$\n",
    "L = \\frac{\\pi t_{0}}{6}(2^n + 4)(2^n - 1)\n",
    "$$"
   ]
  },
  {
   "cell_type": "markdown",
   "metadata": {},
   "source": [
    "この公式を利用して、実際に紙を折り任意の厚さに到達するために必要な紙の長さを求める関数を作成してください。\n",
    "そしてこれを使って「月」「富士山」「最も近い太陽以外の恒星」に届くために必要な紙の長さを求めてください。\n",
    "ヒント:この公式の中で折る回数nが登場しますが、このnは先ほど作成した関数で求まります。関数の中で関数を使うことが可能です。"
   ]
  },
  {
   "cell_type": "code",
   "execution_count": 3,
   "metadata": {},
   "outputs": [
    {
     "data": {
      "text/plain": [
       "1.4595803601100348e+37"
      ]
     },
     "execution_count": 3,
     "metadata": {},
     "output_type": "execute_result"
    }
   ],
   "source": [
    "def paper_length(thickness,distance):\n",
    "    n = count_fold(thickness, distance)\n",
    "    perimetros = 3.1415926535897932384626433832795028841971693993751058209749445923078164062862089986280\n",
    "    L = perimetros * thickness / 6 * (2 ** n + 4)*(2 ** n -1)\n",
    "    return L\n",
    "paper_length(0.00008, 4.01419e+16)"
   ]
  },
  {
   "cell_type": "code",
   "execution_count": 4,
   "metadata": {},
   "outputs": [
    {
     "name": "stdout",
     "output_type": "stream",
     "text": [
      "月までに必要な紙の長さは 3.240919444170781e+21 メートル\n"
     ]
    }
   ],
   "source": [
    "# 月までの距離は384400000m\n",
    "print(\"月までに必要な紙の長さは\",paper_length(0.00008, 384400000),\"メートル\")"
   ]
  },
  {
   "cell_type": "code",
   "execution_count": 5,
   "metadata": {},
   "outputs": [
    {
     "name": "stdout",
     "output_type": "stream",
     "text": [
      "富士山の頂上までに必要な紙の長さは 188646348487.24017 メートル\n"
     ]
    }
   ],
   "source": [
    "# 富士山の高さは3776m\n",
    "print(\"富士山の頂上までに必要な紙の長さは\",paper_length(0.00008, 3776),\"メートル\")"
   ]
  },
  {
   "cell_type": "code",
   "execution_count": 6,
   "metadata": {},
   "outputs": [
    {
     "name": "stdout",
     "output_type": "stream",
     "text": [
      "最も近い太陽以外の恒星までに必要な紙の長さは 1.4595803601100348e+37 メートル\n"
     ]
    }
   ],
   "source": [
    "# 最も近い太陽以外の恒星までの距離は4.01419e+16m\n",
    "print(\"最も近い太陽以外の恒星までに必要な紙の長さは\",paper_length(0.00008, 4.01419e+16),\"メートル\")"
   ]
  }
 ],
 "metadata": {
  "kernelspec": {
   "display_name": "Python 3",
   "language": "python",
   "name": "python3"
  },
  "language_info": {
   "codemirror_mode": {
    "name": "ipython",
    "version": 3
   },
   "file_extension": ".py",
   "mimetype": "text/x-python",
   "name": "python",
   "nbconvert_exporter": "python",
   "pygments_lexer": "ipython3",
   "version": "3.6.7"
  }
 },
 "nbformat": 4,
 "nbformat_minor": 2
}
