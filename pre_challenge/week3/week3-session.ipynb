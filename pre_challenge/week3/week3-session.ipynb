{
 "cells": [
  {
   "cell_type": "markdown",
   "metadata": {},
   "source": [
    "# Week3授業課題　信用情報を分析しよう"
   ]
  },
  {
   "cell_type": "markdown",
   "metadata": {},
   "source": [
    "1.この課題の目的\n",
    "実データに近いものの分析を行う\n",
    "データセットに対して自ら課題を設定できるようにする\n",
    "以下の要件をすべて満たしていた場合、合格とします。\n",
    "\n",
    "※Jupyter Notebookを使い課題に沿った検証や説明ができている。\n",
    "\n",
    "2.信用情報\n",
    "Kaggleの Home Credit Default Risk コンペティションを活用し、実データに近いものに対し、自ら課題を設定して分析する練習を行います。"
   ]
  },
  {
   "cell_type": "markdown",
   "metadata": {},
   "source": [
    "## 【問題1】コンペティション内容の把握"
   ]
  },
  {
   "cell_type": "markdown",
   "metadata": {},
   "source": [
    "以下の観点に気をつけて、どのようなコンペティションなのかレポートしてください。"
   ]
  },
  {
   "cell_type": "code",
   "execution_count": 2,
   "metadata": {
    "collapsed": true
   },
   "outputs": [],
   "source": [
    "import numpy as np\n",
    "import pandas as pd\n",
    "import matplotlib.pyplot as plt\n",
    "%matplotlib inline\n",
    "import seaborn as sns"
   ]
  },
  {
   "cell_type": "code",
   "execution_count": 3,
   "metadata": {
    "collapsed": true
   },
   "outputs": [],
   "source": [
    "df_application = pd.read_csv(\"application_train.csv\")"
   ]
  },
  {
   "cell_type": "markdown",
   "metadata": {},
   "source": [
    "●このコンペティションでは何を予測する？"
   ]
  },
  {
   "cell_type": "markdown",
   "metadata": {},
   "source": [
    "➡︎住宅ローン借入れ希望者の返済能力。"
   ]
  },
  {
   "cell_type": "markdown",
   "metadata": {},
   "source": [
    "●目的変数は？"
   ]
  },
  {
   "cell_type": "markdown",
   "metadata": {},
   "source": [
    "➡︎返済できる(0)orできない（1）"
   ]
  },
  {
   "cell_type": "markdown",
   "metadata": {},
   "source": [
    "●企業がこのコンペティションを開催することで得られるメリットは？"
   ]
  },
  {
   "cell_type": "markdown",
   "metadata": {},
   "source": [
    "➡︎住宅ローン借入れ希望者の返済能力を適切に判断できるようになる\n",
    "（＝回収できる顧客に融資し、回収できない顧客には融資しないという判断をより正確に行えるようになるため、金融機関の資産をより安定的に運用できるようになる）"
   ]
  },
  {
   "cell_type": "markdown",
   "metadata": {},
   "source": [
    "●データセットを見る前の段階で考えられる予測結果に影響してきそうなことは？"
   ]
  },
  {
   "cell_type": "markdown",
   "metadata": {},
   "source": [
    "➡︎借入希望者の収入、年齢、性別、家族構成、借入希望額、貯蓄額、保有資産、病歴"
   ]
  },
  {
   "cell_type": "markdown",
   "metadata": {},
   "source": [
    "## 【問題2】データの概観"
   ]
  },
  {
   "cell_type": "markdown",
   "metadata": {},
   "source": [
    "データの概観を把握してください。コードと表・グラフだけではなく、結果に対する説明や考察も行ってください。"
   ]
  },
  {
   "cell_type": "markdown",
   "metadata": {},
   "source": [
    "●.head()、.info()、describe()などを使う"
   ]
  },
  {
   "cell_type": "code",
   "execution_count": 3,
   "metadata": {
    "collapsed": false,
    "scrolled": true
   },
   "outputs": [
    {
     "data": {
      "text/html": [
       "<div>\n",
       "<style scoped>\n",
       "    .dataframe tbody tr th:only-of-type {\n",
       "        vertical-align: middle;\n",
       "    }\n",
       "\n",
       "    .dataframe tbody tr th {\n",
       "        vertical-align: top;\n",
       "    }\n",
       "\n",
       "    .dataframe thead th {\n",
       "        text-align: right;\n",
       "    }\n",
       "</style>\n",
       "<table border=\"1\" class=\"dataframe\">\n",
       "  <thead>\n",
       "    <tr style=\"text-align: right;\">\n",
       "      <th></th>\n",
       "      <th>SK_ID_CURR</th>\n",
       "      <th>TARGET</th>\n",
       "      <th>NAME_CONTRACT_TYPE</th>\n",
       "      <th>CODE_GENDER</th>\n",
       "      <th>FLAG_OWN_CAR</th>\n",
       "      <th>FLAG_OWN_REALTY</th>\n",
       "      <th>CNT_CHILDREN</th>\n",
       "      <th>AMT_INCOME_TOTAL</th>\n",
       "      <th>AMT_CREDIT</th>\n",
       "      <th>AMT_ANNUITY</th>\n",
       "      <th>...</th>\n",
       "      <th>FLAG_DOCUMENT_18</th>\n",
       "      <th>FLAG_DOCUMENT_19</th>\n",
       "      <th>FLAG_DOCUMENT_20</th>\n",
       "      <th>FLAG_DOCUMENT_21</th>\n",
       "      <th>AMT_REQ_CREDIT_BUREAU_HOUR</th>\n",
       "      <th>AMT_REQ_CREDIT_BUREAU_DAY</th>\n",
       "      <th>AMT_REQ_CREDIT_BUREAU_WEEK</th>\n",
       "      <th>AMT_REQ_CREDIT_BUREAU_MON</th>\n",
       "      <th>AMT_REQ_CREDIT_BUREAU_QRT</th>\n",
       "      <th>AMT_REQ_CREDIT_BUREAU_YEAR</th>\n",
       "    </tr>\n",
       "  </thead>\n",
       "  <tbody>\n",
       "    <tr>\n",
       "      <th>0</th>\n",
       "      <td>100002</td>\n",
       "      <td>1</td>\n",
       "      <td>Cash loans</td>\n",
       "      <td>M</td>\n",
       "      <td>N</td>\n",
       "      <td>Y</td>\n",
       "      <td>0</td>\n",
       "      <td>202500.0</td>\n",
       "      <td>406597.5</td>\n",
       "      <td>24700.5</td>\n",
       "      <td>...</td>\n",
       "      <td>0</td>\n",
       "      <td>0</td>\n",
       "      <td>0</td>\n",
       "      <td>0</td>\n",
       "      <td>0.0</td>\n",
       "      <td>0.0</td>\n",
       "      <td>0.0</td>\n",
       "      <td>0.0</td>\n",
       "      <td>0.0</td>\n",
       "      <td>1.0</td>\n",
       "    </tr>\n",
       "    <tr>\n",
       "      <th>1</th>\n",
       "      <td>100003</td>\n",
       "      <td>0</td>\n",
       "      <td>Cash loans</td>\n",
       "      <td>F</td>\n",
       "      <td>N</td>\n",
       "      <td>N</td>\n",
       "      <td>0</td>\n",
       "      <td>270000.0</td>\n",
       "      <td>1293502.5</td>\n",
       "      <td>35698.5</td>\n",
       "      <td>...</td>\n",
       "      <td>0</td>\n",
       "      <td>0</td>\n",
       "      <td>0</td>\n",
       "      <td>0</td>\n",
       "      <td>0.0</td>\n",
       "      <td>0.0</td>\n",
       "      <td>0.0</td>\n",
       "      <td>0.0</td>\n",
       "      <td>0.0</td>\n",
       "      <td>0.0</td>\n",
       "    </tr>\n",
       "    <tr>\n",
       "      <th>2</th>\n",
       "      <td>100004</td>\n",
       "      <td>0</td>\n",
       "      <td>Revolving loans</td>\n",
       "      <td>M</td>\n",
       "      <td>Y</td>\n",
       "      <td>Y</td>\n",
       "      <td>0</td>\n",
       "      <td>67500.0</td>\n",
       "      <td>135000.0</td>\n",
       "      <td>6750.0</td>\n",
       "      <td>...</td>\n",
       "      <td>0</td>\n",
       "      <td>0</td>\n",
       "      <td>0</td>\n",
       "      <td>0</td>\n",
       "      <td>0.0</td>\n",
       "      <td>0.0</td>\n",
       "      <td>0.0</td>\n",
       "      <td>0.0</td>\n",
       "      <td>0.0</td>\n",
       "      <td>0.0</td>\n",
       "    </tr>\n",
       "    <tr>\n",
       "      <th>3</th>\n",
       "      <td>100006</td>\n",
       "      <td>0</td>\n",
       "      <td>Cash loans</td>\n",
       "      <td>F</td>\n",
       "      <td>N</td>\n",
       "      <td>Y</td>\n",
       "      <td>0</td>\n",
       "      <td>135000.0</td>\n",
       "      <td>312682.5</td>\n",
       "      <td>29686.5</td>\n",
       "      <td>...</td>\n",
       "      <td>0</td>\n",
       "      <td>0</td>\n",
       "      <td>0</td>\n",
       "      <td>0</td>\n",
       "      <td>NaN</td>\n",
       "      <td>NaN</td>\n",
       "      <td>NaN</td>\n",
       "      <td>NaN</td>\n",
       "      <td>NaN</td>\n",
       "      <td>NaN</td>\n",
       "    </tr>\n",
       "    <tr>\n",
       "      <th>4</th>\n",
       "      <td>100007</td>\n",
       "      <td>0</td>\n",
       "      <td>Cash loans</td>\n",
       "      <td>M</td>\n",
       "      <td>N</td>\n",
       "      <td>Y</td>\n",
       "      <td>0</td>\n",
       "      <td>121500.0</td>\n",
       "      <td>513000.0</td>\n",
       "      <td>21865.5</td>\n",
       "      <td>...</td>\n",
       "      <td>0</td>\n",
       "      <td>0</td>\n",
       "      <td>0</td>\n",
       "      <td>0</td>\n",
       "      <td>0.0</td>\n",
       "      <td>0.0</td>\n",
       "      <td>0.0</td>\n",
       "      <td>0.0</td>\n",
       "      <td>0.0</td>\n",
       "      <td>0.0</td>\n",
       "    </tr>\n",
       "  </tbody>\n",
       "</table>\n",
       "<p>5 rows × 122 columns</p>\n",
       "</div>"
      ],
      "text/plain": [
       "   SK_ID_CURR  TARGET NAME_CONTRACT_TYPE CODE_GENDER FLAG_OWN_CAR  \\\n",
       "0      100002       1         Cash loans           M            N   \n",
       "1      100003       0         Cash loans           F            N   \n",
       "2      100004       0    Revolving loans           M            Y   \n",
       "3      100006       0         Cash loans           F            N   \n",
       "4      100007       0         Cash loans           M            N   \n",
       "\n",
       "  FLAG_OWN_REALTY  CNT_CHILDREN  AMT_INCOME_TOTAL  AMT_CREDIT  AMT_ANNUITY  \\\n",
       "0               Y             0          202500.0    406597.5      24700.5   \n",
       "1               N             0          270000.0   1293502.5      35698.5   \n",
       "2               Y             0           67500.0    135000.0       6750.0   \n",
       "3               Y             0          135000.0    312682.5      29686.5   \n",
       "4               Y             0          121500.0    513000.0      21865.5   \n",
       "\n",
       "              ...              FLAG_DOCUMENT_18 FLAG_DOCUMENT_19  \\\n",
       "0             ...                             0                0   \n",
       "1             ...                             0                0   \n",
       "2             ...                             0                0   \n",
       "3             ...                             0                0   \n",
       "4             ...                             0                0   \n",
       "\n",
       "  FLAG_DOCUMENT_20 FLAG_DOCUMENT_21 AMT_REQ_CREDIT_BUREAU_HOUR  \\\n",
       "0                0                0                        0.0   \n",
       "1                0                0                        0.0   \n",
       "2                0                0                        0.0   \n",
       "3                0                0                        NaN   \n",
       "4                0                0                        0.0   \n",
       "\n",
       "  AMT_REQ_CREDIT_BUREAU_DAY  AMT_REQ_CREDIT_BUREAU_WEEK  \\\n",
       "0                       0.0                         0.0   \n",
       "1                       0.0                         0.0   \n",
       "2                       0.0                         0.0   \n",
       "3                       NaN                         NaN   \n",
       "4                       0.0                         0.0   \n",
       "\n",
       "   AMT_REQ_CREDIT_BUREAU_MON  AMT_REQ_CREDIT_BUREAU_QRT  \\\n",
       "0                        0.0                        0.0   \n",
       "1                        0.0                        0.0   \n",
       "2                        0.0                        0.0   \n",
       "3                        NaN                        NaN   \n",
       "4                        0.0                        0.0   \n",
       "\n",
       "   AMT_REQ_CREDIT_BUREAU_YEAR  \n",
       "0                         1.0  \n",
       "1                         0.0  \n",
       "2                         0.0  \n",
       "3                         NaN  \n",
       "4                         0.0  \n",
       "\n",
       "[5 rows x 122 columns]"
      ]
     },
     "execution_count": 3,
     "metadata": {},
     "output_type": "execute_result"
    }
   ],
   "source": [
    "#【外観把握①】 5番目までのラベルを確認\n",
    "df_application.head()\n",
    "#特徴量は１２２種類。データはint、float、strが混在している。欠損値もある。"
   ]
  },
  {
   "cell_type": "code",
   "execution_count": 4,
   "metadata": {
    "collapsed": false
   },
   "outputs": [
    {
     "name": "stdout",
     "output_type": "stream",
     "text": [
      "<class 'pandas.core.frame.DataFrame'>\n",
      "RangeIndex: 307511 entries, 0 to 307510\n",
      "Columns: 122 entries, SK_ID_CURR to AMT_REQ_CREDIT_BUREAU_YEAR\n",
      "dtypes: float64(65), int64(41), object(16)\n",
      "memory usage: 286.2+ MB\n"
     ]
    }
   ],
   "source": [
    "#【外観把握②】 5番目までのラベルを確認\n",
    "df_application.info()\n",
    "#indexは307511個"
   ]
  },
  {
   "cell_type": "code",
   "execution_count": 5,
   "metadata": {
    "collapsed": false,
    "scrolled": true
   },
   "outputs": [
    {
     "data": {
      "text/html": [
       "<div>\n",
       "<style scoped>\n",
       "    .dataframe tbody tr th:only-of-type {\n",
       "        vertical-align: middle;\n",
       "    }\n",
       "\n",
       "    .dataframe tbody tr th {\n",
       "        vertical-align: top;\n",
       "    }\n",
       "\n",
       "    .dataframe thead th {\n",
       "        text-align: right;\n",
       "    }\n",
       "</style>\n",
       "<table border=\"1\" class=\"dataframe\">\n",
       "  <thead>\n",
       "    <tr style=\"text-align: right;\">\n",
       "      <th></th>\n",
       "      <th>SK_ID_CURR</th>\n",
       "      <th>TARGET</th>\n",
       "      <th>CNT_CHILDREN</th>\n",
       "      <th>AMT_INCOME_TOTAL</th>\n",
       "      <th>AMT_CREDIT</th>\n",
       "      <th>AMT_ANNUITY</th>\n",
       "      <th>AMT_GOODS_PRICE</th>\n",
       "      <th>REGION_POPULATION_RELATIVE</th>\n",
       "      <th>DAYS_BIRTH</th>\n",
       "      <th>DAYS_EMPLOYED</th>\n",
       "      <th>...</th>\n",
       "      <th>FLAG_DOCUMENT_18</th>\n",
       "      <th>FLAG_DOCUMENT_19</th>\n",
       "      <th>FLAG_DOCUMENT_20</th>\n",
       "      <th>FLAG_DOCUMENT_21</th>\n",
       "      <th>AMT_REQ_CREDIT_BUREAU_HOUR</th>\n",
       "      <th>AMT_REQ_CREDIT_BUREAU_DAY</th>\n",
       "      <th>AMT_REQ_CREDIT_BUREAU_WEEK</th>\n",
       "      <th>AMT_REQ_CREDIT_BUREAU_MON</th>\n",
       "      <th>AMT_REQ_CREDIT_BUREAU_QRT</th>\n",
       "      <th>AMT_REQ_CREDIT_BUREAU_YEAR</th>\n",
       "    </tr>\n",
       "  </thead>\n",
       "  <tbody>\n",
       "    <tr>\n",
       "      <th>count</th>\n",
       "      <td>307511.000000</td>\n",
       "      <td>307511.000000</td>\n",
       "      <td>307511.000000</td>\n",
       "      <td>3.075110e+05</td>\n",
       "      <td>3.075110e+05</td>\n",
       "      <td>307499.000000</td>\n",
       "      <td>3.072330e+05</td>\n",
       "      <td>307511.000000</td>\n",
       "      <td>307511.000000</td>\n",
       "      <td>307511.000000</td>\n",
       "      <td>...</td>\n",
       "      <td>307511.000000</td>\n",
       "      <td>307511.000000</td>\n",
       "      <td>307511.000000</td>\n",
       "      <td>307511.000000</td>\n",
       "      <td>265992.000000</td>\n",
       "      <td>265992.000000</td>\n",
       "      <td>265992.000000</td>\n",
       "      <td>265992.000000</td>\n",
       "      <td>265992.000000</td>\n",
       "      <td>265992.000000</td>\n",
       "    </tr>\n",
       "    <tr>\n",
       "      <th>mean</th>\n",
       "      <td>278180.518577</td>\n",
       "      <td>0.080729</td>\n",
       "      <td>0.417052</td>\n",
       "      <td>1.687979e+05</td>\n",
       "      <td>5.990260e+05</td>\n",
       "      <td>27108.573909</td>\n",
       "      <td>5.383962e+05</td>\n",
       "      <td>0.020868</td>\n",
       "      <td>-16036.995067</td>\n",
       "      <td>63815.045904</td>\n",
       "      <td>...</td>\n",
       "      <td>0.008130</td>\n",
       "      <td>0.000595</td>\n",
       "      <td>0.000507</td>\n",
       "      <td>0.000335</td>\n",
       "      <td>0.006402</td>\n",
       "      <td>0.007000</td>\n",
       "      <td>0.034362</td>\n",
       "      <td>0.267395</td>\n",
       "      <td>0.265474</td>\n",
       "      <td>1.899974</td>\n",
       "    </tr>\n",
       "    <tr>\n",
       "      <th>std</th>\n",
       "      <td>102790.175348</td>\n",
       "      <td>0.272419</td>\n",
       "      <td>0.722121</td>\n",
       "      <td>2.371231e+05</td>\n",
       "      <td>4.024908e+05</td>\n",
       "      <td>14493.737315</td>\n",
       "      <td>3.694465e+05</td>\n",
       "      <td>0.013831</td>\n",
       "      <td>4363.988632</td>\n",
       "      <td>141275.766519</td>\n",
       "      <td>...</td>\n",
       "      <td>0.089798</td>\n",
       "      <td>0.024387</td>\n",
       "      <td>0.022518</td>\n",
       "      <td>0.018299</td>\n",
       "      <td>0.083849</td>\n",
       "      <td>0.110757</td>\n",
       "      <td>0.204685</td>\n",
       "      <td>0.916002</td>\n",
       "      <td>0.794056</td>\n",
       "      <td>1.869295</td>\n",
       "    </tr>\n",
       "    <tr>\n",
       "      <th>min</th>\n",
       "      <td>100002.000000</td>\n",
       "      <td>0.000000</td>\n",
       "      <td>0.000000</td>\n",
       "      <td>2.565000e+04</td>\n",
       "      <td>4.500000e+04</td>\n",
       "      <td>1615.500000</td>\n",
       "      <td>4.050000e+04</td>\n",
       "      <td>0.000290</td>\n",
       "      <td>-25229.000000</td>\n",
       "      <td>-17912.000000</td>\n",
       "      <td>...</td>\n",
       "      <td>0.000000</td>\n",
       "      <td>0.000000</td>\n",
       "      <td>0.000000</td>\n",
       "      <td>0.000000</td>\n",
       "      <td>0.000000</td>\n",
       "      <td>0.000000</td>\n",
       "      <td>0.000000</td>\n",
       "      <td>0.000000</td>\n",
       "      <td>0.000000</td>\n",
       "      <td>0.000000</td>\n",
       "    </tr>\n",
       "    <tr>\n",
       "      <th>25%</th>\n",
       "      <td>189145.500000</td>\n",
       "      <td>0.000000</td>\n",
       "      <td>0.000000</td>\n",
       "      <td>1.125000e+05</td>\n",
       "      <td>2.700000e+05</td>\n",
       "      <td>16524.000000</td>\n",
       "      <td>2.385000e+05</td>\n",
       "      <td>0.010006</td>\n",
       "      <td>-19682.000000</td>\n",
       "      <td>-2760.000000</td>\n",
       "      <td>...</td>\n",
       "      <td>0.000000</td>\n",
       "      <td>0.000000</td>\n",
       "      <td>0.000000</td>\n",
       "      <td>0.000000</td>\n",
       "      <td>0.000000</td>\n",
       "      <td>0.000000</td>\n",
       "      <td>0.000000</td>\n",
       "      <td>0.000000</td>\n",
       "      <td>0.000000</td>\n",
       "      <td>0.000000</td>\n",
       "    </tr>\n",
       "    <tr>\n",
       "      <th>50%</th>\n",
       "      <td>278202.000000</td>\n",
       "      <td>0.000000</td>\n",
       "      <td>0.000000</td>\n",
       "      <td>1.471500e+05</td>\n",
       "      <td>5.135310e+05</td>\n",
       "      <td>24903.000000</td>\n",
       "      <td>4.500000e+05</td>\n",
       "      <td>0.018850</td>\n",
       "      <td>-15750.000000</td>\n",
       "      <td>-1213.000000</td>\n",
       "      <td>...</td>\n",
       "      <td>0.000000</td>\n",
       "      <td>0.000000</td>\n",
       "      <td>0.000000</td>\n",
       "      <td>0.000000</td>\n",
       "      <td>0.000000</td>\n",
       "      <td>0.000000</td>\n",
       "      <td>0.000000</td>\n",
       "      <td>0.000000</td>\n",
       "      <td>0.000000</td>\n",
       "      <td>1.000000</td>\n",
       "    </tr>\n",
       "    <tr>\n",
       "      <th>75%</th>\n",
       "      <td>367142.500000</td>\n",
       "      <td>0.000000</td>\n",
       "      <td>1.000000</td>\n",
       "      <td>2.025000e+05</td>\n",
       "      <td>8.086500e+05</td>\n",
       "      <td>34596.000000</td>\n",
       "      <td>6.795000e+05</td>\n",
       "      <td>0.028663</td>\n",
       "      <td>-12413.000000</td>\n",
       "      <td>-289.000000</td>\n",
       "      <td>...</td>\n",
       "      <td>0.000000</td>\n",
       "      <td>0.000000</td>\n",
       "      <td>0.000000</td>\n",
       "      <td>0.000000</td>\n",
       "      <td>0.000000</td>\n",
       "      <td>0.000000</td>\n",
       "      <td>0.000000</td>\n",
       "      <td>0.000000</td>\n",
       "      <td>0.000000</td>\n",
       "      <td>3.000000</td>\n",
       "    </tr>\n",
       "    <tr>\n",
       "      <th>max</th>\n",
       "      <td>456255.000000</td>\n",
       "      <td>1.000000</td>\n",
       "      <td>19.000000</td>\n",
       "      <td>1.170000e+08</td>\n",
       "      <td>4.050000e+06</td>\n",
       "      <td>258025.500000</td>\n",
       "      <td>4.050000e+06</td>\n",
       "      <td>0.072508</td>\n",
       "      <td>-7489.000000</td>\n",
       "      <td>365243.000000</td>\n",
       "      <td>...</td>\n",
       "      <td>1.000000</td>\n",
       "      <td>1.000000</td>\n",
       "      <td>1.000000</td>\n",
       "      <td>1.000000</td>\n",
       "      <td>4.000000</td>\n",
       "      <td>9.000000</td>\n",
       "      <td>8.000000</td>\n",
       "      <td>27.000000</td>\n",
       "      <td>261.000000</td>\n",
       "      <td>25.000000</td>\n",
       "    </tr>\n",
       "  </tbody>\n",
       "</table>\n",
       "<p>8 rows × 106 columns</p>\n",
       "</div>"
      ],
      "text/plain": [
       "          SK_ID_CURR         TARGET   CNT_CHILDREN  AMT_INCOME_TOTAL  \\\n",
       "count  307511.000000  307511.000000  307511.000000      3.075110e+05   \n",
       "mean   278180.518577       0.080729       0.417052      1.687979e+05   \n",
       "std    102790.175348       0.272419       0.722121      2.371231e+05   \n",
       "min    100002.000000       0.000000       0.000000      2.565000e+04   \n",
       "25%    189145.500000       0.000000       0.000000      1.125000e+05   \n",
       "50%    278202.000000       0.000000       0.000000      1.471500e+05   \n",
       "75%    367142.500000       0.000000       1.000000      2.025000e+05   \n",
       "max    456255.000000       1.000000      19.000000      1.170000e+08   \n",
       "\n",
       "         AMT_CREDIT    AMT_ANNUITY  AMT_GOODS_PRICE  \\\n",
       "count  3.075110e+05  307499.000000     3.072330e+05   \n",
       "mean   5.990260e+05   27108.573909     5.383962e+05   \n",
       "std    4.024908e+05   14493.737315     3.694465e+05   \n",
       "min    4.500000e+04    1615.500000     4.050000e+04   \n",
       "25%    2.700000e+05   16524.000000     2.385000e+05   \n",
       "50%    5.135310e+05   24903.000000     4.500000e+05   \n",
       "75%    8.086500e+05   34596.000000     6.795000e+05   \n",
       "max    4.050000e+06  258025.500000     4.050000e+06   \n",
       "\n",
       "       REGION_POPULATION_RELATIVE     DAYS_BIRTH  DAYS_EMPLOYED  \\\n",
       "count               307511.000000  307511.000000  307511.000000   \n",
       "mean                     0.020868  -16036.995067   63815.045904   \n",
       "std                      0.013831    4363.988632  141275.766519   \n",
       "min                      0.000290  -25229.000000  -17912.000000   \n",
       "25%                      0.010006  -19682.000000   -2760.000000   \n",
       "50%                      0.018850  -15750.000000   -1213.000000   \n",
       "75%                      0.028663  -12413.000000    -289.000000   \n",
       "max                      0.072508   -7489.000000  365243.000000   \n",
       "\n",
       "                  ...              FLAG_DOCUMENT_18  FLAG_DOCUMENT_19  \\\n",
       "count             ...                 307511.000000     307511.000000   \n",
       "mean              ...                      0.008130          0.000595   \n",
       "std               ...                      0.089798          0.024387   \n",
       "min               ...                      0.000000          0.000000   \n",
       "25%               ...                      0.000000          0.000000   \n",
       "50%               ...                      0.000000          0.000000   \n",
       "75%               ...                      0.000000          0.000000   \n",
       "max               ...                      1.000000          1.000000   \n",
       "\n",
       "       FLAG_DOCUMENT_20  FLAG_DOCUMENT_21  AMT_REQ_CREDIT_BUREAU_HOUR  \\\n",
       "count     307511.000000     307511.000000               265992.000000   \n",
       "mean           0.000507          0.000335                    0.006402   \n",
       "std            0.022518          0.018299                    0.083849   \n",
       "min            0.000000          0.000000                    0.000000   \n",
       "25%            0.000000          0.000000                    0.000000   \n",
       "50%            0.000000          0.000000                    0.000000   \n",
       "75%            0.000000          0.000000                    0.000000   \n",
       "max            1.000000          1.000000                    4.000000   \n",
       "\n",
       "       AMT_REQ_CREDIT_BUREAU_DAY  AMT_REQ_CREDIT_BUREAU_WEEK  \\\n",
       "count              265992.000000               265992.000000   \n",
       "mean                    0.007000                    0.034362   \n",
       "std                     0.110757                    0.204685   \n",
       "min                     0.000000                    0.000000   \n",
       "25%                     0.000000                    0.000000   \n",
       "50%                     0.000000                    0.000000   \n",
       "75%                     0.000000                    0.000000   \n",
       "max                     9.000000                    8.000000   \n",
       "\n",
       "       AMT_REQ_CREDIT_BUREAU_MON  AMT_REQ_CREDIT_BUREAU_QRT  \\\n",
       "count              265992.000000              265992.000000   \n",
       "mean                    0.267395                   0.265474   \n",
       "std                     0.916002                   0.794056   \n",
       "min                     0.000000                   0.000000   \n",
       "25%                     0.000000                   0.000000   \n",
       "50%                     0.000000                   0.000000   \n",
       "75%                     0.000000                   0.000000   \n",
       "max                    27.000000                 261.000000   \n",
       "\n",
       "       AMT_REQ_CREDIT_BUREAU_YEAR  \n",
       "count               265992.000000  \n",
       "mean                     1.899974  \n",
       "std                      1.869295  \n",
       "min                      0.000000  \n",
       "25%                      0.000000  \n",
       "50%                      1.000000  \n",
       "75%                      3.000000  \n",
       "max                     25.000000  \n",
       "\n",
       "[8 rows x 106 columns]"
      ]
     },
     "execution_count": 5,
     "metadata": {},
     "output_type": "execute_result"
    }
   ],
   "source": [
    "#【外観把握③】 データの分布を確認\n",
    "df_application.describe()"
   ]
  },
  {
   "cell_type": "code",
   "execution_count": null,
   "metadata": {},
   "outputs": [],
   "source": [
    "#【外観把握④】 特徴量の定義を確認"
   ]
  },
  {
   "cell_type": "code",
   "execution_count": null,
   "metadata": {},
   "outputs": [],
   "source": [
    "テーブル、行、説明、特別\n",
    "1、application_ {train | test} .csv、SK_ID_CURR、サンプルのローンID、\n",
    "2、application_ {train | test} .csv、TARGET、 \"ターゲット変数（1  - 支払いが困難なクライアント：サンプルの最初のY個のローンのうちの少なくとも1つにX日以上支払いが遅れています。 0  - 他のすべての場合） \"、\n",
    "5、application_ {train | test} .csv、NAME_CONTRACT_TYPE、ローンが現金または回転中の場合は識別、\n",
    "6、application_ {train | test} .csv、CODE_GENDER、クライアントの性別、\n",
    "7、application_ {train | test} .csv、FLAG_OWN_CAR、クライアントが車を所有している場合はフラグ、\n",
    "8、application_ {train | test} .csv、FLAG_OWN_REALTY、クライアントが家またはアパートを所有している場合はフラグ、\n",
    "9、application_ {train | test} .csv、CNT_CHILDREN、クライアントの子の数、\n",
    "10、application_ {train | test} .csv、AMT_INCOME_TOTAL、クライアントの収入、\n",
    "11、application_ {train | test} .csv、AMT_CREDIT、ローンの貸方、\n",
    "12、application_ {train | test} .csv、AMT_ANNUITY、ローン年金、\n",
    "13、application_ {train | test} .csv、AMT_GOODS_PRICE、消費者ローンの場合、ローンが与えられている商品の価格です。\n",
    "14、application_ {train | test} .csv、NAME_TYPE_SUITE、ローンの申し込み時にクライアントに同行していた人、\n",
    "15、application_ {train | test} .csv、NAME_INCOME_TYPE、 \"クライアントの収入の種類（ビジネスマン、勤務先、出産休暇、 ）\"、\n",
    "16、application_ {train | test} .csv、NAME_EDUCATION_TYPE、クライアントが達成した最高の教育のレベル、\n",
    "17、application_ {train | test} .csv、NAME_FAMILY_STATUS、クライアントの家族の状態、\n",
    "18、application_ {train | test} .csv、NAME_HOUSING_TYPE、 \"クライアントの住宅状況は何ですか（借り、両親と同居しています、...）\"、\n",
    "19、application_ {train | test} .csv、REGION_POPULATION_RELATIVE、クライアントの住んでいる地域の正規化された人口（数字が大きいほど、クライアントは人口の多い地域に住んでいることを意味します）、正規化\n",
    "20、application_ {train | test} .csv、DAYS_BIRTH、申請時のクライアントの経過日数、申請に関連する期間のみ\n",
    "21、application_ {train | test} .csv、DAYS_EMPLOYED、個人が現在の雇用を開始した申請の何日前か、申請に関連する時間のみ\n",
    "22、application_ {train | test} .csv、DAYS_REGISTRATION、アプリケーションがクライアントに対して自分の登録を変更した日数\n",
    "23、application_ {train | test} .csv、DAYS_ID_PUBLISH、融資を申請した身分証明書がクライアントによって変更された日数。アプリケーションに関連する期間のみ\n",
    "24、application_ {train | test} .csv、OWN_CAR_AGE、クライアントの年齢、\n",
    "25、application_ {train | test} .csv、FLAG_MOBIL、「クライアントは携帯電話を提供しました（1 = YES、0 = NO）」、\n",
    "26、application_ {train | test} .csv、FLAG_EMP_PHONE、 \"クライアントは職場の電話を提供しました（1 = YES、0 = NO）\"、\n",
    "27、application_ {train | test} .csv、FLAG_WORK_PHONE、 \"クライアントは自宅の電話を提供しました（1 = YES、0 = NO）\"、\n",
    "28、application_ {train | test} .csv、FLAG_CONT_MOBILE、 \"携帯電話に接続できました（1 = YES、0 = NO）\"、\n",
    "29、application_ {train | test} .csv、FLAG_PHONE、「クライアントは自宅の電話を提供しましたか（1 = YES、0 = NO）」、\n",
    "30、application_ {train | test} .csv、FLAG_EMAIL、「クライアントから電子メールが提供されました（1 = YES、0 = NO）」、\n",
    "31、application_ {train | test} .csv、OCCUPATION_TYPE、クライアントにはどのような職業があります、\n",
    "32、application_ {train | test} .csv、CNT_FAM_MEMBERS、クライアントの家族の数、\n",
    "33、application_ {train | test} .csv、REGION_RATING_CLIENT、 \"クライアントが居住する地域の私達の評価（1,2,3）\"、\n",
    "34、application_ {train | test} .csv、REGION_RATING_CLIENT_W_CITY、 \"都市を考慮に入れてクライアントが住んでいる地域の私達の評価（1,2,3）\"、\n",
    "35、application_ {train | test} .csv、WEEKDAY_APPR_PROCESS_START、クライアントはどの曜日にローンを申し込みましたか。\n",
    "36、application_ {train | test} .csv、HOUR_APPR_PROCESS_START、クライアントが何時にローンを申し込みましたか、丸め\n",
    "37、application_ {train | test} .csv、REG_REGION_NOT_LIVE_REGION、 \"クライアントの本拠地の住所が連絡先の住所と一致しない場合はフラグを設定します（1 =異なる、0 =同じ、地域レベルで）\"、\n",
    "38、application_ {train | test} .csv、REG_REGION_NOT_WORK_REGION、 \"クライアントの固定アドレスが勤務先の住所と一致しない場合はフラグを設定します（1 =異なる、0 =同じ、地域レベルで）\"、\n",
    "39、application_ {train | test} .csv、LIVE_REGION_NOT_WORK_REGION、 \"クライアントの連絡先住所が勤務先住所と一致しない場合はフラグを設定します（1 =異なる、0 =同じ、地域レベルで）\"、\n",
    "40、application_ {train | test} .csv、REG_CITY_NOT_LIVE_CITY、 \"クライアントの本拠地の住所が連絡先の住所と一致しない場合はフラグを設定します（1 =異なる、0 =同じ、都市レベルで）\"、\n",
    "41、application_ {train | test} .csv、REG_CITY_NOT_WORK_CITY、 \"クライアントの本拠地の住所が勤務先の住所と一致しない場合はフラグを設定します（1 =異なる、0 =同じ、都市レベルで）\"、\n",
    "42、application_ {train | test} .csv、LIVE_CITY_NOT_WORK_CITY、 \"クライアントの連絡先住所が勤務先住所と一致しない場合はフラグを設定します（1 =異なる、0 =同じ、都市レベルで）\"、、\n",
    "43、application_ {train | test} .csv、ORGANIZATION_TYPE、クライアントが所属する組織の種類、\n",
    "44、application_ {train | test} .csv、EXT_SOURCE_1、外部データソースからの正規化スコア、正規化\n",
    "45、application_ {train | test} .csv、EXT_SOURCE_2、外部データソースからの正規化スコア、正規化\n",
    "46、application_ {train | test\n"
   ]
  },
  {
   "cell_type": "code",
   "execution_count": 6,
   "metadata": {
    "collapsed": false
   },
   "outputs": [
    {
     "data": {
      "text/html": [
       "<div>\n",
       "<style scoped>\n",
       "    .dataframe tbody tr th:only-of-type {\n",
       "        vertical-align: middle;\n",
       "    }\n",
       "\n",
       "    .dataframe tbody tr th {\n",
       "        vertical-align: top;\n",
       "    }\n",
       "\n",
       "    .dataframe thead th {\n",
       "        text-align: right;\n",
       "    }\n",
       "</style>\n",
       "<table border=\"1\" class=\"dataframe\">\n",
       "  <thead>\n",
       "    <tr style=\"text-align: right;\">\n",
       "      <th></th>\n",
       "      <th>SK_ID_CURR</th>\n",
       "      <th>NAME_CONTRACT_TYPE</th>\n",
       "      <th>CODE_GENDER</th>\n",
       "      <th>FLAG_OWN_CAR</th>\n",
       "      <th>FLAG_OWN_REALTY</th>\n",
       "      <th>CNT_CHILDREN</th>\n",
       "      <th>AMT_INCOME_TOTAL</th>\n",
       "      <th>AMT_CREDIT</th>\n",
       "      <th>AMT_ANNUITY</th>\n",
       "      <th>AMT_GOODS_PRICE</th>\n",
       "      <th>...</th>\n",
       "      <th>FLAG_DOCUMENT_18</th>\n",
       "      <th>FLAG_DOCUMENT_19</th>\n",
       "      <th>FLAG_DOCUMENT_20</th>\n",
       "      <th>FLAG_DOCUMENT_21</th>\n",
       "      <th>AMT_REQ_CREDIT_BUREAU_HOUR</th>\n",
       "      <th>AMT_REQ_CREDIT_BUREAU_DAY</th>\n",
       "      <th>AMT_REQ_CREDIT_BUREAU_WEEK</th>\n",
       "      <th>AMT_REQ_CREDIT_BUREAU_MON</th>\n",
       "      <th>AMT_REQ_CREDIT_BUREAU_QRT</th>\n",
       "      <th>AMT_REQ_CREDIT_BUREAU_YEAR</th>\n",
       "    </tr>\n",
       "    <tr>\n",
       "      <th>TARGET</th>\n",
       "      <th></th>\n",
       "      <th></th>\n",
       "      <th></th>\n",
       "      <th></th>\n",
       "      <th></th>\n",
       "      <th></th>\n",
       "      <th></th>\n",
       "      <th></th>\n",
       "      <th></th>\n",
       "      <th></th>\n",
       "      <th></th>\n",
       "      <th></th>\n",
       "      <th></th>\n",
       "      <th></th>\n",
       "      <th></th>\n",
       "      <th></th>\n",
       "      <th></th>\n",
       "      <th></th>\n",
       "      <th></th>\n",
       "      <th></th>\n",
       "      <th></th>\n",
       "    </tr>\n",
       "  </thead>\n",
       "  <tbody>\n",
       "    <tr>\n",
       "      <th>0</th>\n",
       "      <td>282686</td>\n",
       "      <td>282686</td>\n",
       "      <td>282686</td>\n",
       "      <td>282686</td>\n",
       "      <td>282686</td>\n",
       "      <td>282686</td>\n",
       "      <td>282686</td>\n",
       "      <td>282686</td>\n",
       "      <td>282674</td>\n",
       "      <td>282429</td>\n",
       "      <td>...</td>\n",
       "      <td>282686</td>\n",
       "      <td>282686</td>\n",
       "      <td>282686</td>\n",
       "      <td>282686</td>\n",
       "      <td>245459</td>\n",
       "      <td>245459</td>\n",
       "      <td>245459</td>\n",
       "      <td>245459</td>\n",
       "      <td>245459</td>\n",
       "      <td>245459</td>\n",
       "    </tr>\n",
       "    <tr>\n",
       "      <th>1</th>\n",
       "      <td>24825</td>\n",
       "      <td>24825</td>\n",
       "      <td>24825</td>\n",
       "      <td>24825</td>\n",
       "      <td>24825</td>\n",
       "      <td>24825</td>\n",
       "      <td>24825</td>\n",
       "      <td>24825</td>\n",
       "      <td>24825</td>\n",
       "      <td>24804</td>\n",
       "      <td>...</td>\n",
       "      <td>24825</td>\n",
       "      <td>24825</td>\n",
       "      <td>24825</td>\n",
       "      <td>24825</td>\n",
       "      <td>20533</td>\n",
       "      <td>20533</td>\n",
       "      <td>20533</td>\n",
       "      <td>20533</td>\n",
       "      <td>20533</td>\n",
       "      <td>20533</td>\n",
       "    </tr>\n",
       "  </tbody>\n",
       "</table>\n",
       "<p>2 rows × 121 columns</p>\n",
       "</div>"
      ],
      "text/plain": [
       "        SK_ID_CURR  NAME_CONTRACT_TYPE  CODE_GENDER  FLAG_OWN_CAR  \\\n",
       "TARGET                                                              \n",
       "0           282686              282686       282686        282686   \n",
       "1            24825               24825        24825         24825   \n",
       "\n",
       "        FLAG_OWN_REALTY  CNT_CHILDREN  AMT_INCOME_TOTAL  AMT_CREDIT  \\\n",
       "TARGET                                                                \n",
       "0                282686        282686            282686      282686   \n",
       "1                 24825         24825             24825       24825   \n",
       "\n",
       "        AMT_ANNUITY  AMT_GOODS_PRICE             ...              \\\n",
       "TARGET                                           ...               \n",
       "0            282674           282429             ...               \n",
       "1             24825            24804             ...               \n",
       "\n",
       "        FLAG_DOCUMENT_18  FLAG_DOCUMENT_19  FLAG_DOCUMENT_20  \\\n",
       "TARGET                                                         \n",
       "0                 282686            282686            282686   \n",
       "1                  24825             24825             24825   \n",
       "\n",
       "        FLAG_DOCUMENT_21  AMT_REQ_CREDIT_BUREAU_HOUR  \\\n",
       "TARGET                                                 \n",
       "0                 282686                      245459   \n",
       "1                  24825                       20533   \n",
       "\n",
       "        AMT_REQ_CREDIT_BUREAU_DAY  AMT_REQ_CREDIT_BUREAU_WEEK  \\\n",
       "TARGET                                                          \n",
       "0                          245459                      245459   \n",
       "1                           20533                       20533   \n",
       "\n",
       "        AMT_REQ_CREDIT_BUREAU_MON  AMT_REQ_CREDIT_BUREAU_QRT  \\\n",
       "TARGET                                                         \n",
       "0                          245459                     245459   \n",
       "1                           20533                      20533   \n",
       "\n",
       "        AMT_REQ_CREDIT_BUREAU_YEAR  \n",
       "TARGET                              \n",
       "0                           245459  \n",
       "1                            20533  \n",
       "\n",
       "[2 rows x 121 columns]"
      ]
     },
     "execution_count": 6,
     "metadata": {},
     "output_type": "execute_result"
    }
   ],
   "source": [
    "#【外観把握⑤】 目的変数の分布を確認\n",
    "df_application.groupby(\"TARGET\").count()"
   ]
  },
  {
   "cell_type": "code",
   "execution_count": 9,
   "metadata": {
    "collapsed": false
   },
   "outputs": [
    {
     "data": {
      "image/png": "[encoded data removed]",
      "text/plain": [
       "<Figure size 432x288 with 1 Axes>"
      ]
     },
     "metadata": {
      "needs_background": "light"
     },
     "output_type": "display_data"
    }
   ],
   "source": [
    "sns.countplot(x=\"TARGET\", data=df_application)\n",
    "plt.show()"
   ]
  },
  {
   "cell_type": "code",
   "execution_count": 7,
   "metadata": {
    "collapsed": false
   },
   "outputs": [
    {
     "data": {
      "text/plain": [
       "<matplotlib.axes._subplots.AxesSubplot at 0x10b228ac8>"
      ]
     },
     "execution_count": 7,
     "metadata": {},
     "output_type": "execute_result"
    },
    {
     "data": {
      "image/png": "[encoded data removed]",
      "text/plain": [
       "<Figure size 1800x720 with 2 Axes>"
      ]
     },
     "metadata": {
      "needs_background": "light"
     },
     "output_type": "display_data"
    }
   ],
   "source": [
    "#【外観把握⑥】 欠損値の分布を確認\n",
    "import missingno as msno\n",
    "msno.matrix(df_application)"
   ]
  },
  {
   "cell_type": "code",
   "execution_count": 8,
   "metadata": {
    "collapsed": false
   },
   "outputs": [
    {
     "data": {
      "text/plain": [
       "COMMONAREA_MEDI                 214865\n",
       "COMMONAREA_AVG                  214865\n",
       "COMMONAREA_MODE                 214865\n",
       "NONLIVINGAPARTMENTS_AVG         213514\n",
       "NONLIVINGAPARTMENTS_MODE        213514\n",
       "NONLIVINGAPARTMENTS_MEDI        213514\n",
       "FONDKAPREMONT_MODE              210295\n",
       "LIVINGAPARTMENTS_AVG            210199\n",
       "LIVINGAPARTMENTS_MEDI           210199\n",
       "LIVINGAPARTMENTS_MODE           210199\n",
       "FLOORSMIN_AVG                   208642\n",
       "FLOORSMIN_MEDI                  208642\n",
       "FLOORSMIN_MODE                  208642\n",
       "YEARS_BUILD_AVG                 204488\n",
       "YEARS_BUILD_MEDI                204488\n",
       "YEARS_BUILD_MODE                204488\n",
       "OWN_CAR_AGE                     202929\n",
       "LANDAREA_AVG                    182590\n",
       "LANDAREA_MEDI                   182590\n",
       "LANDAREA_MODE                   182590\n",
       "BASEMENTAREA_MODE               179943\n",
       "BASEMENTAREA_AVG                179943\n",
       "BASEMENTAREA_MEDI               179943\n",
       "EXT_SOURCE_1                    173378\n",
       "NONLIVINGAREA_AVG               169682\n",
       "NONLIVINGAREA_MODE              169682\n",
       "NONLIVINGAREA_MEDI              169682\n",
       "ELEVATORS_MODE                  163891\n",
       "ELEVATORS_MEDI                  163891\n",
       "ELEVATORS_AVG                   163891\n",
       "                                 ...  \n",
       "LIVINGAREA_MEDI                 154350\n",
       "LIVINGAREA_MODE                 154350\n",
       "LIVINGAREA_AVG                  154350\n",
       "HOUSETYPE_MODE                  154297\n",
       "FLOORSMAX_MODE                  153020\n",
       "FLOORSMAX_MEDI                  153020\n",
       "FLOORSMAX_AVG                   153020\n",
       "YEARS_BEGINEXPLUATATION_MEDI    150007\n",
       "YEARS_BEGINEXPLUATATION_MODE    150007\n",
       "YEARS_BEGINEXPLUATATION_AVG     150007\n",
       "TOTALAREA_MODE                  148431\n",
       "EMERGENCYSTATE_MODE             145755\n",
       "OCCUPATION_TYPE                  96391\n",
       "EXT_SOURCE_3                     60965\n",
       "AMT_REQ_CREDIT_BUREAU_YEAR       41519\n",
       "AMT_REQ_CREDIT_BUREAU_QRT        41519\n",
       "AMT_REQ_CREDIT_BUREAU_HOUR       41519\n",
       "AMT_REQ_CREDIT_BUREAU_DAY        41519\n",
       "AMT_REQ_CREDIT_BUREAU_WEEK       41519\n",
       "AMT_REQ_CREDIT_BUREAU_MON        41519\n",
       "NAME_TYPE_SUITE                   1292\n",
       "OBS_30_CNT_SOCIAL_CIRCLE          1021\n",
       "DEF_30_CNT_SOCIAL_CIRCLE          1021\n",
       "OBS_60_CNT_SOCIAL_CIRCLE          1021\n",
       "DEF_60_CNT_SOCIAL_CIRCLE          1021\n",
       "EXT_SOURCE_2                       660\n",
       "AMT_GOODS_PRICE                    278\n",
       "AMT_ANNUITY                         12\n",
       "CNT_FAM_MEMBERS                      2\n",
       "DAYS_LAST_PHONE_CHANGE               1\n",
       "Length: 67, dtype: int64"
      ]
     },
     "execution_count": 8,
     "metadata": {},
     "output_type": "execute_result"
    }
   ],
   "source": [
    "#【外観把握⑦】 欠損値の個数を確認\n",
    "df_application.isnull().sum()[df_application.isnull().sum() != 0].sort_values(ascending=False)"
   ]
  },
  {
   "cell_type": "code",
   "execution_count": 10,
   "metadata": {
    "collapsed": false
   },
   "outputs": [
    {
     "name": "stdout",
     "output_type": "stream",
     "text": [
      "8.072881945686495\n"
     ]
    }
   ],
   "source": [
    "print(24825 / 307511 * 100)\n",
    "# 債務不履行は全体の8％"
   ]
  },
  {
   "cell_type": "code",
   "execution_count": 11,
   "metadata": {
    "collapsed": false,
    "scrolled": true
   },
   "outputs": [
    {
     "name": "stdout",
     "output_type": "stream",
     "text": [
      "        SK_ID_CURR  TARGET NAME_CONTRACT_TYPE CODE_GENDER FLAG_OWN_CAR  \\\n",
      "0           100002       1         Cash loans           M            N   \n",
      "1           100003       0         Cash loans           F            N   \n",
      "2           100004       0    Revolving loans           M            Y   \n",
      "3           100006       0         Cash loans           F            N   \n",
      "4           100007       0         Cash loans           M            N   \n",
      "5           100008       0         Cash loans           M            N   \n",
      "6           100009       0         Cash loans           F            Y   \n",
      "7           100010       0         Cash loans           M            Y   \n",
      "8           100011       0         Cash loans           F            N   \n",
      "9           100012       0    Revolving loans           M            N   \n",
      "10          100014       0         Cash loans           F            N   \n",
      "11          100015       0         Cash loans           F            N   \n",
      "12          100016       0         Cash loans           F            N   \n",
      "13          100017       0         Cash loans           M            Y   \n",
      "14          100018       0         Cash loans           F            N   \n",
      "15          100019       0         Cash loans           M            Y   \n",
      "16          100020       0         Cash loans           M            N   \n",
      "17          100021       0    Revolving loans           F            N   \n",
      "18          100022       0    Revolving loans           F            N   \n",
      "19          100023       0         Cash loans           F            N   \n",
      "20          100024       0    Revolving loans           M            Y   \n",
      "21          100025       0         Cash loans           F            Y   \n",
      "22          100026       0         Cash loans           F            N   \n",
      "23          100027       0         Cash loans           F            N   \n",
      "24          100029       0         Cash loans           M            Y   \n",
      "25          100030       0         Cash loans           F            N   \n",
      "26          100031       1         Cash loans           F            N   \n",
      "27          100032       0         Cash loans           M            N   \n",
      "28          100033       0         Cash loans           M            Y   \n",
      "29          100034       0    Revolving loans           M            N   \n",
      "...            ...     ...                ...         ...          ...   \n",
      "307481      456225       1         Cash loans           M            N   \n",
      "307482      456226       0         Cash loans           F            Y   \n",
      "307483      456227       0         Cash loans           F            N   \n",
      "307484      456228       0         Cash loans           F            Y   \n",
      "307485      456229       0    Revolving loans           F            N   \n",
      "307486      456230       0         Cash loans           F            Y   \n",
      "307487      456231       0         Cash loans           M            N   \n",
      "307488      456232       0         Cash loans           F            N   \n",
      "307489      456233       1         Cash loans           F            N   \n",
      "307490      456234       0         Cash loans           M            N   \n",
      "307491      456235       0         Cash loans           M            Y   \n",
      "307492      456236       0         Cash loans           M            Y   \n",
      "307493      456237       0         Cash loans           F            N   \n",
      "307494      456238       0         Cash loans           M            Y   \n",
      "307495      456239       0         Cash loans           M            Y   \n",
      "307496      456240       0    Revolving loans           F            N   \n",
      "307497      456241       0         Cash loans           F            Y   \n",
      "307498      456242       0         Cash loans           M            Y   \n",
      "307499      456243       0         Cash loans           F            N   \n",
      "307500      456244       0         Cash loans           F            N   \n",
      "307501      456245       0         Cash loans           F            N   \n",
      "307502      456246       0         Cash loans           F            N   \n",
      "307503      456247       0         Cash loans           F            N   \n",
      "307504      456248       0         Cash loans           F            N   \n",
      "307505      456249       0         Cash loans           F            N   \n",
      "307506      456251       0         Cash loans           M            N   \n",
      "307507      456252       0         Cash loans           F            N   \n",
      "307508      456253       0         Cash loans           F            N   \n",
      "307509      456254       1         Cash loans           F            N   \n",
      "307510      456255       0         Cash loans           F            N   \n",
      "\n",
      "       FLAG_OWN_REALTY  CNT_CHILDREN  AMT_INCOME_TOTAL  AMT_CREDIT  \\\n",
      "0                    Y             0        202500.000    406597.5   \n",
      "1                    N             0        270000.000   1293502.5   \n",
      "2                    Y             0         67500.000    135000.0   \n",
      "3                    Y             0        135000.000    312682.5   \n",
      "4                    Y             0        121500.000    513000.0   \n",
      "5                    Y             0         99000.000    490495.5   \n",
      "6                    Y             1        171000.000   1560726.0   \n",
      "7                    Y             0        360000.000   1530000.0   \n",
      "8                    Y             0        112500.000   1019610.0   \n",
      "9                    Y             0        135000.000    405000.0   \n",
      "10                   Y             1        112500.000    652500.0   \n",
      "11                   Y             0         38419.155    148365.0   \n",
      "12                   Y             0         67500.000     80865.0   \n",
      "13                   N             1        225000.000    918468.0   \n",
      "14                   Y             0        189000.000    773680.5   \n",
      "15                   Y             0        157500.000    299772.0   \n",
      "16                   N             0        108000.000    509602.5   \n",
      "17                   Y             1         81000.000    270000.0   \n",
      "18                   Y             0        112500.000    157500.0   \n",
      "19                   Y             1         90000.000    544491.0   \n",
      "20                   Y             0        135000.000    427500.0   \n",
      "21                   Y             1        202500.000   1132573.5   \n",
      "22                   N             1        450000.000    497520.0   \n",
      "23                   Y             0         83250.000    239850.0   \n",
      "24                   N             2        135000.000    247500.0   \n",
      "25                   Y             0         90000.000    225000.0   \n",
      "26                   Y             0        112500.000    979992.0   \n",
      "27                   Y             1        112500.000    327024.0   \n",
      "28                   Y             0        270000.000    790830.0   \n",
      "29                   Y             0         90000.000    180000.0   \n",
      "...                ...           ...               ...         ...   \n",
      "307481               Y             0        225000.000    297000.0   \n",
      "307482               Y             0        225000.000    500566.5   \n",
      "307483               Y             0         99000.000    247275.0   \n",
      "307484               N             0        540000.000    545040.0   \n",
      "307485               Y             1        270000.000    180000.0   \n",
      "307486               Y             1        292500.000    355536.0   \n",
      "307487               Y             0        117000.000   1071909.0   \n",
      "307488               N             0        157500.000    135000.0   \n",
      "307489               Y             0        225000.000    521280.0   \n",
      "307490               Y             0         81000.000    135000.0   \n",
      "307491               Y             2         90000.000   1078200.0   \n",
      "307492               Y             0        585000.000   1575000.0   \n",
      "307493               Y             0        135000.000    946764.0   \n",
      "307494               N             1        270000.000    479700.0   \n",
      "307495               N             0        180000.000    808650.0   \n",
      "307496               N             0        360000.000    337500.0   \n",
      "307497               Y             0        180000.000    270126.0   \n",
      "307498               Y             0        198000.000   1312110.0   \n",
      "307499               Y             0         81000.000    225000.0   \n",
      "307500               Y             0        261000.000   1303812.0   \n",
      "307501               Y             3         81000.000    269550.0   \n",
      "307502               Y             1         94500.000    225000.0   \n",
      "307503               Y             0        112500.000    345510.0   \n",
      "307504               Y             0        153000.000    331920.0   \n",
      "307505               Y             0        112500.000    225000.0   \n",
      "307506               N             0        157500.000    254700.0   \n",
      "307507               Y             0         72000.000    269550.0   \n",
      "307508               Y             0        153000.000    677664.0   \n",
      "307509               Y             0        171000.000    370107.0   \n",
      "307510               N             0        157500.000    675000.0   \n",
      "\n",
      "            NAME_INCOME_TYPE        ...        FLAG_DOCUMENT_12  \\\n",
      "0                    Working        ...                       0   \n",
      "1              State servant        ...                       0   \n",
      "2                    Working        ...                       0   \n",
      "3                    Working        ...                       0   \n",
      "4                    Working        ...                       0   \n",
      "5              State servant        ...                       0   \n",
      "6       Commercial associate        ...                       0   \n",
      "7              State servant        ...                       0   \n",
      "8                  Pensioner        ...                       0   \n",
      "9                    Working        ...                       0   \n",
      "10                   Working        ...                       0   \n",
      "11                 Pensioner        ...                       0   \n",
      "12                   Working        ...                       0   \n",
      "13                   Working        ...                       0   \n",
      "14                   Working        ...                       0   \n",
      "15                   Working        ...                       0   \n",
      "16                   Working        ...                       0   \n",
      "17                   Working        ...                       0   \n",
      "18                   Working        ...                       0   \n",
      "19             State servant        ...                       0   \n",
      "20                   Working        ...                       0   \n",
      "21      Commercial associate        ...                       0   \n",
      "22                   Working        ...                       0   \n",
      "23                 Pensioner        ...                       0   \n",
      "24                   Working        ...                       0   \n",
      "25                   Working        ...                       0   \n",
      "26                   Working        ...                       0   \n",
      "27                   Working        ...                       0   \n",
      "28             State servant        ...                       0   \n",
      "29                   Working        ...                       0   \n",
      "...                      ...        ...                     ...   \n",
      "307481               Working        ...                       0   \n",
      "307482  Commercial associate        ...                       0   \n",
      "307483             Pensioner        ...                       0   \n",
      "307484  Commercial associate        ...                       0   \n",
      "307485               Working        ...                       0   \n",
      "307486  Commercial associate        ...                       0   \n",
      "307487             Pensioner        ...                       0   \n",
      "307488         State servant        ...                       0   \n",
      "307489  Commercial associate        ...                       0   \n",
      "307490  Commercial associate        ...                       0   \n",
      "307491  Commercial associate        ...                       0   \n",
      "307492               Working        ...                       0   \n",
      "307493               Working        ...                       0   \n",
      "307494  Commercial associate        ...                       0   \n",
      "307495               Working        ...                       0   \n",
      "307496               Working        ...                       0   \n",
      "307497               Working        ...                       0   \n",
      "307498  Commercial associate        ...                       0   \n",
      "307499  Commercial associate        ...                       0   \n",
      "307500               Working        ...                       0   \n",
      "307501  Commercial associate        ...                       0   \n",
      "307502               Working        ...                       0   \n",
      "307503  Commercial associate        ...                       0   \n",
      "307504               Working        ...                       0   \n",
      "307505             Pensioner        ...                       0   \n",
      "307506               Working        ...                       0   \n",
      "307507             Pensioner        ...                       0   \n",
      "307508               Working        ...                       0   \n",
      "307509  Commercial associate        ...                       0   \n",
      "307510  Commercial associate        ...                       0   \n",
      "\n",
      "       FLAG_DOCUMENT_13 FLAG_DOCUMENT_14  FLAG_DOCUMENT_15  FLAG_DOCUMENT_16  \\\n",
      "0                     0                0                 0                 0   \n",
      "1                     0                0                 0                 0   \n",
      "2                     0                0                 0                 0   \n",
      "3                     0                0                 0                 0   \n",
      "4                     0                0                 0                 0   \n",
      "5                     0                0                 0                 0   \n",
      "6                     0                1                 0                 0   \n",
      "7                     0                0                 0                 0   \n",
      "8                     0                0                 0                 0   \n",
      "9                     0                0                 0                 0   \n",
      "10                    0                0                 0                 0   \n",
      "11                    0                0                 0                 0   \n",
      "12                    0                0                 0                 0   \n",
      "13                    0                0                 0                 0   \n",
      "14                    0                0                 0                 0   \n",
      "15                    0                0                 0                 0   \n",
      "16                    0                0                 0                 0   \n",
      "17                    0                0                 0                 0   \n",
      "18                    0                0                 0                 0   \n",
      "19                    0                0                 0                 0   \n",
      "20                    0                0                 0                 0   \n",
      "21                    0                0                 0                 0   \n",
      "22                    0                0                 0                 0   \n",
      "23                    0                0                 0                 0   \n",
      "24                    0                0                 0                 0   \n",
      "25                    0                0                 0                 0   \n",
      "26                    0                0                 0                 1   \n",
      "27                    0                0                 0                 0   \n",
      "28                    0                0                 0                 0   \n",
      "29                    0                0                 0                 0   \n",
      "...                 ...              ...               ...               ...   \n",
      "307481                0                0                 0                 0   \n",
      "307482                0                0                 0                 0   \n",
      "307483                0                0                 0                 0   \n",
      "307484                0                0                 0                 0   \n",
      "307485                0                0                 0                 0   \n",
      "307486                0                0                 0                 0   \n",
      "307487                0                0                 0                 0   \n",
      "307488                0                0                 0                 0   \n",
      "307489                0                0                 0                 0   \n",
      "307490                0                0                 0                 0   \n",
      "307491                0                0                 0                 0   \n",
      "307492                0                0                 0                 0   \n",
      "307493                0                0                 0                 0   \n",
      "307494                0                0                 0                 0   \n",
      "307495                0                0                 0                 0   \n",
      "307496                0                0                 0                 0   \n",
      "307497                0                0                 0                 0   \n",
      "307498                0                0                 0                 0   \n",
      "307499                0                0                 0                 0   \n",
      "307500                0                0                 0                 0   \n",
      "307501                0                0                 0                 0   \n",
      "307502                0                0                 0                 0   \n",
      "307503                0                0                 0                 0   \n",
      "307504                0                0                 0                 0   \n",
      "307505                0                0                 0                 0   \n",
      "307506                0                0                 0                 0   \n",
      "307507                0                0                 0                 0   \n",
      "307508                0                0                 0                 0   \n",
      "307509                0                0                 0                 0   \n",
      "307510                0                0                 0                 0   \n",
      "\n",
      "        FLAG_DOCUMENT_17  FLAG_DOCUMENT_18  FLAG_DOCUMENT_19  \\\n",
      "0                      0                 0                 0   \n",
      "1                      0                 0                 0   \n",
      "2                      0                 0                 0   \n",
      "3                      0                 0                 0   \n",
      "4                      0                 0                 0   \n",
      "5                      0                 0                 0   \n",
      "6                      0                 0                 0   \n",
      "7                      0                 0                 0   \n",
      "8                      0                 0                 0   \n",
      "9                      0                 0                 0   \n",
      "10                     0                 0                 0   \n",
      "11                     0                 0                 0   \n",
      "12                     0                 0                 0   \n",
      "13                     0                 0                 0   \n",
      "14                     0                 0                 0   \n",
      "15                     0                 0                 0   \n",
      "16                     0                 0                 0   \n",
      "17                     0                 0                 0   \n",
      "18                     0                 0                 0   \n",
      "19                     0                 0                 0   \n",
      "20                     0                 0                 0   \n",
      "21                     0                 0                 0   \n",
      "22                     0                 0                 0   \n",
      "23                     0                 0                 0   \n",
      "24                     0                 0                 0   \n",
      "25                     0                 0                 0   \n",
      "26                     0                 0                 0   \n",
      "27                     0                 0                 0   \n",
      "28                     0                 0                 0   \n",
      "29                     0                 0                 0   \n",
      "...                  ...               ...               ...   \n",
      "307481                 0                 0                 0   \n",
      "307482                 0                 0                 0   \n",
      "307483                 0                 0                 0   \n",
      "307484                 0                 0                 0   \n",
      "307485                 0                 0                 0   \n",
      "307486                 0                 0                 0   \n",
      "307487                 0                 0                 0   \n",
      "307488                 0                 0                 0   \n",
      "307489                 0                 0                 0   \n",
      "307490                 0                 0                 0   \n",
      "307491                 0                 0                 0   \n",
      "307492                 0                 0                 0   \n",
      "307493                 0                 0                 0   \n",
      "307494                 0                 0                 0   \n",
      "307495                 0                 0                 0   \n",
      "307496                 0                 0                 0   \n",
      "307497                 0                 0                 0   \n",
      "307498                 0                 0                 0   \n",
      "307499                 0                 0                 0   \n",
      "307500                 0                 0                 0   \n",
      "307501                 0                 0                 0   \n",
      "307502                 0                 0                 0   \n",
      "307503                 0                 0                 0   \n",
      "307504                 0                 0                 0   \n",
      "307505                 0                 0                 0   \n",
      "307506                 0                 0                 0   \n",
      "307507                 0                 0                 0   \n",
      "307508                 0                 0                 0   \n",
      "307509                 0                 0                 0   \n",
      "307510                 0                 0                 0   \n",
      "\n",
      "        FLAG_DOCUMENT_20  FLAG_DOCUMENT_21  \n",
      "0                      0                 0  \n",
      "1                      0                 0  \n",
      "2                      0                 0  \n",
      "3                      0                 0  \n",
      "4                      0                 0  \n",
      "5                      0                 0  \n",
      "6                      0                 0  \n",
      "7                      0                 0  \n",
      "8                      0                 0  \n",
      "9                      0                 0  \n",
      "10                     0                 0  \n",
      "11                     0                 0  \n",
      "12                     0                 0  \n",
      "13                     0                 0  \n",
      "14                     0                 0  \n",
      "15                     0                 0  \n",
      "16                     0                 0  \n",
      "17                     0                 0  \n",
      "18                     0                 0  \n",
      "19                     0                 0  \n",
      "20                     0                 0  \n",
      "21                     0                 0  \n",
      "22                     0                 0  \n",
      "23                     0                 0  \n",
      "24                     0                 0  \n",
      "25                     0                 0  \n",
      "26                     0                 0  \n",
      "27                     0                 0  \n",
      "28                     0                 0  \n",
      "29                     0                 0  \n",
      "...                  ...               ...  \n",
      "307481                 0                 0  \n",
      "307482                 0                 0  \n",
      "307483                 0                 0  \n",
      "307484                 0                 0  \n",
      "307485                 0                 0  \n",
      "307486                 0                 0  \n",
      "307487                 0                 0  \n",
      "307488                 0                 0  \n",
      "307489                 0                 0  \n",
      "307490                 0                 0  \n",
      "307491                 0                 0  \n",
      "307492                 0                 0  \n",
      "307493                 0                 0  \n",
      "307494                 0                 0  \n",
      "307495                 0                 0  \n",
      "307496                 0                 0  \n",
      "307497                 0                 0  \n",
      "307498                 0                 0  \n",
      "307499                 0                 0  \n",
      "307500                 0                 0  \n",
      "307501                 0                 0  \n",
      "307502                 0                 0  \n",
      "307503                 0                 0  \n",
      "307504                 0                 0  \n",
      "307505                 0                 0  \n",
      "307506                 0                 0  \n",
      "307507                 0                 0  \n",
      "307508                 0                 0  \n",
      "307509                 0                 0  \n",
      "307510                 0                 0  \n",
      "\n",
      "[307511 rows x 55 columns]\n"
     ]
    }
   ],
   "source": [
    "print(df_application.dropna(how='any', axis=1))"
   ]
  },
  {
   "cell_type": "code",
   "execution_count": 246,
   "metadata": {},
   "outputs": [
    {
     "data": {
      "image/png": "[encoded data removed]",
      "text/plain": [
       "<Figure size 432x288 with 1 Axes>"
      ]
     },
     "metadata": {
      "needs_background": "light"
     },
     "output_type": "display_data"
    },
    {
     "name": "stdout",
     "output_type": "stream",
     "text": [
      "歪度： 391.56 です\n",
      "尖度： 191783.44 です\n"
     ]
    }
   ],
   "source": [
    "#【外観把握⑧】 収入の分布を確認\n",
    "\n",
    "import pandas as pd\n",
    "import numpy as np\n",
    "import scipy\n",
    "import seaborn as sns\n",
    "import matplotlib.pyplot as plt\n",
    "%matplotlib inline\n",
    "\n",
    "fig,ax = plt.subplots()\n",
    "\n",
    "income_total = df_application['AMT_INCOME_TOTAL']\n",
    "n, bins, patches = ax.hist(income_total, bins=100)\n",
    "\n",
    "plt.ylabel(\"count\")\n",
    "plt.title(\"Income\")\n",
    "plt.xlabel(\"Income\")\n",
    "plt.show()\n",
    "\n",
    "skew = scipy.stats.skew(income_total)\n",
    "kurtosis = scipy.stats.kurtosis(income_total)\n",
    "\n",
    "# 歪度\n",
    "print('歪度：', '{:.2f}'.format(float(skew)), \"です\")\n",
    "# 尖度\n",
    "print('尖度：',  '{:.2f}'.format(float(kurtosis)), \"です\")"
   ]
  },
  {
   "cell_type": "code",
   "execution_count": null,
   "metadata": {},
   "outputs": [],
   "source": [
    "可視化結果の考察：10万ドル未満のゾーンにほぼ入っている。\n",
    "ネクストアクション ：相対度数の高いデータにフォーカスしてより詳細を見たいので、0.0〜0.1億ドルのデータに絞って分布を確認する。"
   ]
  },
  {
   "cell_type": "code",
   "execution_count": 247,
   "metadata": {},
   "outputs": [
    {
     "data": {
      "text/plain": [
       "12840     117000000.0\n",
       "203693     18000090.0\n",
       "246858     13500000.0\n",
       "77768       9000000.0\n",
       "131127      6750000.0\n",
       "204564      4500000.0\n",
       "103006      4500000.0\n",
       "187833      4500000.0\n",
       "287463      4500000.0\n",
       "181698      3950059.5\n",
       "20216       3825000.0\n",
       "49645       3600000.0\n",
       "284311      3600000.0\n",
       "82846       3375000.0\n",
       "86026       3375000.0\n",
       "248159      3150000.0\n",
       "101007      3150000.0\n",
       "107926      2930026.5\n",
       "258773      2700000.0\n",
       "298082      2475000.0\n",
       "145673      2250000.0\n",
       "201855      2250000.0\n",
       "206814      2250000.0\n",
       "278212      2250000.0\n",
       "10222       2250000.0\n",
       "55329       2250000.0\n",
       "81185       2250000.0\n",
       "71637       2250000.0\n",
       "74781       2250000.0\n",
       "29737       2250000.0\n",
       "             ...     \n",
       "293194        27000.0\n",
       "36856         27000.0\n",
       "199006        27000.0\n",
       "239654        27000.0\n",
       "162772        27000.0\n",
       "205513        27000.0\n",
       "299307        27000.0\n",
       "133737        27000.0\n",
       "163569        27000.0\n",
       "232535        27000.0\n",
       "277924        27000.0\n",
       "90900         27000.0\n",
       "267037        27000.0\n",
       "83674         27000.0\n",
       "173546        27000.0\n",
       "62585         27000.0\n",
       "10585         27000.0\n",
       "125059        27000.0\n",
       "124146        27000.0\n",
       "292142        27000.0\n",
       "187572        27000.0\n",
       "4735          27000.0\n",
       "175433        26550.0\n",
       "262748        26550.0\n",
       "132707        26460.0\n",
       "246104        26100.0\n",
       "186643        26100.0\n",
       "240137        26100.0\n",
       "20727         25650.0\n",
       "1678          25650.0\n",
       "Name: AMT_INCOME_TOTAL, Length: 307511, dtype: float64"
      ]
     },
     "execution_count": 247,
     "metadata": {},
     "output_type": "execute_result"
    }
   ],
   "source": [
    "#まず、外れ値を確認するために昇順にしてデータを見てみる\n",
    "income_total_s = income_total.sort_values(ascending=False)\n",
    "income_total_s\n",
    "#上位５つが特に大きい外れ値であることが分かる"
   ]
  },
  {
   "cell_type": "code",
   "execution_count": 248,
   "metadata": {},
   "outputs": [
    {
     "data": {
      "image/png": "[encoded data removed]",
      "text/plain": [
       "<Figure size 432x288 with 1 Axes>"
      ]
     },
     "metadata": {
      "needs_background": "light"
     },
     "output_type": "display_data"
    },
    {
     "name": "stdout",
     "output_type": "stream",
     "text": [
      "歪度： 2.14 です\n",
      "尖度： 8.65 です\n"
     ]
    }
   ],
   "source": [
    "income_total_mode = income_total_s[income_total_s<1000000]\n",
    "\n",
    "fig,ax = plt.subplots()\n",
    "n, bins, patches = ax.hist(income_total_mode , bins=100)\n",
    "\n",
    "plt.ylabel(\"count\")\n",
    "plt.title(\"Income\")\n",
    "plt.xlabel(\"Income\")\n",
    "plt.show()\n",
    "\n",
    "skew = scipy.stats.skew(income_total_mode)\n",
    "kurtosis = scipy.stats.kurtosis(income_total_mode)\n",
    "print('歪度：', '{:.2f}'.format(float(skew)), \"です\")\n",
    "print('尖度：',  '{:.2f}'.format(float(kurtosis)), \"です\")"
   ]
  },
  {
   "cell_type": "code",
   "execution_count": null,
   "metadata": {},
   "outputs": [],
   "source": [
    "【外観把握⑨】\n",
    "可視化結果の考察：3万ドル未満のゾーンにほぼ入っている。（ローンを組んでいる人たちは）イメージしていたより貧富の差は大きくない。\n",
    "ネクストアクション ：ローンを組んでいる人の性別の分布を見る。（中国は男性が家を買ってからプロポーズすると聞くので、ほぼ男性なのではと思う）"
   ]
  },
  {
   "cell_type": "code",
   "execution_count": 86,
   "metadata": {},
   "outputs": [
    {
     "data": {
      "text/plain": [
       "F      202448\n",
       "M      105059\n",
       "XNA         4\n",
       "Name: CODE_GENDER, dtype: int64"
      ]
     },
     "execution_count": 86,
     "metadata": {},
     "output_type": "execute_result"
    }
   ],
   "source": [
    "gender = df_application['CODE_GENDER']\n",
    "gender_count = pd.Series.value_counts(gender)\n",
    "gender_count"
   ]
  },
  {
   "cell_type": "code",
   "execution_count": 92,
   "metadata": {},
   "outputs": [
    {
     "data": {
      "image/png": "[encoded data removed]",
      "text/plain": [
       "<Figure size 432x288 with 1 Axes>"
      ]
     },
     "metadata": {},
     "output_type": "display_data"
    }
   ],
   "source": [
    "labels = ['F', 'M', 'XNA']\n",
    "fig, ax = plt.subplots()\n",
    "ax.pie(gender_count, labels=labels, startangle=90)\n",
    "plt.show()"
   ]
  },
  {
   "cell_type": "code",
   "execution_count": null,
   "metadata": {},
   "outputs": [],
   "source": [
    "【外観把握⑩】\n",
    "可視化結果の考察：女性と男性の割合が2:1だという意外な結果だった。私の持っていた情報はフェイクだったのか…。\n",
    "ネクストアクション ：ローンを組んでいる人の性別の分布を見る。（中国は男性が家を買ってからプロポーズすると聞くので、ほぼ男性なのではと思う）"
   ]
  },
  {
   "cell_type": "code",
   "execution_count": 119,
   "metadata": {},
   "outputs": [
    {
     "data": {
      "image/png": "[encoded data removed]",
      "text/plain": [
       "<Figure size 432x288 with 1 Axes>"
      ]
     },
     "metadata": {},
     "output_type": "display_data"
    }
   ],
   "source": [
    "family = df_application['NAME_FAMILY_STATUS']\n",
    "family_count = pd.Series.value_counts(family)\n",
    "family_count_labels = list(family_count.index)\n",
    "fig, ax = plt.subplots()\n",
    "ax.pie(family_count, labels=family_count_labels, startangle=90, autopct=\"%1.1f%%\")\n",
    "plt.show()"
   ]
  },
  {
   "cell_type": "code",
   "execution_count": null,
   "metadata": {},
   "outputs": [],
   "source": [
    "【外観把握11】\n",
    "可視化結果の考察：独身でローンを組んで家を買う人は15%とのことで、私の持っていた情報はフェイクもしくは、分母を「ローンを組んだ人」のみにすると当てはまらないようだ。\n",
    "　　　　　　　　 civilmarriageが10%ということはMarriedが63.9%ということは、結婚に届出が必須ではないのか？！届出と返済率の相関も気になる。\n",
    "ネクストアクション ：同様の手法で、車の所有、学歴、子供の数、職業についても確認してデータの外観を知る。"
   ]
  },
  {
   "cell_type": "code",
   "execution_count": 190,
   "metadata": {},
   "outputs": [
    {
     "data": {
      "image/png": "[encoded data removed]",
      "text/plain": [
       "<Figure size 1440x720 with 3 Axes>"
      ]
     },
     "metadata": {},
     "output_type": "display_data"
    }
   ],
   "source": [
    "plt.figure(figsize=(20,10))\n",
    "\n",
    "plt.subplot(2, 3, 1)\n",
    "plt.title(\"car\")\n",
    "car = df_application['FLAG_OWN_CAR']\n",
    "car_count = pd.Series.value_counts(car)\n",
    "car_count_labels = list(car_count.index)\n",
    "plt.pie(car_count, labels=car_count_labels, startangle=90, autopct=\"%1.1f%%\")\n",
    "\n",
    "plt.subplot(2, 3, 2)\n",
    "plt.title(\"education type\")\n",
    "education = df_application['NAME_EDUCATION_TYPE']\n",
    "education_count = pd.Series.value_counts(education)\n",
    "education_count_labels = list(education_count.index)\n",
    "plt.pie(education_count, labels=education_count_labels, startangle=90, autopct=\"%1.1f%%\")\n",
    "\n",
    "plt.subplot(2, 3, 3)\n",
    "plt.title(\"child\")\n",
    "child = df_application['CNT_CHILDREN']\n",
    "child_count = pd.Series.value_counts(child)\n",
    "child_count_labels = list(child_count.index)\n",
    "plt.pie(child_count, labels=child_count_labels, startangle=90, autopct=\"%1.1f%%\")\n",
    "\n",
    "plt.show()"
   ]
  },
  {
   "cell_type": "code",
   "execution_count": 249,
   "metadata": {},
   "outputs": [
    {
     "data": {
      "image/png": "[encoded data removed]",
      "text/plain": [
       "<Figure size 1800x720 with 1 Axes>"
      ]
     },
     "metadata": {
      "needs_background": "light"
     },
     "output_type": "display_data"
    }
   ],
   "source": [
    "plt.figure(figsize=(25,10))\n",
    "\n",
    "job = df_application['OCCUPATION_TYPE']\n",
    "job_count = pd.Series.value_counts(job)\n",
    "job_count_labels = list(job_count.index)\n",
    "plt.bar(job_count_labels, job_count)\n",
    "\n",
    "plt.show()"
   ]
  },
  {
   "cell_type": "markdown",
   "metadata": {},
   "source": [
    "## 【問題3】課題設定"
   ]
  },
  {
   "cell_type": "markdown",
   "metadata": {},
   "source": [
    "データの概観を見たことを元に、自分なりの課題・疑問を複数設定してください。"
   ]
  },
  {
   "cell_type": "markdown",
   "metadata": {},
   "source": [
    "・債務不履行が8%あるのは、感覚的に高過ぎる気がする。現代の日本で通常考えられるような要因以外のものがあるのではないか？\n",
    "・75%を占める子供の人数が1人の世帯と、それ以外ので何らかの差があるか調べたい。（一人っ子政策によるペナルティの影響の有無があるのでは？）\n",
    "・地域差があるのではないか？地域による３段階評価の、指標値としての有意性も確認しておきたい\n",
    "・性別、学歴、収入、車の所有、住所に関するフラグ系の指標は、一応相関を調べておく\n",
    "・申込時の同行者は連帯保証人である可能性が高そうなので、相関があるかもしれない\n",
    "・収入に対する返済額の大きさ（総額、年額）は確認しておきたい\n",
    "・職場の連絡先を登録した場合は、職場へ連絡されることへの警戒心が債務不履行への抑止力になるのでは？"
   ]
  },
  {
   "cell_type": "markdown",
   "metadata": {},
   "source": [
    "## 【問題4】データ探索"
   ]
  },
  {
   "cell_type": "markdown",
   "metadata": {},
   "source": [
    "問題3で設定した課題・疑問を解決するためにデータ探索を進めましょう。過程で新しい疑問点などが生まれた場合は、加えていってください。\n",
    "課題合格の条件として、表やグラフを 合計15個以上 出力してください。そして、それに対してマークダウンを使い考察を加えていきましょう。"
   ]
  },
  {
   "cell_type": "code",
   "execution_count": null,
   "metadata": {},
   "outputs": [],
   "source": [
    "【EDA①】\n",
    "収入と債務不履行に相関があるか確認する"
   ]
  },
  {
   "cell_type": "code",
   "execution_count": 256,
   "metadata": {},
   "outputs": [
    {
     "data": {
      "image/png": "[encoded data removed]",
      "text/plain": [
       "<Figure size 1440x360 with 1 Axes>"
      ]
     },
     "metadata": {
      "needs_background": "light"
     },
     "output_type": "display_data"
    },
    {
     "data": {
      "image/png": "[encoded data removed]",
      "text/plain": [
       "<Figure size 1440x360 with 1 Axes>"
      ]
     },
     "metadata": {
      "needs_background": "light"
     },
     "output_type": "display_data"
    }
   ],
   "source": [
    "from pylab import rcParams\n",
    "rcParams['figure.figsize'] = 20,5\n",
    "\n",
    "#全データの収入分布グラフ\n",
    "\n",
    "income_total = df_application['AMT_INCOME_TOTAL']\n",
    "income_middle = income_total[income_total_s<500000]\n",
    "\n",
    "fig,ax = plt.subplots()\n",
    "n, bins, patches = ax.hist(income_middle , bins=100)\n",
    "\n",
    "plt.ylabel(\"count\")\n",
    "plt.title(\"Income_all\")\n",
    "plt.xlabel(\"Income\")\n",
    "plt.grid(True)\n",
    "plt.show()\n",
    "\n",
    "#債務不履行のフラグが立っているデータの収入分布グラフ\n",
    "\n",
    "Target1_income = df_application[df_application['TARGET'] == 1 ]\n",
    "Target1_income_middle = Target1_income[Target1_income['AMT_INCOME_TOTAL'] < 500000]\n",
    "Target1_income_graph = Target1_income_middle['AMT_INCOME_TOTAL']\n",
    "\n",
    "fig,ax = plt.subplots()\n",
    "n, bins, patches = ax.hist(Target1_income_graph , bins=100)\n",
    "\n",
    "plt.ylabel(\"count\")\n",
    "plt.title(\"Income_default\")\n",
    "plt.xlabel(\"Income\")\n",
    "plt.grid(True)\n",
    "\n",
    "plt.show()"
   ]
  },
  {
   "cell_type": "code",
   "execution_count": null,
   "metadata": {},
   "outputs": [],
   "source": [
    "【EDA①の考察】\n",
    "収入額の分布は、全体と債務不履行の人で目立った違いは無いため、収入額と返済可否は直接の相関は無いようだ。\n",
    "\n",
    "【EDA②】\n",
    "ローンの総額と債務不履行に相関があるか確認する"
   ]
  },
  {
   "cell_type": "code",
   "execution_count": 262,
   "metadata": {},
   "outputs": [
    {
     "data": {
      "image/png": "[encoded data removed]",
      "text/plain": [
       "<Figure size 1440x360 with 1 Axes>"
      ]
     },
     "metadata": {
      "needs_background": "light"
     },
     "output_type": "display_data"
    },
    {
     "data": {
      "image/png": "[encoded data removed]",
      "text/plain": [
       "<Figure size 1440x360 with 1 Axes>"
      ]
     },
     "metadata": {
      "needs_background": "light"
     },
     "output_type": "display_data"
    }
   ],
   "source": [
    "from pylab import rcParams\n",
    "rcParams['figure.figsize'] = 20,5\n",
    "\n",
    "#全データの収入分布グラフ\n",
    "\n",
    "credit = df_application['AMT_CREDIT']\n",
    "credit_middle = credit[credit<2500000]\n",
    "\n",
    "fig,ax = plt.subplots()\n",
    "n, bins, patches = ax.hist(credit_middle , bins=100)\n",
    "\n",
    "plt.ylabel(\"count\")\n",
    "plt.title(\"credit_all\")\n",
    "plt.xlabel(\"credit\")\n",
    "plt.grid(True)\n",
    "plt.show()\n",
    "\n",
    "#債務不履行のフラグが立っているデータの収入分布グラフ\n",
    "\n",
    "Target1_credit = df_application[df_application['TARGET'] == 1 ]\n",
    "Target1_credit_middle = Target1_credit[Target1_credit['AMT_CREDIT'] < 2500000]\n",
    "Target1_credit_graph = Target1_credit_middle['AMT_CREDIT']\n",
    "\n",
    "fig,ax = plt.subplots()\n",
    "n, bins, patches = ax.hist(Target1_credit_graph , bins=100)\n",
    "\n",
    "plt.ylabel(\"count\")\n",
    "plt.title(\"credit_default\")\n",
    "plt.xlabel(\"credit\")\n",
    "plt.grid(True)\n",
    "\n",
    "plt.show()\n"
   ]
  },
  {
   "cell_type": "code",
   "execution_count": null,
   "metadata": {},
   "outputs": [],
   "source": [
    "【EDA②の考察】\n",
    "ローンの総額の分布は、全体と債務不履行の人で目立った違いは無いため、ローンの総額と返済可否は直接の相関は無いようだ。\n",
    "\n",
    "【EDA③】\n",
    "年収に対するローンの返済年金額と返済率の相関を確認する。"
   ]
  },
  {
   "cell_type": "code",
   "execution_count": 52,
   "metadata": {},
   "outputs": [
    {
     "data": {
      "image/png": "[encoded data removed]",
      "text/plain": [
       "<Figure size 1440x360 with 1 Axes>"
      ]
     },
     "metadata": {
      "needs_background": "light"
     },
     "output_type": "display_data"
    },
    {
     "data": {
      "image/png": "[encoded data removed]",
      "text/plain": [
       "<Figure size 1440x360 with 1 Axes>"
      ]
     },
     "metadata": {
      "needs_background": "light"
     },
     "output_type": "display_data"
    }
   ],
   "source": [
    "from pylab import rcParams\n",
    "rcParams['figure.figsize'] = 20,5\n",
    "\n",
    "#全データの年収に対する返済額の割合のグラフ\n",
    "\n",
    "repayment_rate = df_application[['AMT_CREDIT', 'AMT_INCOME_TOTAL']]\n",
    "repayment_rate = repayment_rate['AMT_CREDIT'] / repayment_rate['AMT_INCOME_TOTAL']\n",
    "repayment_rate_middle = repayment_rate[repayment_rate < 20]\n",
    "\n",
    "fig,ax = plt.subplots()\n",
    "n, bins, patches = ax.hist(repayment_rate_middle, bins=100)\n",
    "\n",
    "plt.ylabel(\"count\")\n",
    "plt.title(\"repayment_rate_all\")\n",
    "plt.xlabel(\"repayment_rate\")\n",
    "plt.grid(True)\n",
    "plt.show()\n",
    "\n",
    "# 債務不履行のフラグが立っているデータの、年収に対する返済額の割合のグラフ\n",
    "\n",
    "Target1_repayment_rate = df_application[df_application['TARGET'] == 1 ]\n",
    "Target1_repayment_rate = Target1_repayment_rate['AMT_CREDIT'] / Target1_repayment_rate['AMT_INCOME_TOTAL']\n",
    "Target1_repayment_rate_middle = Target1_repayment_rate[Target1_repayment_rate < 20]\n",
    "\n",
    "fig,ax = plt.subplots()\n",
    "n, bins, patches = ax.hist(Target1_repayment_rate_middle , bins=100)\n",
    "\n",
    "plt.ylabel(\"count\")\n",
    "plt.title(\"repayment_rate_default\")\n",
    "plt.xlabel(\"repayment_rate\")\n",
    "plt.grid(True)\n",
    "\n",
    "plt.show()"
   ]
  },
  {
   "cell_type": "code",
   "execution_count": null,
   "metadata": {},
   "outputs": [],
   "source": [
    "【EDA③の考察】\n",
    "年収に対する返済額の割合の分布は、全体と債務不履行の人で目立った違いは無いため、ここにも直接の相関は無いようだ。\n",
    "\n",
    "【EDA④】\n",
    "車の所有、学歴、子供の数、職業、加えて居住状況も気になるので、その返済率を確認してみる。"
   ]
  },
  {
   "cell_type": "code",
   "execution_count": 64,
   "metadata": {},
   "outputs": [
    {
     "name": "stdout",
     "output_type": "stream",
     "text": [
      "  FLAG_OWN_CAR     SK_ID_CURR    TARGET  CNT_CHILDREN  AMT_INCOME_TOTAL  \\\n",
      "0            N  278090.776133  8.500227      0.364161     154603.326933   \n",
      "1            Y  278354.640558  7.243730      0.519673     196338.851352   \n",
      "\n",
      "      AMT_CREDIT   AMT_ANNUITY  AMT_GOODS_PRICE  REGION_POPULATION_RELATIVE  \\\n",
      "0  565442.540961  25635.303918    506464.376570                    0.020458   \n",
      "1  664186.007950  29967.028169    600266.782129                    0.021664   \n",
      "\n",
      "     DAYS_BIRTH             ...              FLAG_DOCUMENT_18  \\\n",
      "0 -16443.900707             ...                      0.008136   \n",
      "1 -15247.500005             ...                      0.008118   \n",
      "\n",
      "   FLAG_DOCUMENT_19  FLAG_DOCUMENT_20  FLAG_DOCUMENT_21  \\\n",
      "0          0.000557          0.000389          0.000246   \n",
      "1          0.000669          0.000736          0.000507   \n",
      "\n",
      "   AMT_REQ_CREDIT_BUREAU_HOUR  AMT_REQ_CREDIT_BUREAU_DAY  \\\n",
      "0                    0.006239                   0.006954   \n",
      "1                    0.006709                   0.007087   \n",
      "\n",
      "   AMT_REQ_CREDIT_BUREAU_WEEK  AMT_REQ_CREDIT_BUREAU_MON  \\\n",
      "0                    0.034326                   0.253692   \n",
      "1                    0.034430                   0.293070   \n",
      "\n",
      "   AMT_REQ_CREDIT_BUREAU_QRT  AMT_REQ_CREDIT_BUREAU_YEAR  \n",
      "0                   0.271238                    1.949610  \n",
      "1                   0.254675                    1.806979  \n",
      "\n",
      "[2 rows x 107 columns]\n"
     ]
    },
    {
     "data": {
      "image/png": "[encoded data removed]",
      "text/plain": [
       "<Figure size 1800x720 with 1 Axes>"
      ]
     },
     "metadata": {
      "needs_background": "light"
     },
     "output_type": "display_data"
    }
   ],
   "source": [
    "#車の所有状況ごとに返済率を算出\n",
    "non_repayment_rate_w_occupation = df_application.groupby(\"FLAG_OWN_CAR\", as_index=False).mean()\n",
    "non_repayment_rate_w_occupation[\"TARGET\"] *= 100\n",
    "#non_repayment_rate_w_occupation[\"OCCUPATION_TYPE_LABEL\"] = [i for i in range(0, len(non_repayment_rate_w_occupation))]\n",
    "print(non_repayment_rate_w_occupation)\n",
    "\n",
    "#Bar plot\n",
    "plt.figure(figsize=(25,10))\n",
    "plt.bar(non_repayment_rate_w_occupation.index, non_repayment_rate_w_occupation[\"TARGET\"], color=\"Blue\")\n",
    "plt.xlabel(\"FLAG_OWN_CAR\")\n",
    "plt.ylabel(\"Non-payment rate[%]\")\n",
    "plt.title(\"Non-payment rate\")\n",
    "#グラフ上に数値表示\n",
    "for x, y in zip(non_repayment_rate_w_occupation.index, non_repayment_rate_w_occupation[\"TARGET\"]):\n",
    "    plt.text(x, y, str(\"{:.2f}\").format(y), ha='center', va='bottom')\n",
    "\n",
    "plt.xticks(non_repayment_rate_w_occupation.index, non_repayment_rate_w_occupation[\"FLAG_OWN_CAR\"]) #x軸を実際のデータラベルへ置き換え\n",
    "plt.show()"
   ]
  },
  {
   "cell_type": "code",
   "execution_count": 65,
   "metadata": {},
   "outputs": [
    {
     "name": "stdout",
     "output_type": "stream",
     "text": [
      "             NAME_EDUCATION_TYPE     SK_ID_CURR     TARGET  CNT_CHILDREN  \\\n",
      "0                Academic degree  282783.128049   1.829268      0.378049   \n",
      "1               Higher education  278090.736065   5.355115      0.459893   \n",
      "2              Incomplete higher  279772.472609   8.484966      0.440401   \n",
      "3                Lower secondary  279792.386268  10.927673      0.355870   \n",
      "4  Secondary / secondary special  278104.760700   8.939929      0.402365   \n",
      "\n",
      "   AMT_INCOME_TOTAL     AMT_CREDIT   AMT_ANNUITY  AMT_GOODS_PRICE  \\\n",
      "0     240009.146341  723515.625000  32490.576220    663118.902439   \n",
      "1     208652.053814  689950.456100  30803.771588    630312.415920   \n",
      "2     181563.812397  566730.559161  27277.146750    511996.416723   \n",
      "3     130079.358491  489748.561321  22699.948624    430405.220299   \n",
      "4     155158.512138  571193.392454  25906.980834    509922.132881   \n",
      "\n",
      "   REGION_POPULATION_RELATIVE    DAYS_BIRTH             ...              \\\n",
      "0                    0.025019 -16230.518293             ...               \n",
      "1                    0.022492 -15146.079532             ...               \n",
      "2                    0.022173 -12595.523596             ...               \n",
      "3                    0.018963 -17664.692872             ...               \n",
      "4                    0.020280 -16475.756643             ...               \n",
      "\n",
      "   FLAG_DOCUMENT_18  FLAG_DOCUMENT_19  FLAG_DOCUMENT_20  FLAG_DOCUMENT_21  \\\n",
      "0          0.012195          0.000000          0.000000          0.000000   \n",
      "1          0.013211          0.000801          0.000761          0.000294   \n",
      "2          0.011968          0.000778          0.001070          0.000681   \n",
      "3          0.003669          0.000262          0.000524          0.000262   \n",
      "4          0.006282          0.000522          0.000394          0.000334   \n",
      "\n",
      "   AMT_REQ_CREDIT_BUREAU_HOUR  AMT_REQ_CREDIT_BUREAU_DAY  \\\n",
      "0                    0.006944                   0.000000   \n",
      "1                    0.006497                   0.007234   \n",
      "2                    0.009537                   0.008025   \n",
      "3                    0.007311                   0.003497   \n",
      "4                    0.006210                   0.006934   \n",
      "\n",
      "   AMT_REQ_CREDIT_BUREAU_WEEK  AMT_REQ_CREDIT_BUREAU_MON  \\\n",
      "0                    0.034722                   0.458333   \n",
      "1                    0.033749                   0.317882   \n",
      "2                    0.033845                   0.322866   \n",
      "3                    0.027972                   0.166879   \n",
      "4                    0.034710                   0.248500   \n",
      "\n",
      "   AMT_REQ_CREDIT_BUREAU_QRT  AMT_REQ_CREDIT_BUREAU_YEAR  \n",
      "0                   0.215278                    1.395833  \n",
      "1                   0.260250                    1.682343  \n",
      "2                   0.259479                    1.847872  \n",
      "3                   0.255245                    1.911316  \n",
      "4                   0.267811                    1.979687  \n",
      "\n",
      "[5 rows x 107 columns]\n"
     ]
    },
    {
     "data": {
      "image/png": "[encoded data removed]",
      "text/plain": [
       "<Figure size 1800x720 with 1 Axes>"
      ]
     },
     "metadata": {
      "needs_background": "light"
     },
     "output_type": "display_data"
    }
   ],
   "source": [
    "#学歴ごとに返済率を算出\n",
    "non_repayment_rate_w_occupation = df_application.groupby(\"NAME_EDUCATION_TYPE\", as_index=False).mean()\n",
    "non_repayment_rate_w_occupation[\"TARGET\"] *= 100\n",
    "#non_repayment_rate_w_occupation[\"OCCUPATION_TYPE_LABEL\"] = [i for i in range(0, len(non_repayment_rate_w_occupation))]\n",
    "print(non_repayment_rate_w_occupation)\n",
    "\n",
    "#Bar plot\n",
    "plt.figure(figsize=(25,10))\n",
    "plt.bar(non_repayment_rate_w_occupation.index, non_repayment_rate_w_occupation[\"TARGET\"], color=\"Blue\")\n",
    "plt.xlabel(\"NAME_EDUCATION_TYPE\")\n",
    "plt.ylabel(\"Non-payment rate[%]\")\n",
    "plt.title(\"Non-payment rate\")\n",
    "#グラフ上に数値表示\n",
    "for x, y in zip(non_repayment_rate_w_occupation.index, non_repayment_rate_w_occupation[\"TARGET\"]):\n",
    "    plt.text(x, y, str(\"{:.2f}\").format(y), ha='center', va='bottom')\n",
    "\n",
    "plt.xticks(non_repayment_rate_w_occupation.index, non_repayment_rate_w_occupation[\"NAME_EDUCATION_TYPE\"]) #x軸を実際のデータラベルへ置き換え\n",
    "plt.show()"
   ]
  },
  {
   "cell_type": "code",
   "execution_count": 66,
   "metadata": {},
   "outputs": [
    {
     "name": "stdout",
     "output_type": "stream",
     "text": [
      "    CNT_CHILDREN     SK_ID_CURR      TARGET  AMT_INCOME_TOTAL    AMT_CREDIT  \\\n",
      "0              0  278241.087440    7.711809     166288.713566  5.991030e+05   \n",
      "1              1  277874.907917    8.923575     175664.465567  5.956403e+05   \n",
      "2              2  278910.119780    8.721821     172580.748737  6.048271e+05   \n",
      "3              3  275570.381759    9.631423     173948.262712  6.078956e+05   \n",
      "4              4  272406.734266   12.820513     170023.426573  6.182227e+05   \n",
      "5              5  263936.702381    8.333333     177780.000000  5.714609e+05   \n",
      "6              6  254632.047619   28.571429     144107.142857  5.237361e+05   \n",
      "7              7  281302.285714    0.000000     136928.571429  4.579444e+05   \n",
      "8              8  196781.000000    0.000000     108000.000000  4.975200e+05   \n",
      "9              9  274260.500000  100.000000     225000.000000  5.832855e+05   \n",
      "10            10  285179.500000    0.000000      67500.000000  1.049085e+05   \n",
      "11            11  140032.000000  100.000000     315000.000000  1.007762e+06   \n",
      "12            12  246087.500000    0.000000     281250.000000  4.743900e+05   \n",
      "13            14  342536.666667    0.000000     108000.000000  8.330700e+05   \n",
      "14            19  343992.500000    0.000000     112500.000000  2.022750e+05   \n",
      "\n",
      "     AMT_ANNUITY  AMT_GOODS_PRICE  REGION_POPULATION_RELATIVE    DAYS_BIRTH  \\\n",
      "0   26909.255771    539555.789917                    0.021079 -17089.259854   \n",
      "1   27458.945737    532641.818488                    0.020559 -13680.534973   \n",
      "2   27755.527777    541470.753873                    0.020090 -13324.829900   \n",
      "3   28095.100484    544021.034357                    0.019492 -13610.779392   \n",
      "4   28474.101399    552409.124122                    0.020211 -14000.946387   \n",
      "5   27647.464286    500892.857143                    0.020322 -14573.333333   \n",
      "6   24871.928571    444428.571429                    0.013420 -15672.238095   \n",
      "7   23312.571429    399214.285714                    0.018881 -15038.428571   \n",
      "8   26833.500000    450000.000000                    0.018768 -13182.000000   \n",
      "9   26696.250000    452250.000000                    0.010925 -12823.500000   \n",
      "10   8930.250000     90000.000000                    0.018529 -13255.000000   \n",
      "11  38515.500000    927000.000000                    0.010643 -17308.000000   \n",
      "12  34609.500000    438750.000000                    0.046220 -13993.500000   \n",
      "13  34980.000000    747000.000000                    0.017219 -17841.666667   \n",
      "14  11340.000000    180000.000000                    0.011121 -10677.000000   \n",
      "\n",
      "    DAYS_EMPLOYED             ...              FLAG_DOCUMENT_18  \\\n",
      "0    88772.652734             ...                      0.007684   \n",
      "1     6403.561560             ...                      0.009817   \n",
      "2     3102.721821             ...                      0.008038   \n",
      "3     6454.693032             ...                      0.007533   \n",
      "4    10514.797203             ...                      0.002331   \n",
      "5    10518.321429             ...                      0.011905   \n",
      "6    32555.333333             ...                      0.000000   \n",
      "7    -1048.142857             ...                      0.000000   \n",
      "8    -4897.500000             ...                      0.000000   \n",
      "9    -3026.500000             ...                      0.000000   \n",
      "10   -1084.500000             ...                      0.000000   \n",
      "11    -198.000000             ...                      0.000000   \n",
      "12   -2626.000000             ...                      0.000000   \n",
      "13  121004.666667             ...                      0.000000   \n",
      "14   -1374.500000             ...                      0.000000   \n",
      "\n",
      "    FLAG_DOCUMENT_19  FLAG_DOCUMENT_20  FLAG_DOCUMENT_21  \\\n",
      "0           0.000585          0.000460          0.000339   \n",
      "1           0.000589          0.000753          0.000442   \n",
      "2           0.000710          0.000336          0.000112   \n",
      "3           0.000269          0.000538          0.000000   \n",
      "4           0.002331          0.000000          0.000000   \n",
      "5           0.000000          0.000000          0.000000   \n",
      "6           0.000000          0.000000          0.000000   \n",
      "7           0.000000          0.000000          0.000000   \n",
      "8           0.000000          0.000000          0.000000   \n",
      "9           0.000000          0.000000          0.000000   \n",
      "10          0.000000          0.000000          0.000000   \n",
      "11          0.000000          0.000000          0.000000   \n",
      "12          0.000000          0.000000          0.000000   \n",
      "13          0.000000          0.000000          0.000000   \n",
      "14          0.000000          0.000000          0.000000   \n",
      "\n",
      "    AMT_REQ_CREDIT_BUREAU_HOUR  AMT_REQ_CREDIT_BUREAU_DAY  \\\n",
      "0                     0.006286                   0.007053   \n",
      "1                     0.007196                   0.006709   \n",
      "2                     0.005767                   0.007463   \n",
      "3                     0.004604                   0.004911   \n",
      "4                     0.008451                   0.011268   \n",
      "5                     0.000000                   0.013158   \n",
      "6                     0.000000                   0.000000   \n",
      "7                     0.000000                   0.000000   \n",
      "8                     0.000000                   0.000000   \n",
      "9                     0.000000                   0.000000   \n",
      "10                    0.000000                   0.000000   \n",
      "11                    0.000000                   0.000000   \n",
      "12                    0.000000                   0.000000   \n",
      "13                    0.000000                   0.000000   \n",
      "14                    0.000000                   0.000000   \n",
      "\n",
      "    AMT_REQ_CREDIT_BUREAU_WEEK  AMT_REQ_CREDIT_BUREAU_MON  \\\n",
      "0                     0.034631                   0.272227   \n",
      "1                     0.033994                   0.264664   \n",
      "2                     0.033753                   0.245728   \n",
      "3                     0.030387                   0.196440   \n",
      "4                     0.025352                   0.278873   \n",
      "5                     0.026316                   0.131579   \n",
      "6                     0.000000                   0.125000   \n",
      "7                     0.166667                   0.333333   \n",
      "8                     0.000000                   0.000000   \n",
      "9                     0.000000                   1.500000   \n",
      "10                    1.000000                   0.000000   \n",
      "11                    0.000000                   0.000000   \n",
      "12                    0.000000                   0.500000   \n",
      "13                    0.000000                   0.000000   \n",
      "14                    0.000000                   0.000000   \n",
      "\n",
      "    AMT_REQ_CREDIT_BUREAU_QRT  AMT_REQ_CREDIT_BUREAU_YEAR  \n",
      "0                    0.269783                    1.961813  \n",
      "1                    0.256456                    1.745549  \n",
      "2                    0.254378                    1.774371  \n",
      "3                    0.248619                    1.827502  \n",
      "4                    0.287324                    1.878873  \n",
      "5                    0.184211                    1.815789  \n",
      "6                    0.187500                    2.000000  \n",
      "7                    0.500000                    1.333333  \n",
      "8                    0.500000                    1.500000  \n",
      "9                    0.000000                    0.500000  \n",
      "10                   0.000000                    2.000000  \n",
      "11                   0.000000                    0.000000  \n",
      "12                   0.000000                    1.500000  \n",
      "13                   0.000000                    1.333333  \n",
      "14                   0.000000                    3.000000  \n",
      "\n",
      "[15 rows x 106 columns]\n"
     ]
    },
    {
     "data": {
      "image/png": "[encoded data removed]",
      "text/plain": [
       "<Figure size 1800x720 with 1 Axes>"
      ]
     },
     "metadata": {
      "needs_background": "light"
     },
     "output_type": "display_data"
    }
   ],
   "source": [
    "#子供の数ごとに返済率を算出\n",
    "non_repayment_rate_w_occupation = df_application.groupby(\"CNT_CHILDREN\", as_index=False).mean()\n",
    "non_repayment_rate_w_occupation[\"TARGET\"] *= 100\n",
    "#non_repayment_rate_w_occupation[\"OCCUPATION_TYPE_LABEL\"] = [i for i in range(0, len(non_repayment_rate_w_occupation))]\n",
    "print(non_repayment_rate_w_occupation)\n",
    "\n",
    "#Bar plot\n",
    "plt.figure(figsize=(25,10))\n",
    "plt.bar(non_repayment_rate_w_occupation.index, non_repayment_rate_w_occupation[\"TARGET\"], color=\"Blue\")\n",
    "plt.xlabel(\"CNT_CHILDREN\")\n",
    "plt.ylabel(\"Non-payment rate[%]\")\n",
    "plt.title(\"Non-payment rate\")\n",
    "#グラフ上に数値表示\n",
    "for x, y in zip(non_repayment_rate_w_occupation.index, non_repayment_rate_w_occupation[\"TARGET\"]):\n",
    "    plt.text(x, y, str(\"{:.2f}\").format(y), ha='center', va='bottom')\n",
    "\n",
    "plt.xticks(non_repayment_rate_w_occupation.index, non_repayment_rate_w_occupation[\"CNT_CHILDREN\"]) #x軸を実際のデータラベルへ置き換え\n",
    "plt.show()"
   ]
  },
  {
   "cell_type": "code",
   "execution_count": 59,
   "metadata": {},
   "outputs": [
    {
     "name": "stdout",
     "output_type": "stream",
     "text": [
      "          OCCUPATION_TYPE     SK_ID_CURR     TARGET  CNT_CHILDREN  \\\n",
      "0             Accountants  277197.344645   4.830327      0.488536   \n",
      "1          Cleaning staff  279890.247797   9.606705      0.363421   \n",
      "2           Cooking staff  277249.663808  10.443996      0.483855   \n",
      "3              Core staff  277981.296264   6.303954      0.558070   \n",
      "4                 Drivers  278369.686610  11.326130      0.511853   \n",
      "5                HR staff  277838.827709   6.394316      0.440497   \n",
      "6   High skill tech staff  279163.345782   6.159930      0.473989   \n",
      "7                IT staff  280464.347909   6.463878      0.397338   \n",
      "8                Laborers  277951.000979  10.578770      0.511742   \n",
      "9      Low-skill Laborers  277323.944099  17.152413      0.460105   \n",
      "10               Managers  278557.399139   6.214028      0.509522   \n",
      "11         Medicine staff  276504.129085   6.700246      0.500996   \n",
      "12  Private service staff  277683.879336   6.598793      0.514329   \n",
      "13          Realty agents  281014.407457   7.856192      0.511318   \n",
      "14            Sales staff  279136.773908   9.631799      0.502181   \n",
      "15            Secretaries  279208.548659   7.049808      0.519540   \n",
      "16         Security staff  276908.539205  10.742449      0.376283   \n",
      "17   Waiters/barmen staff  279728.885757  11.275964      0.452522   \n",
      "\n",
      "    AMT_INCOME_TOTAL     AMT_CREDIT   AMT_ANNUITY  AMT_GOODS_PRICE  \\\n",
      "0      194578.357842  709757.377255  30983.107216    648635.969547   \n",
      "1      130790.895551  510960.949710  22901.733075    449499.580250   \n",
      "2      138396.508176  539174.315843  25082.813793    476501.780303   \n",
      "3      172656.695254  625223.129380  27557.864032    565101.382805   \n",
      "4      187011.606413  612333.969037  29071.181970    547811.301641   \n",
      "5      188916.282416  684983.277975  30227.563055    621455.595027   \n",
      "6      182842.045683  642911.751538  28649.270762    581784.208821   \n",
      "7      213465.601711  647597.797529  29021.004753    593889.814286   \n",
      "8      166357.482525  570617.995597  26441.027001    507768.664136   \n",
      "9      133228.001911  458464.781653  23235.564023    398566.645554   \n",
      "10     260336.681717  775091.194516  34861.673093    710024.672218   \n",
      "11     149709.643434  607430.703057  25872.590265    540670.351724   \n",
      "12     182334.812783  630664.503394  29261.735294    566387.894637   \n",
      "13     195003.994674  655275.649134  30228.651132    587232.485353   \n",
      "14     152302.874710  563258.492088  26130.588533    504524.086218   \n",
      "15     160541.662069  593520.413793  26853.325537    533820.465517   \n",
      "16     149662.695953  557080.293334  25065.525000    493276.323030   \n",
      "17     144272.583828  491451.966988  24256.729228    438908.255572   \n",
      "\n",
      "    REGION_POPULATION_RELATIVE    DAYS_BIRTH             ...              \\\n",
      "0                     0.022154 -14795.827779             ...               \n",
      "1                     0.019903 -17277.854073             ...               \n",
      "2                     0.019635 -15145.885133             ...               \n",
      "3                     0.020895 -14109.967247             ...               \n",
      "4                     0.020876 -15103.108531             ...               \n",
      "5                     0.022496 -14351.847247             ...               \n",
      "6                     0.022056 -14756.073989             ...               \n",
      "7                     0.023980 -12882.133080             ...               \n",
      "8                     0.020157 -14707.086453             ...               \n",
      "9                     0.019270 -14217.544673             ...               \n",
      "10                    0.022397 -15375.125918             ...               \n",
      "11                    0.019772 -15560.841513             ...               \n",
      "12                    0.022308 -14240.952112             ...               \n",
      "13                    0.021741 -13978.346205             ...               \n",
      "14                    0.019948 -14030.848203             ...               \n",
      "15                    0.022413 -13994.684291             ...               \n",
      "16                    0.019620 -16532.951049             ...               \n",
      "17                    0.019831 -13054.165430             ...               \n",
      "\n",
      "    FLAG_DOCUMENT_18  FLAG_DOCUMENT_19  FLAG_DOCUMENT_20  FLAG_DOCUMENT_21  \\\n",
      "0           0.008968          0.001427          0.001630          0.000102   \n",
      "1           0.005373          0.000215          0.000000          0.000000   \n",
      "2           0.007736          0.000505          0.000505          0.000168   \n",
      "3           0.016104          0.000762          0.000653          0.000218   \n",
      "4           0.008493          0.000699          0.000645          0.000591   \n",
      "5           0.008881          0.000000          0.000000          0.000000   \n",
      "6           0.012302          0.000967          0.000615          0.000703   \n",
      "7           0.028517          0.000000          0.003802          0.000000   \n",
      "8           0.010419          0.000779          0.000598          0.000616   \n",
      "9           0.003822          0.000000          0.000000          0.000478   \n",
      "10          0.009218          0.000936          0.000608          0.000234   \n",
      "11          0.013354          0.000351          0.000234          0.000000   \n",
      "12          0.000754          0.001508          0.001508          0.000000   \n",
      "13          0.003995          0.000000          0.000000          0.000000   \n",
      "14          0.006292          0.000436          0.000623          0.000280   \n",
      "15          0.016092          0.000766          0.000766          0.000000   \n",
      "16          0.006844          0.000744          0.000446          0.000595   \n",
      "17          0.007418          0.000742          0.000742          0.000000   \n",
      "\n",
      "    AMT_REQ_CREDIT_BUREAU_HOUR  AMT_REQ_CREDIT_BUREAU_DAY  \\\n",
      "0                     0.007187                   0.006731   \n",
      "1                     0.006815                   0.004291   \n",
      "2                     0.005100                   0.005492   \n",
      "3                     0.006518                   0.007133   \n",
      "4                     0.006948                   0.008138   \n",
      "5                     0.013917                   0.011928   \n",
      "6                     0.006681                   0.006582   \n",
      "7                     0.012987                   0.002165   \n",
      "8                     0.006161                   0.007026   \n",
      "9                     0.004329                   0.003092   \n",
      "10                    0.007244                   0.007348   \n",
      "11                    0.007263                   0.007912   \n",
      "12                    0.005835                   0.008079   \n",
      "13                    0.001587                   0.001587   \n",
      "14                    0.005798                   0.006802   \n",
      "15                    0.009615                   0.005245   \n",
      "16                    0.005430                   0.006131   \n",
      "17                    0.004517                   0.005420   \n",
      "\n",
      "    AMT_REQ_CREDIT_BUREAU_WEEK  AMT_REQ_CREDIT_BUREAU_MON  \\\n",
      "0                     0.032512                   0.336185   \n",
      "1                     0.031802                   0.245331   \n",
      "2                     0.031385                   0.221656   \n",
      "3                     0.033370                   0.286886   \n",
      "4                     0.030610                   0.274429   \n",
      "5                     0.037773                   0.330020   \n",
      "6                     0.032310                   0.320901   \n",
      "7                     0.028139                   0.290043   \n",
      "8                     0.034073                   0.276277   \n",
      "9                     0.026592                   0.196660   \n",
      "10                    0.033719                   0.329425   \n",
      "11                    0.033593                   0.263813   \n",
      "12                    0.043986                   0.309695   \n",
      "13                    0.034921                   0.230159   \n",
      "14                    0.036759                   0.239101   \n",
      "15                    0.030594                   0.314685   \n",
      "16                    0.037660                   0.276406   \n",
      "17                    0.040650                   0.217706   \n",
      "\n",
      "    AMT_REQ_CREDIT_BUREAU_QRT  AMT_REQ_CREDIT_BUREAU_YEAR  \n",
      "0                    0.287588                    1.710815  \n",
      "1                    0.275618                    2.200404  \n",
      "2                    0.253629                    1.979600  \n",
      "3                    0.251507                    1.682204  \n",
      "4                    0.259155                    1.900720  \n",
      "5                    0.284294                    1.725646  \n",
      "6                    0.257080                    1.721480  \n",
      "7                    0.261905                    1.523810  \n",
      "8                    0.252648                    1.910481  \n",
      "9                    0.276438                    2.084725  \n",
      "10                   0.250521                    1.751251  \n",
      "11                   0.243580                    1.814527  \n",
      "12                   0.309695                    1.926391  \n",
      "13                   0.274603                    2.036508  \n",
      "14                   0.276937                    1.955882  \n",
      "15                   0.271853                    1.908217  \n",
      "16                   0.265020                    2.037835  \n",
      "17                   0.275519                    1.885276  \n",
      "\n",
      "[18 rows x 107 columns]\n"
     ]
    },
    {
     "data": {
      "image/png": "[encoded data removed]",
      "text/plain": [
       "<Figure size 1800x720 with 1 Axes>"
      ]
     },
     "metadata": {
      "needs_background": "light"
     },
     "output_type": "display_data"
    }
   ],
   "source": [
    "#職業ごとに返済率を算出\n",
    "non_repayment_rate_w_occupation = df_application.groupby(\"OCCUPATION_TYPE\", as_index=False).mean()\n",
    "non_repayment_rate_w_occupation[\"TARGET\"] *= 100\n",
    "#non_repayment_rate_w_occupation[\"OCCUPATION_TYPE_LABEL\"] = [i for i in range(0, len(non_repayment_rate_w_occupation))]\n",
    "print(non_repayment_rate_w_occupation)\n",
    "\n",
    "#Bar plot\n",
    "plt.figure(figsize=(25,10))\n",
    "plt.bar(non_repayment_rate_w_occupation.index, non_repayment_rate_w_occupation[\"TARGET\"], color=\"Blue\")\n",
    "plt.xlabel(\"OCCUPATION_TYPE\")\n",
    "plt.ylabel(\"Non-payment rate[%]\")\n",
    "plt.title(\"Non-payment rate\")\n",
    "\n",
    "#グラフ上に数値表示\n",
    "for x, y in zip(non_repayment_rate_w_occupation.index, non_repayment_rate_w_occupation[\"TARGET\"]):\n",
    "    plt.text(x, y, str(\"{:.2f}\").format(y), ha='center', va='bottom')\n",
    "\n",
    "plt.xticks(non_repayment_rate_w_occupation.index, non_repayment_rate_w_occupation[\"OCCUPATION_TYPE\"]) #x軸を実際のデータラベルへ置き換え\n",
    "plt.show()"
   ]
  },
  {
   "cell_type": "code",
   "execution_count": 63,
   "metadata": {},
   "outputs": [
    {
     "name": "stdout",
     "output_type": "stream",
     "text": [
      "     NAME_HOUSING_TYPE     SK_ID_CURR     TARGET  CNT_CHILDREN  \\\n",
      "0      Co-op apartment  278765.719251   7.932264      0.533868   \n",
      "1    House / apartment  278111.896254   7.795711      0.411719   \n",
      "2  Municipal apartment  277890.198694   8.539748      0.407494   \n",
      "3     Office apartment  278482.433703   6.572411      0.521972   \n",
      "4     Rented apartment  281031.256915  12.313051      0.487810   \n",
      "5         With parents  278625.958086  11.698113      0.471698   \n",
      "\n",
      "   AMT_INCOME_TOTAL     AMT_CREDIT   AMT_ANNUITY  AMT_GOODS_PRICE  \\\n",
      "0     167651.322193  579700.696524  26932.267380    523209.375000   \n",
      "1     169227.717311  605169.318500  27243.937345    544424.295919   \n",
      "2     168002.934007  599576.729321  26956.190395    529643.080333   \n",
      "3     187906.542988  626230.575086  28446.609859    562619.863480   \n",
      "4     167460.213891  525562.492624  25895.237090    470120.409967   \n",
      "5     158651.069555  506478.160916  24910.879549    453444.967380   \n",
      "\n",
      "   REGION_POPULATION_RELATIVE    DAYS_BIRTH             ...              \\\n",
      "0                    0.021787 -14219.887701             ...               \n",
      "1                    0.020858 -16319.097300             ...               \n",
      "2                    0.023801 -16587.052312             ...               \n",
      "3                    0.019184 -15196.409247             ...               \n",
      "4                    0.018657 -13113.981971             ...               \n",
      "5                    0.019801 -11682.404245             ...               \n",
      "\n",
      "   FLAG_DOCUMENT_18  FLAG_DOCUMENT_19  FLAG_DOCUMENT_20  FLAG_DOCUMENT_21  \\\n",
      "0          0.011586          0.000000          0.000891          0.000891   \n",
      "1          0.007601          0.000649          0.000513          0.000290   \n",
      "2          0.008763          0.000179          0.000447          0.000358   \n",
      "3          0.011846          0.000382          0.001146          0.000382   \n",
      "4          0.011268          0.000000          0.000205          0.001229   \n",
      "5          0.015431          0.000202          0.000404          0.000809   \n",
      "\n",
      "   AMT_REQ_CREDIT_BUREAU_HOUR  AMT_REQ_CREDIT_BUREAU_DAY  \\\n",
      "0                    0.011089                   0.005040   \n",
      "1                    0.006204                   0.006964   \n",
      "2                    0.008017                   0.007393   \n",
      "3                    0.007433                   0.006996   \n",
      "4                    0.008060                   0.007557   \n",
      "5                    0.007863                   0.007372   \n",
      "\n",
      "   AMT_REQ_CREDIT_BUREAU_WEEK  AMT_REQ_CREDIT_BUREAU_MON  \\\n",
      "0                    0.034274                   0.311492   \n",
      "1                    0.034685                   0.266771   \n",
      "2                    0.030925                   0.314869   \n",
      "3                    0.030171                   0.257543   \n",
      "4                    0.035768                   0.221411   \n",
      "5                    0.031125                   0.255385   \n",
      "\n",
      "   AMT_REQ_CREDIT_BUREAU_QRT  AMT_REQ_CREDIT_BUREAU_YEAR  \n",
      "0                   0.238911                    1.568548  \n",
      "1                   0.267239                    1.905339  \n",
      "2                   0.248126                    1.989588  \n",
      "3                   0.244425                    1.736336  \n",
      "4                   0.254156                    1.793703  \n",
      "5                   0.254648                    1.817512  \n",
      "\n",
      "[6 rows x 107 columns]\n"
     ]
    },
    {
     "data": {
      "image/png": "[encoded data removed]",
      "text/plain": [
       "<Figure size 1080x288 with 1 Axes>"
      ]
     },
     "metadata": {
      "needs_background": "light"
     },
     "output_type": "display_data"
    }
   ],
   "source": [
    "#居住状況毎に返済率を算出\n",
    "non_repayment_rate_w_housing_type = df_application.groupby(\"NAME_HOUSING_TYPE\", as_index=False).mean()\n",
    "non_repayment_rate_w_housing_type[\"TARGET\"] *= 100\n",
    "print(non_repayment_rate_w_housing_type)\n",
    "\n",
    "#Bar plot\n",
    "plt.figure(figsize=(15,4))\n",
    "plt.bar(non_repayment_rate_w_housing_type.index, non_repayment_rate_w_housing_type[\"TARGET\"], color=\"Blue\")\n",
    "plt.xlabel(\"NAME_HOUSING_TYPE\")\n",
    "plt.ylabel(\"Non-payment rate[%]\")\n",
    "plt.title(\"Non-payment rate\")\n",
    "#グラフ上に数値表示\n",
    "for x, y in zip(non_repayment_rate_w_housing_type.index, non_repayment_rate_w_housing_type[\"TARGET\"]):\n",
    "    plt.text(x, y, str(\"{:.2f}\").format(y), ha='center', va='bottom')\n",
    "\n",
    "plt.xticks(non_repayment_rate_w_housing_type.index, non_repayment_rate_w_housing_type[\"NAME_HOUSING_TYPE\"]) #x軸を実際のデータラベルへ置き換え\n",
    "plt.show()"
   ]
  },
  {
   "cell_type": "markdown",
   "metadata": {},
   "source": [
    "【EDA④の考察】\n",
    "車の所有:相関はほぼ見られない\n",
    "学歴:低学歴の方がDefault率が高くなるという明確な相関が見られる\n",
    "子供の数:子供の数が増えるとDefault率が高くなるように見えるが、数が増えるとサンプル数が極端に減るという前提があるので有効な特徴量とは言えない\n",
    "職業:Low skill laborはDefault率が突出して高く、他にもDriverなど高いスキルを必要としない職業については高い傾向がある\n",
    "居住状況:Rented Apartment、With parentsはDefault率が高め\n",
    "\n",
    "【EDA⑤】\n",
    "主観で気になったパラメータをピックアップしていくと偏りがある可能性があるので、全パラメータについて重要度の算出を行なって有意義な説明変数を見つけ出す→下記の感じでやりたかったが、うまくできなかったので今後の自分の成長に期待してこの課題はここで諦める"
   ]
  },
  {
   "cell_type": "code",
   "execution_count": 67,
   "metadata": {},
   "outputs": [],
   "source": [
    "from sklearn.ensemble import RandomForestClassifier\n",
    "model = RandomForestClassifier()"
   ]
  },
  {
   "cell_type": "code",
   "execution_count": 79,
   "metadata": {},
   "outputs": [],
   "source": [
    "#オブジェクト型データの尺度確認とエンコーディング\n",
    "object_data_home_credit = df_application.select_dtypes(['object'])\n",
    "#data_home_credit.head()\n",
    "#data_home_credit.info()\n",
    "object_data_home_credit.head()\n",
    "object_col_name = object_data_home_credit.columns.values\n",
    "array_object_to_int = np.array([object_data_home_credit[object_col_name[i]].unique() for i in range(0,len(object_col_name))])"
   ]
  },
  {
   "cell_type": "code",
   "execution_count": 81,
   "metadata": {},
   "outputs": [],
   "source": [
    "#オブジェクト型を数値に置き換え\n",
    "for i in range(0,len(array_object_to_int)):\n",
    "    for n in range(0,len(array_object_to_int[i])):\n",
    "        df_application_noobjyect = df_application.replace(array_object_to_int[i][n], n)"
   ]
  },
  {
   "cell_type": "code",
   "execution_count": 82,
   "metadata": {},
   "outputs": [
    {
     "ename": "ValueError",
     "evalue": "could not convert string to float: 'Working'",
     "output_type": "error",
     "traceback": [
      "\u001b[0;31m---------------------------------------------------------------------------\u001b[0m",
      "\u001b[0;31mValueError\u001b[0m                                Traceback (most recent call last)",
      "\u001b[0;32m<ipython-input-82-9e1b545d61b1>\u001b[0m in \u001b[0;36m<module>\u001b[0;34m\u001b[0m\n\u001b[1;32m      2\u001b[0m \u001b[0mtarget\u001b[0m \u001b[0;34m=\u001b[0m \u001b[0mdf_application\u001b[0m\u001b[0;34m[\u001b[0m\u001b[0;34m'TARGET'\u001b[0m\u001b[0;34m]\u001b[0m\u001b[0;34m\u001b[0m\u001b[0;34m\u001b[0m\u001b[0m\n\u001b[1;32m      3\u001b[0m \u001b[0mfeature\u001b[0m \u001b[0;34m=\u001b[0m \u001b[0mdf_application\u001b[0m\u001b[0;34m.\u001b[0m\u001b[0miloc\u001b[0m\u001b[0;34m[\u001b[0m\u001b[0;34m:\u001b[0m\u001b[0;34m,\u001b[0m\u001b[0;36m1\u001b[0m\u001b[0;34m:\u001b[0m\u001b[0mlen\u001b[0m\u001b[0;34m(\u001b[0m\u001b[0mdf_application\u001b[0m\u001b[0;34m.\u001b[0m\u001b[0mcolumns\u001b[0m\u001b[0;34m)\u001b[0m\u001b[0;34m]\u001b[0m\u001b[0;34m\u001b[0m\u001b[0;34m\u001b[0m\u001b[0m\n\u001b[0;32m----> 4\u001b[0;31m \u001b[0mmodel\u001b[0m\u001b[0;34m.\u001b[0m\u001b[0mfit\u001b[0m\u001b[0;34m(\u001b[0m\u001b[0mfeature\u001b[0m\u001b[0;34m,\u001b[0m \u001b[0mtarget\u001b[0m\u001b[0;34m)\u001b[0m\u001b[0;34m\u001b[0m\u001b[0;34m\u001b[0m\u001b[0m\n\u001b[0m\u001b[1;32m      5\u001b[0m \"\"\"\n\u001b[1;32m      6\u001b[0m \u001b[0mprint\u001b[0m\u001b[0;34m(\u001b[0m\u001b[0;34m\"  特徴量   :   重要度\"\u001b[0m\u001b[0;34m)\u001b[0m\u001b[0;34m\u001b[0m\u001b[0;34m\u001b[0m\u001b[0m\n",
      "\u001b[0;32m~/.pyenv/versions/anaconda3-4.3.0/lib/python3.6/site-packages/sklearn/ensemble/forest.py\u001b[0m in \u001b[0;36mfit\u001b[0;34m(self, X, y, sample_weight)\u001b[0m\n\u001b[1;32m    248\u001b[0m \u001b[0;34m\u001b[0m\u001b[0m\n\u001b[1;32m    249\u001b[0m         \u001b[0;31m# Validate or convert input data\u001b[0m\u001b[0;34m\u001b[0m\u001b[0;34m\u001b[0m\u001b[0;34m\u001b[0m\u001b[0m\n\u001b[0;32m--> 250\u001b[0;31m         \u001b[0mX\u001b[0m \u001b[0;34m=\u001b[0m \u001b[0mcheck_array\u001b[0m\u001b[0;34m(\u001b[0m\u001b[0mX\u001b[0m\u001b[0;34m,\u001b[0m \u001b[0maccept_sparse\u001b[0m\u001b[0;34m=\u001b[0m\u001b[0;34m\"csc\"\u001b[0m\u001b[0;34m,\u001b[0m \u001b[0mdtype\u001b[0m\u001b[0;34m=\u001b[0m\u001b[0mDTYPE\u001b[0m\u001b[0;34m)\u001b[0m\u001b[0;34m\u001b[0m\u001b[0;34m\u001b[0m\u001b[0m\n\u001b[0m\u001b[1;32m    251\u001b[0m         \u001b[0my\u001b[0m \u001b[0;34m=\u001b[0m \u001b[0mcheck_array\u001b[0m\u001b[0;34m(\u001b[0m\u001b[0my\u001b[0m\u001b[0;34m,\u001b[0m \u001b[0maccept_sparse\u001b[0m\u001b[0;34m=\u001b[0m\u001b[0;34m'csc'\u001b[0m\u001b[0;34m,\u001b[0m \u001b[0mensure_2d\u001b[0m\u001b[0;34m=\u001b[0m\u001b[0;32mFalse\u001b[0m\u001b[0;34m,\u001b[0m \u001b[0mdtype\u001b[0m\u001b[0;34m=\u001b[0m\u001b[0;32mNone\u001b[0m\u001b[0;34m)\u001b[0m\u001b[0;34m\u001b[0m\u001b[0;34m\u001b[0m\u001b[0m\n\u001b[1;32m    252\u001b[0m         \u001b[0;32mif\u001b[0m \u001b[0msample_weight\u001b[0m \u001b[0;32mis\u001b[0m \u001b[0;32mnot\u001b[0m \u001b[0;32mNone\u001b[0m\u001b[0;34m:\u001b[0m\u001b[0;34m\u001b[0m\u001b[0;34m\u001b[0m\u001b[0m\n",
      "\u001b[0;32m~/.pyenv/versions/anaconda3-4.3.0/lib/python3.6/site-packages/sklearn/utils/validation.py\u001b[0m in \u001b[0;36mcheck_array\u001b[0;34m(array, accept_sparse, accept_large_sparse, dtype, order, copy, force_all_finite, ensure_2d, allow_nd, ensure_min_samples, ensure_min_features, warn_on_dtype, estimator)\u001b[0m\n\u001b[1;32m    525\u001b[0m             \u001b[0;32mtry\u001b[0m\u001b[0;34m:\u001b[0m\u001b[0;34m\u001b[0m\u001b[0;34m\u001b[0m\u001b[0m\n\u001b[1;32m    526\u001b[0m                 \u001b[0mwarnings\u001b[0m\u001b[0;34m.\u001b[0m\u001b[0msimplefilter\u001b[0m\u001b[0;34m(\u001b[0m\u001b[0;34m'error'\u001b[0m\u001b[0;34m,\u001b[0m \u001b[0mComplexWarning\u001b[0m\u001b[0;34m)\u001b[0m\u001b[0;34m\u001b[0m\u001b[0;34m\u001b[0m\u001b[0m\n\u001b[0;32m--> 527\u001b[0;31m                 \u001b[0marray\u001b[0m \u001b[0;34m=\u001b[0m \u001b[0mnp\u001b[0m\u001b[0;34m.\u001b[0m\u001b[0masarray\u001b[0m\u001b[0;34m(\u001b[0m\u001b[0marray\u001b[0m\u001b[0;34m,\u001b[0m \u001b[0mdtype\u001b[0m\u001b[0;34m=\u001b[0m\u001b[0mdtype\u001b[0m\u001b[0;34m,\u001b[0m \u001b[0morder\u001b[0m\u001b[0;34m=\u001b[0m\u001b[0morder\u001b[0m\u001b[0;34m)\u001b[0m\u001b[0;34m\u001b[0m\u001b[0;34m\u001b[0m\u001b[0m\n\u001b[0m\u001b[1;32m    528\u001b[0m             \u001b[0;32mexcept\u001b[0m \u001b[0mComplexWarning\u001b[0m\u001b[0;34m:\u001b[0m\u001b[0;34m\u001b[0m\u001b[0;34m\u001b[0m\u001b[0m\n\u001b[1;32m    529\u001b[0m                 raise ValueError(\"Complex data not supported\\n\"\n",
      "\u001b[0;32m~/.pyenv/versions/anaconda3-4.3.0/lib/python3.6/site-packages/numpy/core/numeric.py\u001b[0m in \u001b[0;36masarray\u001b[0;34m(a, dtype, order)\u001b[0m\n\u001b[1;32m    499\u001b[0m \u001b[0;34m\u001b[0m\u001b[0m\n\u001b[1;32m    500\u001b[0m     \"\"\"\n\u001b[0;32m--> 501\u001b[0;31m     \u001b[0;32mreturn\u001b[0m \u001b[0marray\u001b[0m\u001b[0;34m(\u001b[0m\u001b[0ma\u001b[0m\u001b[0;34m,\u001b[0m \u001b[0mdtype\u001b[0m\u001b[0;34m,\u001b[0m \u001b[0mcopy\u001b[0m\u001b[0;34m=\u001b[0m\u001b[0;32mFalse\u001b[0m\u001b[0;34m,\u001b[0m \u001b[0morder\u001b[0m\u001b[0;34m=\u001b[0m\u001b[0morder\u001b[0m\u001b[0;34m)\u001b[0m\u001b[0;34m\u001b[0m\u001b[0;34m\u001b[0m\u001b[0m\n\u001b[0m\u001b[1;32m    502\u001b[0m \u001b[0;34m\u001b[0m\u001b[0m\n\u001b[1;32m    503\u001b[0m \u001b[0;34m\u001b[0m\u001b[0m\n",
      "\u001b[0;31mValueError\u001b[0m: could not convert string to float: 'Working'"
     ]
    }
   ],
   "source": [
    "#ランダムフォレストを使って各パラメータの重要度を調べる\n",
    "target = df_application['TARGET']\n",
    "feature = df_application.iloc[:,1:len(df_application.columns)]\n",
    "model.fit(feature, target)\n",
    "\"\"\"\n",
    "print(\"  特徴量   :   重要度\")\n",
    "for i in range(0, len(feature.columns.values)):\n",
    "               print(\"{} : {:.3f}\".format(feature.columns.values[i], model.feature_importances_[i]))\n",
    "\"\"\""
   ]
  },
  {
   "cell_type": "code",
   "execution_count": 73,
   "metadata": {},
   "outputs": [
    {
     "ename": "NotFittedError",
     "evalue": "This RandomForestClassifier instance is not fitted yet. Call 'fit' with appropriate arguments before using this method.",
     "output_type": "error",
     "traceback": [
      "\u001b[0;31m---------------------------------------------------------------------------\u001b[0m",
      "\u001b[0;31mNotFittedError\u001b[0m                            Traceback (most recent call last)",
      "\u001b[0;32m<ipython-input-73-617da157ee5f>\u001b[0m in \u001b[0;36m<module>\u001b[0;34m\u001b[0m\n\u001b[0;32m----> 1\u001b[0;31m \u001b[0mrank\u001b[0m \u001b[0;34m=\u001b[0m \u001b[0mnp\u001b[0m\u001b[0;34m.\u001b[0m\u001b[0margsort\u001b[0m\u001b[0;34m(\u001b[0m\u001b[0;34m-\u001b[0m\u001b[0mmodel\u001b[0m\u001b[0;34m.\u001b[0m\u001b[0mfeature_importances_\u001b[0m\u001b[0;34m)\u001b[0m\u001b[0;34m\u001b[0m\u001b[0;34m\u001b[0m\u001b[0m\n\u001b[0m\u001b[1;32m      2\u001b[0m \u001b[0mf\u001b[0m\u001b[0;34m,\u001b[0m \u001b[0max\u001b[0m \u001b[0;34m=\u001b[0m \u001b[0mplt\u001b[0m\u001b[0;34m.\u001b[0m\u001b[0msubplots\u001b[0m\u001b[0;34m(\u001b[0m\u001b[0mfigsize\u001b[0m\u001b[0;34m=\u001b[0m\u001b[0;34m(\u001b[0m\u001b[0;36m11\u001b[0m\u001b[0;34m,\u001b[0m \u001b[0;36m11\u001b[0m\u001b[0;34m)\u001b[0m\u001b[0;34m)\u001b[0m\u001b[0;34m\u001b[0m\u001b[0;34m\u001b[0m\u001b[0m\n\u001b[1;32m      3\u001b[0m \u001b[0msb\u001b[0m\u001b[0;34m.\u001b[0m\u001b[0mbarplot\u001b[0m\u001b[0;34m(\u001b[0m\u001b[0mx\u001b[0m\u001b[0;34m=\u001b[0m\u001b[0mmodel\u001b[0m\u001b[0;34m.\u001b[0m\u001b[0mfeature_importances_\u001b[0m\u001b[0;34m[\u001b[0m\u001b[0mrank\u001b[0m\u001b[0;34m]\u001b[0m\u001b[0;34m,\u001b[0m \u001b[0my\u001b[0m\u001b[0;34m=\u001b[0m\u001b[0mdata_home_credit\u001b[0m\u001b[0;34m.\u001b[0m\u001b[0mcolumns\u001b[0m\u001b[0;34m.\u001b[0m\u001b[0mvalues\u001b[0m\u001b[0;34m[\u001b[0m\u001b[0mrank\u001b[0m\u001b[0;34m]\u001b[0m\u001b[0;34m,\u001b[0m \u001b[0morient\u001b[0m\u001b[0;34m=\u001b[0m\u001b[0;34m'h'\u001b[0m\u001b[0;34m)\u001b[0m\u001b[0;34m\u001b[0m\u001b[0;34m\u001b[0m\u001b[0m\n\u001b[1;32m      4\u001b[0m \u001b[0max\u001b[0m\u001b[0;34m.\u001b[0m\u001b[0mset_xlabel\u001b[0m\u001b[0;34m(\u001b[0m\u001b[0;34m\"Importance\"\u001b[0m\u001b[0;34m)\u001b[0m\u001b[0;34m\u001b[0m\u001b[0;34m\u001b[0m\u001b[0m\n\u001b[1;32m      5\u001b[0m \u001b[0mplt\u001b[0m\u001b[0;34m.\u001b[0m\u001b[0mtight_layout\u001b[0m\u001b[0;34m(\u001b[0m\u001b[0;34m)\u001b[0m\u001b[0;34m\u001b[0m\u001b[0;34m\u001b[0m\u001b[0m\n",
      "\u001b[0;32m~/.pyenv/versions/anaconda3-4.3.0/lib/python3.6/site-packages/sklearn/ensemble/forest.py\u001b[0m in \u001b[0;36mfeature_importances_\u001b[0;34m(self)\u001b[0m\n\u001b[1;32m    371\u001b[0m         \u001b[0mfeature_importances_\u001b[0m \u001b[0;34m:\u001b[0m \u001b[0marray\u001b[0m\u001b[0;34m,\u001b[0m \u001b[0mshape\u001b[0m \u001b[0;34m=\u001b[0m \u001b[0;34m[\u001b[0m\u001b[0mn_features\u001b[0m\u001b[0;34m]\u001b[0m\u001b[0;34m\u001b[0m\u001b[0;34m\u001b[0m\u001b[0m\n\u001b[1;32m    372\u001b[0m         \"\"\"\n\u001b[0;32m--> 373\u001b[0;31m         \u001b[0mcheck_is_fitted\u001b[0m\u001b[0;34m(\u001b[0m\u001b[0mself\u001b[0m\u001b[0;34m,\u001b[0m \u001b[0;34m'estimators_'\u001b[0m\u001b[0;34m)\u001b[0m\u001b[0;34m\u001b[0m\u001b[0;34m\u001b[0m\u001b[0m\n\u001b[0m\u001b[1;32m    374\u001b[0m \u001b[0;34m\u001b[0m\u001b[0m\n\u001b[1;32m    375\u001b[0m         all_importances = Parallel(n_jobs=self.n_jobs,\n",
      "\u001b[0;32m~/.pyenv/versions/anaconda3-4.3.0/lib/python3.6/site-packages/sklearn/utils/validation.py\u001b[0m in \u001b[0;36mcheck_is_fitted\u001b[0;34m(estimator, attributes, msg, all_or_any)\u001b[0m\n\u001b[1;32m    949\u001b[0m \u001b[0;34m\u001b[0m\u001b[0m\n\u001b[1;32m    950\u001b[0m     \u001b[0;32mif\u001b[0m \u001b[0;32mnot\u001b[0m \u001b[0mall_or_any\u001b[0m\u001b[0;34m(\u001b[0m\u001b[0;34m[\u001b[0m\u001b[0mhasattr\u001b[0m\u001b[0;34m(\u001b[0m\u001b[0mestimator\u001b[0m\u001b[0;34m,\u001b[0m \u001b[0mattr\u001b[0m\u001b[0;34m)\u001b[0m \u001b[0;32mfor\u001b[0m \u001b[0mattr\u001b[0m \u001b[0;32min\u001b[0m \u001b[0mattributes\u001b[0m\u001b[0;34m]\u001b[0m\u001b[0;34m)\u001b[0m\u001b[0;34m:\u001b[0m\u001b[0;34m\u001b[0m\u001b[0;34m\u001b[0m\u001b[0m\n\u001b[0;32m--> 951\u001b[0;31m         \u001b[0;32mraise\u001b[0m \u001b[0mNotFittedError\u001b[0m\u001b[0;34m(\u001b[0m\u001b[0mmsg\u001b[0m \u001b[0;34m%\u001b[0m \u001b[0;34m{\u001b[0m\u001b[0;34m'name'\u001b[0m\u001b[0;34m:\u001b[0m \u001b[0mtype\u001b[0m\u001b[0;34m(\u001b[0m\u001b[0mestimator\u001b[0m\u001b[0;34m)\u001b[0m\u001b[0;34m.\u001b[0m\u001b[0m__name__\u001b[0m\u001b[0;34m}\u001b[0m\u001b[0;34m)\u001b[0m\u001b[0;34m\u001b[0m\u001b[0;34m\u001b[0m\u001b[0m\n\u001b[0m\u001b[1;32m    952\u001b[0m \u001b[0;34m\u001b[0m\u001b[0m\n\u001b[1;32m    953\u001b[0m \u001b[0;34m\u001b[0m\u001b[0m\n",
      "\u001b[0;31mNotFittedError\u001b[0m: This RandomForestClassifier instance is not fitted yet. Call 'fit' with appropriate arguments before using this method."
     ]
    }
   ],
   "source": [
    "rank = np.argsort(-model.feature_importances_)\n",
    "f, ax = plt.subplots(figsize=(11, 11)) \n",
    "sb.barplot(x=model.feature_importances_[rank], y=data_home_credit.columns.values[rank], orient='h')\n",
    "ax.set_xlabel(\"Importance\")\n",
    "plt.tight_layout()\n",
    "plt.show()"
   ]
  },
  {
   "cell_type": "code",
   "execution_count": 76,
   "metadata": {},
   "outputs": [
    {
     "ename": "NameError",
     "evalue": "name 'rank' is not defined",
     "output_type": "error",
     "traceback": [
      "\u001b[0;31m---------------------------------------------------------------------------\u001b[0m",
      "\u001b[0;31mNameError\u001b[0m                                 Traceback (most recent call last)",
      "\u001b[0;32m<ipython-input-76-ef7cf5e68ab3>\u001b[0m in \u001b[0;36m<module>\u001b[0;34m\u001b[0m\n\u001b[1;32m      1\u001b[0m \u001b[0;31m#上位10個の特徴量を抽出\u001b[0m\u001b[0;34m\u001b[0m\u001b[0;34m\u001b[0m\u001b[0;34m\u001b[0m\u001b[0m\n\u001b[1;32m      2\u001b[0m \u001b[0;32mfor\u001b[0m \u001b[0mi\u001b[0m \u001b[0;32min\u001b[0m \u001b[0mrange\u001b[0m\u001b[0;34m(\u001b[0m\u001b[0;36m0\u001b[0m\u001b[0;34m,\u001b[0m \u001b[0;36m10\u001b[0m\u001b[0;34m)\u001b[0m\u001b[0;34m:\u001b[0m\u001b[0;34m\u001b[0m\u001b[0;34m\u001b[0m\u001b[0m\n\u001b[0;32m----> 3\u001b[0;31m     \u001b[0mprint\u001b[0m\u001b[0;34m(\u001b[0m\u001b[0;34m\"Rank{} => {} (Importance={:.3f})\"\u001b[0m\u001b[0;34m.\u001b[0m\u001b[0mformat\u001b[0m\u001b[0;34m(\u001b[0m\u001b[0mi\u001b[0m\u001b[0;34m+\u001b[0m\u001b[0;36m1\u001b[0m\u001b[0;34m,\u001b[0m \u001b[0mdf_application\u001b[0m\u001b[0;34m.\u001b[0m\u001b[0mcolumns\u001b[0m\u001b[0;34m.\u001b[0m\u001b[0mvalues\u001b[0m\u001b[0;34m[\u001b[0m\u001b[0mrank\u001b[0m\u001b[0;34m[\u001b[0m\u001b[0mi\u001b[0m\u001b[0;34m]\u001b[0m\u001b[0;34m]\u001b[0m\u001b[0;34m,\u001b[0m \u001b[0mmodel\u001b[0m\u001b[0;34m.\u001b[0m\u001b[0mfeature_importances_\u001b[0m\u001b[0;34m[\u001b[0m\u001b[0mrank\u001b[0m\u001b[0;34m[\u001b[0m\u001b[0mi\u001b[0m\u001b[0;34m]\u001b[0m\u001b[0;34m]\u001b[0m\u001b[0;34m)\u001b[0m\u001b[0;34m)\u001b[0m\u001b[0;34m\u001b[0m\u001b[0;34m\u001b[0m\u001b[0m\n\u001b[0m",
      "\u001b[0;31mNameError\u001b[0m: name 'rank' is not defined"
     ]
    }
   ],
   "source": [
    "#上位10個の特徴量を抽出\n",
    "for i in range(0, 10):\n",
    "    print(\"Rank{} => {} (Importance={:.3f})\".format(i+1, df_application.columns.values[rank[i]], model.feature_importances_[rank[i]]))"
   ]
  },
  {
   "cell_type": "code",
   "execution_count": null,
   "metadata": {},
   "outputs": [],
   "source": []
  },
  {
   "cell_type": "markdown",
   "metadata": {},
   "source": [
    "## 【問題5】（アドバンス課題）カーネルへの投稿"
   ]
  },
  {
   "cell_type": "code",
   "execution_count": null,
   "metadata": {
    "collapsed": true
   },
   "outputs": [],
   "source": [
    "Kaggleのカーネルに今回行ったEDAを投稿してみましょう。英語の文章を書くことが難しい場合は、機械翻訳サービスを活用するなどでも構いません。"
   ]
  }
 ],
 "metadata": {
  "kernelspec": {
   "display_name": "Python 3",
   "language": "python",
   "name": "python3"
  },
  "language_info": {
   "codemirror_mode": {
    "name": "ipython",
    "version": 3
   },
   "file_extension": ".py",
   "mimetype": "text/x-python",
   "name": "python",
   "nbconvert_exporter": "python",
   "pygments_lexer": "ipython3",
   "version": "3.6.7"
  }
 },
 "nbformat": 4,
 "nbformat_minor": 2
}
